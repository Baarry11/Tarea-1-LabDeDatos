{
 "cells": [
  {
   "cell_type": "code",
   "execution_count": 1,
   "metadata": {
    "ExecuteTime": {
     "end_time": "2020-05-10T09:36:45.698180Z",
     "start_time": "2020-05-10T09:36:45.132883Z"
    }
   },
   "outputs": [],
   "source": [
    "import numpy as np\n",
    "import pandas as pd"
   ]
  },
  {
   "cell_type": "markdown",
   "metadata": {},
   "source": [
    "# P1 Carga y Limpieza de datos"
   ]
  },
  {
   "cell_type": "markdown",
   "metadata": {},
   "source": [
    "### 1- . Carga"
   ]
  },
  {
   "cell_type": "code",
   "execution_count": 2,
   "metadata": {
    "ExecuteTime": {
     "end_time": "2020-05-10T09:36:45.710089Z",
     "start_time": "2020-05-10T09:36:45.700114Z"
    },
    "scrolled": true
   },
   "outputs": [],
   "source": [
    "def obtener_semana(week):\n",
    "    week = str(week)\n",
    "    # Traemos los dataframe\n",
    "    all_info = pd.read_csv('./data/raw/w'+week+'/metrocuadrado_all_w'+week+'.csv')\n",
    "    all_info.drop_duplicates(inplace = True)\n",
    "    furnished = pd.read_csv('./data/raw/w'+week+'/metrocuadrado_furnished_w'+week+'.csv')\n",
    "    furnished.drop_duplicates(inplace = True)\n",
    "    \n",
    "    # Merge que identifica furnished dentro de all_info\n",
    "    df = pd.merge(all_info,furnished, on = ['property_type|rent_type|location','details'\n",
    "                                            ,'url','surface','price'],\n",
    "                  how= 'outer', indicator=True)\n",
    "    df.rename(columns={'n_rooms_x': 'n_rooms', 'n_bath_x': 'n_bath',\n",
    "                       'metrocuadrado_index_x': 'metro_cuadrado'},inplace=True)\n",
    "    \n",
    "    # Indices que solo hay en furnished\n",
    "    indices = df[df._merge == 'right_only'].index\n",
    "    for i in indices:\n",
    "        df.loc[i,'n_rooms'] = df.loc[i,'n_rooms_y']\n",
    "        df.loc[i,'n_bath'] = df.loc[i,'n_bath_y']\n",
    "        df.loc[i,'metro_cuadrado'] = df.loc[i,'metrocuadrado_index_y']\n",
    "    \n",
    "    # Dropeamos los _y\n",
    "    df.drop(['n_rooms_y','n_bath_y','metrocuadrado_index_y'],axis=1,inplace=True)\n",
    "    \n",
    "    # Dropeamos los duplicados y reseatmos indice\n",
    "    df.drop_duplicates(inplace = True)\n",
    "    df.reset_index(drop=True,inplace=True)\n",
    "    \n",
    "    return df"
   ]
  },
  {
   "cell_type": "code",
   "execution_count": 3,
   "metadata": {
    "ExecuteTime": {
     "end_time": "2020-05-10T09:36:45.872846Z",
     "start_time": "2020-05-10T09:36:45.713081Z"
    }
   },
   "outputs": [],
   "source": [
    "def append_dataframes():\n",
    "    week_list = range(13,18)\n",
    "    df = pd.DataFrame()\n",
    "    \n",
    "    for week in week_list:\n",
    "        df = df.append(obtener_semana(week))\n",
    "     \n",
    "    df.drop_duplicates(inplace = True)\n",
    "    df.reset_index(drop=True,inplace=True)\n",
    "    return df"
   ]
  },
  {
   "cell_type": "code",
   "execution_count": 4,
   "metadata": {
    "ExecuteTime": {
     "end_time": "2020-05-10T09:36:47.081781Z",
     "start_time": "2020-05-10T09:36:45.874838Z"
    },
    "scrolled": true
   },
   "outputs": [
    {
     "data": {
      "text/html": [
       "<div>\n",
       "<style scoped>\n",
       "    .dataframe tbody tr th:only-of-type {\n",
       "        vertical-align: middle;\n",
       "    }\n",
       "\n",
       "    .dataframe tbody tr th {\n",
       "        vertical-align: top;\n",
       "    }\n",
       "\n",
       "    .dataframe thead th {\n",
       "        text-align: right;\n",
       "    }\n",
       "</style>\n",
       "<table border=\"1\" class=\"dataframe\">\n",
       "  <thead>\n",
       "    <tr style=\"text-align: right;\">\n",
       "      <th></th>\n",
       "      <th>property_type|rent_type|location</th>\n",
       "      <th>price</th>\n",
       "      <th>n_rooms</th>\n",
       "      <th>n_bath</th>\n",
       "      <th>surface</th>\n",
       "      <th>details</th>\n",
       "      <th>url</th>\n",
       "      <th>metro_cuadrado</th>\n",
       "      <th>_merge</th>\n",
       "    </tr>\n",
       "  </thead>\n",
       "  <tbody>\n",
       "    <tr>\n",
       "      <th>0</th>\n",
       "      <td>Casa en Arriendo, LA SOLEDAD NORTE Bogotá D.C..</td>\n",
       "      <td>$1.050.000</td>\n",
       "      <td>3</td>\n",
       "      <td>2</td>\n",
       "      <td>63.0 m2</td>\n",
       "      <td>Excelente casa cerca de la calle 80 y Avenida ...</td>\n",
       "      <td>https://www.metrocuadrado.com/inmueble/arriend...</td>\n",
       "      <td>25.6</td>\n",
       "      <td>left_only</td>\n",
       "    </tr>\n",
       "    <tr>\n",
       "      <th>1</th>\n",
       "      <td>Casa en Arriendo, CIUDAD SALITRE SUR-ORIENTAL ...</td>\n",
       "      <td>$3.930.000</td>\n",
       "      <td>3</td>\n",
       "      <td>2</td>\n",
       "      <td>100.0 m2</td>\n",
       "      <td>Se arrienda casa bonita totalmente amoblada co...</td>\n",
       "      <td>https://www.metrocuadrado.com/inmueble/arriend...</td>\n",
       "      <td>57.3</td>\n",
       "      <td>both</td>\n",
       "    </tr>\n",
       "    <tr>\n",
       "      <th>2</th>\n",
       "      <td>Casa en Arriendo, VILLA DE LOS ALPES II SECTOR...</td>\n",
       "      <td>$750.000</td>\n",
       "      <td>3</td>\n",
       "      <td>1</td>\n",
       "      <td>90.0 m2</td>\n",
       "      <td>CASA DE TRES NIVELES TRES ALCOBAS SALA COMEDOR...</td>\n",
       "      <td>https://www.metrocuadrado.com/inmueble/arriend...</td>\n",
       "      <td>12.2</td>\n",
       "      <td>left_only</td>\n",
       "    </tr>\n",
       "    <tr>\n",
       "      <th>3</th>\n",
       "      <td>Casa en Arriendo, PARIS GAITAN Bogotá D.C..</td>\n",
       "      <td>$3.400.000</td>\n",
       "      <td>5</td>\n",
       "      <td>4</td>\n",
       "      <td>71.0 m2</td>\n",
       "      <td>casa ezquinera excelente ubicacion cinco alcob...</td>\n",
       "      <td>https://www.metrocuadrado.com/inmueble/arriend...</td>\n",
       "      <td>56.0</td>\n",
       "      <td>left_only</td>\n",
       "    </tr>\n",
       "    <tr>\n",
       "      <th>4</th>\n",
       "      <td>Casa en Arriendo, BALCONES DE ORIENTE Bogotá D...</td>\n",
       "      <td>$1.560.000</td>\n",
       "      <td>4</td>\n",
       "      <td>3</td>\n",
       "      <td>96.0 m2</td>\n",
       "      <td>Excelente casa de tres niveles, buena ubicació...</td>\n",
       "      <td>https://www.metrocuadrado.com/inmueble/arriend...</td>\n",
       "      <td>47.1</td>\n",
       "      <td>left_only</td>\n",
       "    </tr>\n",
       "    <tr>\n",
       "      <th>...</th>\n",
       "      <td>...</td>\n",
       "      <td>...</td>\n",
       "      <td>...</td>\n",
       "      <td>...</td>\n",
       "      <td>...</td>\n",
       "      <td>...</td>\n",
       "      <td>...</td>\n",
       "      <td>...</td>\n",
       "      <td>...</td>\n",
       "    </tr>\n",
       "    <tr>\n",
       "      <th>16374</th>\n",
       "      <td>Apartamento en Arriendo, SANTA BIBIANA Bogotá ...</td>\n",
       "      <td>$2.600.000</td>\n",
       "      <td>1</td>\n",
       "      <td>2</td>\n",
       "      <td>60.0 m2</td>\n",
       "      <td>Se arrienda precioso apartamento amoblado, con...</td>\n",
       "      <td>https://www.metrocuadrado.com/inmueble/arriend...</td>\n",
       "      <td>63.4</td>\n",
       "      <td>right_only</td>\n",
       "    </tr>\n",
       "    <tr>\n",
       "      <th>16375</th>\n",
       "      <td>Apartamento en Arriendo, SANTA BARBARA OCCIDEN...</td>\n",
       "      <td>$2.350.000</td>\n",
       "      <td>1</td>\n",
       "      <td>1</td>\n",
       "      <td>43.0 m2</td>\n",
       "      <td>CÓMODO APARTAMENTO EN ARRIENDO UBICADO EN EL B...</td>\n",
       "      <td>https://www.metrocuadrado.com/inmueble/arriend...</td>\n",
       "      <td>56.0</td>\n",
       "      <td>right_only</td>\n",
       "    </tr>\n",
       "    <tr>\n",
       "      <th>16376</th>\n",
       "      <td>Apartamento en Arriendo, CHICO NORTE Bogotá D.C..</td>\n",
       "      <td>$1.750.000</td>\n",
       "      <td>1</td>\n",
       "      <td>1</td>\n",
       "      <td>48.0 m2</td>\n",
       "      <td>Apartamentototalmente  amoblado de 47 metros c...</td>\n",
       "      <td>https://www.metrocuadrado.com/inmueble/arriend...</td>\n",
       "      <td>39.4</td>\n",
       "      <td>right_only</td>\n",
       "    </tr>\n",
       "    <tr>\n",
       "      <th>16377</th>\n",
       "      <td>Apartamento en Arriendo, LA CABRERA Bogotá D.C..</td>\n",
       "      <td>$3.900.000</td>\n",
       "      <td>2</td>\n",
       "      <td>3</td>\n",
       "      <td>102.0 m2</td>\n",
       "      <td>Hermoso y acogedor apartamento completamente a...</td>\n",
       "      <td>https://www.metrocuadrado.com/inmueble/arriend...</td>\n",
       "      <td>51.6</td>\n",
       "      <td>right_only</td>\n",
       "    </tr>\n",
       "    <tr>\n",
       "      <th>16378</th>\n",
       "      <td>Apartamento en Arriendo, MOLINOS NORTE Bogotá ...</td>\n",
       "      <td>$2.525.000</td>\n",
       "      <td>2</td>\n",
       "      <td>3</td>\n",
       "      <td>106.0 m2</td>\n",
       "      <td>Hermoso apartamento de 106m2  2  añoS de const...</td>\n",
       "      <td>https://www.metrocuadrado.com/inmueble/arriend...</td>\n",
       "      <td>44.4</td>\n",
       "      <td>right_only</td>\n",
       "    </tr>\n",
       "  </tbody>\n",
       "</table>\n",
       "<p>16379 rows × 9 columns</p>\n",
       "</div>"
      ],
      "text/plain": [
       "                        property_type|rent_type|location       price n_rooms  \\\n",
       "0        Casa en Arriendo, LA SOLEDAD NORTE Bogotá D.C..  $1.050.000       3   \n",
       "1      Casa en Arriendo, CIUDAD SALITRE SUR-ORIENTAL ...  $3.930.000       3   \n",
       "2      Casa en Arriendo, VILLA DE LOS ALPES II SECTOR...    $750.000       3   \n",
       "3            Casa en Arriendo, PARIS GAITAN Bogotá D.C..  $3.400.000       5   \n",
       "4      Casa en Arriendo, BALCONES DE ORIENTE Bogotá D...  $1.560.000       4   \n",
       "...                                                  ...         ...     ...   \n",
       "16374  Apartamento en Arriendo, SANTA BIBIANA Bogotá ...  $2.600.000       1   \n",
       "16375  Apartamento en Arriendo, SANTA BARBARA OCCIDEN...  $2.350.000       1   \n",
       "16376  Apartamento en Arriendo, CHICO NORTE Bogotá D.C..  $1.750.000       1   \n",
       "16377   Apartamento en Arriendo, LA CABRERA Bogotá D.C..  $3.900.000       2   \n",
       "16378  Apartamento en Arriendo, MOLINOS NORTE Bogotá ...  $2.525.000       2   \n",
       "\n",
       "      n_bath   surface                                            details  \\\n",
       "0          2   63.0 m2  Excelente casa cerca de la calle 80 y Avenida ...   \n",
       "1          2  100.0 m2  Se arrienda casa bonita totalmente amoblada co...   \n",
       "2          1   90.0 m2  CASA DE TRES NIVELES TRES ALCOBAS SALA COMEDOR...   \n",
       "3          4   71.0 m2  casa ezquinera excelente ubicacion cinco alcob...   \n",
       "4          3   96.0 m2  Excelente casa de tres niveles, buena ubicació...   \n",
       "...      ...       ...                                                ...   \n",
       "16374      2   60.0 m2  Se arrienda precioso apartamento amoblado, con...   \n",
       "16375      1   43.0 m2  CÓMODO APARTAMENTO EN ARRIENDO UBICADO EN EL B...   \n",
       "16376      1   48.0 m2  Apartamentototalmente  amoblado de 47 metros c...   \n",
       "16377      3  102.0 m2  Hermoso y acogedor apartamento completamente a...   \n",
       "16378      3  106.0 m2  Hermoso apartamento de 106m2  2  añoS de const...   \n",
       "\n",
       "                                                     url  metro_cuadrado  \\\n",
       "0      https://www.metrocuadrado.com/inmueble/arriend...            25.6   \n",
       "1      https://www.metrocuadrado.com/inmueble/arriend...            57.3   \n",
       "2      https://www.metrocuadrado.com/inmueble/arriend...            12.2   \n",
       "3      https://www.metrocuadrado.com/inmueble/arriend...            56.0   \n",
       "4      https://www.metrocuadrado.com/inmueble/arriend...            47.1   \n",
       "...                                                  ...             ...   \n",
       "16374  https://www.metrocuadrado.com/inmueble/arriend...            63.4   \n",
       "16375  https://www.metrocuadrado.com/inmueble/arriend...            56.0   \n",
       "16376  https://www.metrocuadrado.com/inmueble/arriend...            39.4   \n",
       "16377  https://www.metrocuadrado.com/inmueble/arriend...            51.6   \n",
       "16378  https://www.metrocuadrado.com/inmueble/arriend...            44.4   \n",
       "\n",
       "           _merge  \n",
       "0       left_only  \n",
       "1            both  \n",
       "2       left_only  \n",
       "3       left_only  \n",
       "4       left_only  \n",
       "...           ...  \n",
       "16374  right_only  \n",
       "16375  right_only  \n",
       "16376  right_only  \n",
       "16377  right_only  \n",
       "16378  right_only  \n",
       "\n",
       "[16379 rows x 9 columns]"
      ]
     },
     "execution_count": 4,
     "metadata": {},
     "output_type": "execute_result"
    }
   ],
   "source": [
    "# Iniciar Data frame\n",
    "df = append_dataframes()\n",
    "df"
   ]
  },
  {
   "cell_type": "markdown",
   "metadata": {},
   "source": [
    "Si hay furnished que no hay en all, identificados como 'right_only' de la columna _merge"
   ]
  },
  {
   "cell_type": "markdown",
   "metadata": {},
   "source": [
    "### 2- . Limpieza"
   ]
  },
  {
   "cell_type": "markdown",
   "metadata": {},
   "source": [
    "##### a)"
   ]
  },
  {
   "cell_type": "code",
   "execution_count": 5,
   "metadata": {
    "ExecuteTime": {
     "end_time": "2020-05-10T09:36:47.123668Z",
     "start_time": "2020-05-10T09:36:47.083774Z"
    },
    "scrolled": true
   },
   "outputs": [],
   "source": [
    "# Limpiamos la columna price\n",
    "df['price']=df['price'].str.replace('$','')\n",
    "df['price']=df['price'].str.replace('.','')\n",
    "df['price'] = df['price'].apply(float)"
   ]
  },
  {
   "cell_type": "code",
   "execution_count": 6,
   "metadata": {
    "ExecuteTime": {
     "end_time": "2020-05-10T09:36:47.236264Z",
     "start_time": "2020-05-10T09:36:47.126665Z"
    }
   },
   "outputs": [],
   "source": [
    "# Limpiamos la columna surface\n",
    "df['surface'] = df['surface'].str.replace('m2','')\n",
    "df['surface'] = df['surface'].apply(float)"
   ]
  },
  {
   "cell_type": "code",
   "execution_count": 7,
   "metadata": {
    "ExecuteTime": {
     "end_time": "2020-05-10T09:36:47.331346Z",
     "start_time": "2020-05-10T09:36:47.239846Z"
    }
   },
   "outputs": [],
   "source": [
    "# Limpiamos n_rooms y n_baths, sujeto a cambios\n",
    "df['n_rooms'] = df['n_rooms'].replace('5+',6)\n",
    "df['n_rooms'].fillna(3,inplace=True)\n",
    "df['n_rooms'] = df['n_rooms'].apply(float)\n",
    "\n",
    "df['n_bath'] = df['n_bath'].replace('5+',6)\n",
    "df['n_bath'].fillna(3,inplace=True)\n",
    "df['n_bath'] = df['n_bath'].apply(float)"
   ]
  },
  {
   "cell_type": "markdown",
   "metadata": {},
   "source": [
    "Vemos los Dtype"
   ]
  },
  {
   "cell_type": "code",
   "execution_count": 8,
   "metadata": {
    "ExecuteTime": {
     "end_time": "2020-05-10T09:36:47.430664Z",
     "start_time": "2020-05-10T09:36:47.333329Z"
    }
   },
   "outputs": [
    {
     "name": "stdout",
     "output_type": "stream",
     "text": [
      "<class 'pandas.core.frame.DataFrame'>\n",
      "RangeIndex: 16379 entries, 0 to 16378\n",
      "Data columns (total 9 columns):\n",
      " #   Column                            Non-Null Count  Dtype   \n",
      "---  ------                            --------------  -----   \n",
      " 0   property_type|rent_type|location  16379 non-null  object  \n",
      " 1   price                             16379 non-null  float64 \n",
      " 2   n_rooms                           16379 non-null  float64 \n",
      " 3   n_bath                            16379 non-null  float64 \n",
      " 4   surface                           16379 non-null  float64 \n",
      " 5   details                           16269 non-null  object  \n",
      " 6   url                               16379 non-null  object  \n",
      " 7   metro_cuadrado                    16379 non-null  float64 \n",
      " 8   _merge                            16379 non-null  category\n",
      "dtypes: category(1), float64(5), object(3)\n",
      "memory usage: 1.0+ MB\n"
     ]
    }
   ],
   "source": [
    "df.info()"
   ]
  },
  {
   "cell_type": "markdown",
   "metadata": {},
   "source": [
    "##### b)"
   ]
  },
  {
   "cell_type": "code",
   "execution_count": 9,
   "metadata": {
    "ExecuteTime": {
     "end_time": "2020-05-10T09:36:47.631490Z",
     "start_time": "2020-05-10T09:36:47.432619Z"
    }
   },
   "outputs": [],
   "source": [
    "# Split de la comuna\n",
    "s = pd.Series(df.keys())\n",
    "split = s.str.split('|', expand=True)\n",
    "\n",
    "# Columnas de transicion\n",
    "df[['property_type+rent_type', 'location']] = df['property_type|rent_type|location'].str.split(',', expand=True)\n",
    "df[['property_type','rent_type']] = df['property_type+rent_type'].str.split(' en ', expand=True)\n",
    "\n",
    "# Dropeamos las extra\n",
    "df = df.drop(['property_type|rent_type|location', 'property_type+rent_type'], axis=1)"
   ]
  },
  {
   "cell_type": "markdown",
   "metadata": {
    "ExecuteTime": {
     "end_time": "2020-05-10T07:19:02.454675Z",
     "start_time": "2020-05-10T07:19:02.449689Z"
    }
   },
   "source": [
    "### 3- . Creación de columnas indicadoras"
   ]
  },
  {
   "cell_type": "markdown",
   "metadata": {},
   "source": [
    "#### a)"
   ]
  },
  {
   "cell_type": "code",
   "execution_count": 10,
   "metadata": {
    "ExecuteTime": {
     "end_time": "2020-05-10T09:36:47.682815Z",
     "start_time": "2020-05-10T09:36:47.633482Z"
    }
   },
   "outputs": [],
   "source": [
    "# Creamos columna precio m2\n",
    "df['precio_m2'] = df['price']/df['surface']"
   ]
  },
  {
   "cell_type": "markdown",
   "metadata": {},
   "source": [
    "#### b)"
   ]
  },
  {
   "cell_type": "code",
   "execution_count": 11,
   "metadata": {
    "ExecuteTime": {
     "end_time": "2020-05-10T09:36:47.783551Z",
     "start_time": "2020-05-10T09:36:47.684801Z"
    }
   },
   "outputs": [],
   "source": [
    "def num_garajes(url):\n",
    "    url_splitted = url.split('-garajes')\n",
    "    # Si no hacemos split\n",
    "    if len(url_splitted) == 1:\n",
    "        return 0\n",
    "    else:\n",
    "        # Agarramos las ultimos dos caracteres XX-garajes\n",
    "        n = url_splitted[0][-2:]\n",
    "        # Si es del tipo -1-garajes, devolvemos 1\n",
    "        if n[0] == '-':\n",
    "            return n[1]\n",
    "        return n\n",
    "    \n",
    "\n",
    "# Creamos la columna n_garajes\n",
    "df['n_garajes'] = df['url'].apply(num_garajes)"
   ]
  },
  {
   "cell_type": "code",
   "execution_count": 12,
   "metadata": {
    "ExecuteTime": {
     "end_time": "2020-05-10T09:36:47.895118Z",
     "start_time": "2020-05-10T09:36:47.785539Z"
    }
   },
   "outputs": [],
   "source": [
    "# Limpiamos n_garajes, sujeto a cambios\n",
    "df['n_garajes'] = df['n_garajes'].replace('4+',5)\n",
    "df['n_garajes'] = df['n_garajes'].apply(float)"
   ]
  },
  {
   "cell_type": "markdown",
   "metadata": {},
   "source": [
    "### 4- . Clasificación por tipo de producto"
   ]
  },
  {
   "cell_type": "code",
   "execution_count": 23,
   "metadata": {
    "ExecuteTime": {
     "end_time": "2020-05-10T09:48:54.915041Z",
     "start_time": "2020-05-10T09:48:50.560702Z"
    }
   },
   "outputs": [],
   "source": [
    "# Inicializamos la columna tipo\n",
    "df['tipo'] = -1\n",
    "\n",
    "def clasifica_producto(df):\n",
    "    # Areas\n",
    "    area_min = [80, 120, 180, 240, 360, 40, 60, 80]\n",
    "    area_max = [120, 180, 240, 360, 460, 60, 80, 120]\n",
    "    \n",
    "    # Query\n",
    "    for tipo_prod in range(1,9):\n",
    "        minimo = area_min[tipo_prod-1]\n",
    "        maximo = area_max[tipo_prod-1]\n",
    "        # Query para tipos 1-5\n",
    "        if tipo_prod<6:\n",
    "            query = 'property_type == \"Casa\" and {} < surface < {}'.format(minimo,maximo)\n",
    "            indices = df.query(query).index\n",
    "            for i in indices:\n",
    "                df.loc[i,'tipo'] = tipo_prod\n",
    "        else:\n",
    "            query = 'property_type == \"Apartamento\" and {} < surface < {}'.format(minimo,maximo)\n",
    "            indices = df.query(query).index\n",
    "            for i in indices:\n",
    "                df.loc[i,'tipo'] = tipo_prod\n",
    "        \n",
    "    return df\n",
    "\n",
    "# Actualizamos el dataframe\n",
    "df = clasifica_producto(df)"
   ]
  },
  {
   "cell_type": "code",
   "execution_count": 24,
   "metadata": {
    "ExecuteTime": {
     "end_time": "2020-05-10T09:48:54.965379Z",
     "start_time": "2020-05-10T09:48:54.916976Z"
    },
    "scrolled": true
   },
   "outputs": [
    {
     "data": {
      "text/html": [
       "<div>\n",
       "<style scoped>\n",
       "    .dataframe tbody tr th:only-of-type {\n",
       "        vertical-align: middle;\n",
       "    }\n",
       "\n",
       "    .dataframe tbody tr th {\n",
       "        vertical-align: top;\n",
       "    }\n",
       "\n",
       "    .dataframe thead th {\n",
       "        text-align: right;\n",
       "    }\n",
       "</style>\n",
       "<table border=\"1\" class=\"dataframe\">\n",
       "  <thead>\n",
       "    <tr style=\"text-align: right;\">\n",
       "      <th></th>\n",
       "      <th>price</th>\n",
       "      <th>n_rooms</th>\n",
       "      <th>n_bath</th>\n",
       "      <th>surface</th>\n",
       "      <th>details</th>\n",
       "      <th>url</th>\n",
       "      <th>metro_cuadrado</th>\n",
       "      <th>_merge</th>\n",
       "      <th>location</th>\n",
       "      <th>property_type</th>\n",
       "      <th>rent_type</th>\n",
       "      <th>precio_m2</th>\n",
       "      <th>n_garajes</th>\n",
       "      <th>tipo</th>\n",
       "    </tr>\n",
       "  </thead>\n",
       "  <tbody>\n",
       "    <tr>\n",
       "      <th>0</th>\n",
       "      <td>1050000.0</td>\n",
       "      <td>3.0</td>\n",
       "      <td>2.0</td>\n",
       "      <td>63.0</td>\n",
       "      <td>Excelente casa cerca de la calle 80 y Avenida ...</td>\n",
       "      <td>https://www.metrocuadrado.com/inmueble/arriend...</td>\n",
       "      <td>25.6</td>\n",
       "      <td>left_only</td>\n",
       "      <td>LA SOLEDAD NORTE Bogotá D.C..</td>\n",
       "      <td>Casa</td>\n",
       "      <td>Arriendo</td>\n",
       "      <td>16666.666667</td>\n",
       "      <td>1.0</td>\n",
       "      <td>-1</td>\n",
       "    </tr>\n",
       "    <tr>\n",
       "      <th>1</th>\n",
       "      <td>3930000.0</td>\n",
       "      <td>3.0</td>\n",
       "      <td>2.0</td>\n",
       "      <td>100.0</td>\n",
       "      <td>Se arrienda casa bonita totalmente amoblada co...</td>\n",
       "      <td>https://www.metrocuadrado.com/inmueble/arriend...</td>\n",
       "      <td>57.3</td>\n",
       "      <td>both</td>\n",
       "      <td>CIUDAD SALITRE SUR-ORIENTAL Bogotá D.C..</td>\n",
       "      <td>Casa</td>\n",
       "      <td>Arriendo</td>\n",
       "      <td>39300.000000</td>\n",
       "      <td>1.0</td>\n",
       "      <td>1</td>\n",
       "    </tr>\n",
       "    <tr>\n",
       "      <th>2</th>\n",
       "      <td>750000.0</td>\n",
       "      <td>3.0</td>\n",
       "      <td>1.0</td>\n",
       "      <td>90.0</td>\n",
       "      <td>CASA DE TRES NIVELES TRES ALCOBAS SALA COMEDOR...</td>\n",
       "      <td>https://www.metrocuadrado.com/inmueble/arriend...</td>\n",
       "      <td>12.2</td>\n",
       "      <td>left_only</td>\n",
       "      <td>VILLA DE LOS ALPES II SECTOR Bogotá D.C..</td>\n",
       "      <td>Casa</td>\n",
       "      <td>Arriendo</td>\n",
       "      <td>8333.333333</td>\n",
       "      <td>0.0</td>\n",
       "      <td>1</td>\n",
       "    </tr>\n",
       "    <tr>\n",
       "      <th>3</th>\n",
       "      <td>3400000.0</td>\n",
       "      <td>5.0</td>\n",
       "      <td>4.0</td>\n",
       "      <td>71.0</td>\n",
       "      <td>casa ezquinera excelente ubicacion cinco alcob...</td>\n",
       "      <td>https://www.metrocuadrado.com/inmueble/arriend...</td>\n",
       "      <td>56.0</td>\n",
       "      <td>left_only</td>\n",
       "      <td>PARIS GAITAN Bogotá D.C..</td>\n",
       "      <td>Casa</td>\n",
       "      <td>Arriendo</td>\n",
       "      <td>47887.323944</td>\n",
       "      <td>0.0</td>\n",
       "      <td>-1</td>\n",
       "    </tr>\n",
       "    <tr>\n",
       "      <th>4</th>\n",
       "      <td>1560000.0</td>\n",
       "      <td>4.0</td>\n",
       "      <td>3.0</td>\n",
       "      <td>96.0</td>\n",
       "      <td>Excelente casa de tres niveles, buena ubicació...</td>\n",
       "      <td>https://www.metrocuadrado.com/inmueble/arriend...</td>\n",
       "      <td>47.1</td>\n",
       "      <td>left_only</td>\n",
       "      <td>BALCONES DE ORIENTE Bogotá D.C..</td>\n",
       "      <td>Casa</td>\n",
       "      <td>Arriendo</td>\n",
       "      <td>16250.000000</td>\n",
       "      <td>1.0</td>\n",
       "      <td>1</td>\n",
       "    </tr>\n",
       "    <tr>\n",
       "      <th>...</th>\n",
       "      <td>...</td>\n",
       "      <td>...</td>\n",
       "      <td>...</td>\n",
       "      <td>...</td>\n",
       "      <td>...</td>\n",
       "      <td>...</td>\n",
       "      <td>...</td>\n",
       "      <td>...</td>\n",
       "      <td>...</td>\n",
       "      <td>...</td>\n",
       "      <td>...</td>\n",
       "      <td>...</td>\n",
       "      <td>...</td>\n",
       "      <td>...</td>\n",
       "    </tr>\n",
       "    <tr>\n",
       "      <th>16374</th>\n",
       "      <td>2600000.0</td>\n",
       "      <td>1.0</td>\n",
       "      <td>2.0</td>\n",
       "      <td>60.0</td>\n",
       "      <td>Se arrienda precioso apartamento amoblado, con...</td>\n",
       "      <td>https://www.metrocuadrado.com/inmueble/arriend...</td>\n",
       "      <td>63.4</td>\n",
       "      <td>right_only</td>\n",
       "      <td>SANTA BIBIANA Bogotá D.C..</td>\n",
       "      <td>Apartamento</td>\n",
       "      <td>Arriendo</td>\n",
       "      <td>43333.333333</td>\n",
       "      <td>1.0</td>\n",
       "      <td>-1</td>\n",
       "    </tr>\n",
       "    <tr>\n",
       "      <th>16375</th>\n",
       "      <td>2350000.0</td>\n",
       "      <td>1.0</td>\n",
       "      <td>1.0</td>\n",
       "      <td>43.0</td>\n",
       "      <td>CÓMODO APARTAMENTO EN ARRIENDO UBICADO EN EL B...</td>\n",
       "      <td>https://www.metrocuadrado.com/inmueble/arriend...</td>\n",
       "      <td>56.0</td>\n",
       "      <td>right_only</td>\n",
       "      <td>SANTA BARBARA OCCIDENTAL Bogotá D.C..</td>\n",
       "      <td>Apartamento</td>\n",
       "      <td>Arriendo</td>\n",
       "      <td>54651.162791</td>\n",
       "      <td>1.0</td>\n",
       "      <td>6</td>\n",
       "    </tr>\n",
       "    <tr>\n",
       "      <th>16376</th>\n",
       "      <td>1750000.0</td>\n",
       "      <td>1.0</td>\n",
       "      <td>1.0</td>\n",
       "      <td>48.0</td>\n",
       "      <td>Apartamentototalmente  amoblado de 47 metros c...</td>\n",
       "      <td>https://www.metrocuadrado.com/inmueble/arriend...</td>\n",
       "      <td>39.4</td>\n",
       "      <td>right_only</td>\n",
       "      <td>CHICO NORTE Bogotá D.C..</td>\n",
       "      <td>Apartamento</td>\n",
       "      <td>Arriendo</td>\n",
       "      <td>36458.333333</td>\n",
       "      <td>1.0</td>\n",
       "      <td>6</td>\n",
       "    </tr>\n",
       "    <tr>\n",
       "      <th>16377</th>\n",
       "      <td>3900000.0</td>\n",
       "      <td>2.0</td>\n",
       "      <td>3.0</td>\n",
       "      <td>102.0</td>\n",
       "      <td>Hermoso y acogedor apartamento completamente a...</td>\n",
       "      <td>https://www.metrocuadrado.com/inmueble/arriend...</td>\n",
       "      <td>51.6</td>\n",
       "      <td>right_only</td>\n",
       "      <td>LA CABRERA Bogotá D.C..</td>\n",
       "      <td>Apartamento</td>\n",
       "      <td>Arriendo</td>\n",
       "      <td>38235.294118</td>\n",
       "      <td>2.0</td>\n",
       "      <td>8</td>\n",
       "    </tr>\n",
       "    <tr>\n",
       "      <th>16378</th>\n",
       "      <td>2525000.0</td>\n",
       "      <td>2.0</td>\n",
       "      <td>3.0</td>\n",
       "      <td>106.0</td>\n",
       "      <td>Hermoso apartamento de 106m2  2  añoS de const...</td>\n",
       "      <td>https://www.metrocuadrado.com/inmueble/arriend...</td>\n",
       "      <td>44.4</td>\n",
       "      <td>right_only</td>\n",
       "      <td>MOLINOS NORTE Bogotá D.C..</td>\n",
       "      <td>Apartamento</td>\n",
       "      <td>Arriendo</td>\n",
       "      <td>23820.754717</td>\n",
       "      <td>2.0</td>\n",
       "      <td>8</td>\n",
       "    </tr>\n",
       "  </tbody>\n",
       "</table>\n",
       "<p>16379 rows × 14 columns</p>\n",
       "</div>"
      ],
      "text/plain": [
       "           price  n_rooms  n_bath  surface  \\\n",
       "0      1050000.0      3.0     2.0     63.0   \n",
       "1      3930000.0      3.0     2.0    100.0   \n",
       "2       750000.0      3.0     1.0     90.0   \n",
       "3      3400000.0      5.0     4.0     71.0   \n",
       "4      1560000.0      4.0     3.0     96.0   \n",
       "...          ...      ...     ...      ...   \n",
       "16374  2600000.0      1.0     2.0     60.0   \n",
       "16375  2350000.0      1.0     1.0     43.0   \n",
       "16376  1750000.0      1.0     1.0     48.0   \n",
       "16377  3900000.0      2.0     3.0    102.0   \n",
       "16378  2525000.0      2.0     3.0    106.0   \n",
       "\n",
       "                                                 details  \\\n",
       "0      Excelente casa cerca de la calle 80 y Avenida ...   \n",
       "1      Se arrienda casa bonita totalmente amoblada co...   \n",
       "2      CASA DE TRES NIVELES TRES ALCOBAS SALA COMEDOR...   \n",
       "3      casa ezquinera excelente ubicacion cinco alcob...   \n",
       "4      Excelente casa de tres niveles, buena ubicació...   \n",
       "...                                                  ...   \n",
       "16374  Se arrienda precioso apartamento amoblado, con...   \n",
       "16375  CÓMODO APARTAMENTO EN ARRIENDO UBICADO EN EL B...   \n",
       "16376  Apartamentototalmente  amoblado de 47 metros c...   \n",
       "16377  Hermoso y acogedor apartamento completamente a...   \n",
       "16378  Hermoso apartamento de 106m2  2  añoS de const...   \n",
       "\n",
       "                                                     url  metro_cuadrado  \\\n",
       "0      https://www.metrocuadrado.com/inmueble/arriend...            25.6   \n",
       "1      https://www.metrocuadrado.com/inmueble/arriend...            57.3   \n",
       "2      https://www.metrocuadrado.com/inmueble/arriend...            12.2   \n",
       "3      https://www.metrocuadrado.com/inmueble/arriend...            56.0   \n",
       "4      https://www.metrocuadrado.com/inmueble/arriend...            47.1   \n",
       "...                                                  ...             ...   \n",
       "16374  https://www.metrocuadrado.com/inmueble/arriend...            63.4   \n",
       "16375  https://www.metrocuadrado.com/inmueble/arriend...            56.0   \n",
       "16376  https://www.metrocuadrado.com/inmueble/arriend...            39.4   \n",
       "16377  https://www.metrocuadrado.com/inmueble/arriend...            51.6   \n",
       "16378  https://www.metrocuadrado.com/inmueble/arriend...            44.4   \n",
       "\n",
       "           _merge                                    location property_type  \\\n",
       "0       left_only               LA SOLEDAD NORTE Bogotá D.C..          Casa   \n",
       "1            both    CIUDAD SALITRE SUR-ORIENTAL Bogotá D.C..          Casa   \n",
       "2       left_only   VILLA DE LOS ALPES II SECTOR Bogotá D.C..          Casa   \n",
       "3       left_only                   PARIS GAITAN Bogotá D.C..          Casa   \n",
       "4       left_only            BALCONES DE ORIENTE Bogotá D.C..          Casa   \n",
       "...           ...                                         ...           ...   \n",
       "16374  right_only                  SANTA BIBIANA Bogotá D.C..   Apartamento   \n",
       "16375  right_only       SANTA BARBARA OCCIDENTAL Bogotá D.C..   Apartamento   \n",
       "16376  right_only                    CHICO NORTE Bogotá D.C..   Apartamento   \n",
       "16377  right_only                     LA CABRERA Bogotá D.C..   Apartamento   \n",
       "16378  right_only                  MOLINOS NORTE Bogotá D.C..   Apartamento   \n",
       "\n",
       "      rent_type     precio_m2  n_garajes  tipo  \n",
       "0      Arriendo  16666.666667        1.0    -1  \n",
       "1      Arriendo  39300.000000        1.0     1  \n",
       "2      Arriendo   8333.333333        0.0     1  \n",
       "3      Arriendo  47887.323944        0.0    -1  \n",
       "4      Arriendo  16250.000000        1.0     1  \n",
       "...         ...           ...        ...   ...  \n",
       "16374  Arriendo  43333.333333        1.0    -1  \n",
       "16375  Arriendo  54651.162791        1.0     6  \n",
       "16376  Arriendo  36458.333333        1.0     6  \n",
       "16377  Arriendo  38235.294118        2.0     8  \n",
       "16378  Arriendo  23820.754717        2.0     8  \n",
       "\n",
       "[16379 rows x 14 columns]"
      ]
     },
     "execution_count": 24,
     "metadata": {},
     "output_type": "execute_result"
    }
   ],
   "source": [
    "df"
   ]
  },
  {
   "cell_type": "markdown",
   "metadata": {},
   "source": [
    "Hay que arreglar, hay casas con menos de 80 de surface"
   ]
  },
  {
   "cell_type": "markdown",
   "metadata": {},
   "source": [
    "### 5- ."
   ]
  },
  {
   "cell_type": "code",
   "execution_count": 59,
   "metadata": {
    "ExecuteTime": {
     "end_time": "2020-05-10T10:13:20.868875Z",
     "start_time": "2020-05-10T10:13:20.843943Z"
    }
   },
   "outputs": [
    {
     "data": {
      "text/html": [
       "<div>\n",
       "<style scoped>\n",
       "    .dataframe tbody tr th:only-of-type {\n",
       "        vertical-align: middle;\n",
       "    }\n",
       "\n",
       "    .dataframe tbody tr th {\n",
       "        vertical-align: top;\n",
       "    }\n",
       "\n",
       "    .dataframe thead th {\n",
       "        text-align: right;\n",
       "    }\n",
       "</style>\n",
       "<table border=\"1\" class=\"dataframe\">\n",
       "  <thead>\n",
       "    <tr style=\"text-align: right;\">\n",
       "      <th></th>\n",
       "      <th>UPlCodigo</th>\n",
       "      <th>UPlTipo</th>\n",
       "      <th>UPlNombre</th>\n",
       "      <th>UPlArea</th>\n",
       "      <th>pro_location</th>\n",
       "    </tr>\n",
       "  </thead>\n",
       "  <tbody>\n",
       "    <tr>\n",
       "      <th>0</th>\n",
       "      <td>UPZ100</td>\n",
       "      <td>1</td>\n",
       "      <td>GALERIAS</td>\n",
       "      <td>2.375681e+06</td>\n",
       "      <td>palermo</td>\n",
       "    </tr>\n",
       "    <tr>\n",
       "      <th>1</th>\n",
       "      <td>UPZ100</td>\n",
       "      <td>1</td>\n",
       "      <td>GALERIAS</td>\n",
       "      <td>2.375681e+06</td>\n",
       "      <td>belalcazar</td>\n",
       "    </tr>\n",
       "    <tr>\n",
       "      <th>2</th>\n",
       "      <td>UPZ100</td>\n",
       "      <td>1</td>\n",
       "      <td>GALERIAS</td>\n",
       "      <td>2.375681e+06</td>\n",
       "      <td>sears</td>\n",
       "    </tr>\n",
       "    <tr>\n",
       "      <th>3</th>\n",
       "      <td>UPZ100</td>\n",
       "      <td>1</td>\n",
       "      <td>GALERIAS</td>\n",
       "      <td>2.375681e+06</td>\n",
       "      <td>galerias</td>\n",
       "    </tr>\n",
       "    <tr>\n",
       "      <th>4</th>\n",
       "      <td>UPZ100</td>\n",
       "      <td>1</td>\n",
       "      <td>GALERIAS</td>\n",
       "      <td>2.375681e+06</td>\n",
       "      <td>banco central</td>\n",
       "    </tr>\n",
       "    <tr>\n",
       "      <th>...</th>\n",
       "      <td>...</td>\n",
       "      <td>...</td>\n",
       "      <td>...</td>\n",
       "      <td>...</td>\n",
       "      <td>...</td>\n",
       "    </tr>\n",
       "    <tr>\n",
       "      <th>463</th>\n",
       "      <td>UPZ42</td>\n",
       "      <td>1</td>\n",
       "      <td>VENECIA</td>\n",
       "      <td>6.638420e+06</td>\n",
       "      <td>nuevo muzu</td>\n",
       "    </tr>\n",
       "    <tr>\n",
       "      <th>464</th>\n",
       "      <td>UPZ42</td>\n",
       "      <td>1</td>\n",
       "      <td>VENECIA</td>\n",
       "      <td>6.638420e+06</td>\n",
       "      <td>el condor</td>\n",
       "    </tr>\n",
       "    <tr>\n",
       "      <th>465</th>\n",
       "      <td>UPZ42</td>\n",
       "      <td>1</td>\n",
       "      <td>VENECIA</td>\n",
       "      <td>6.638420e+06</td>\n",
       "      <td>laguneta</td>\n",
       "    </tr>\n",
       "    <tr>\n",
       "      <th>466</th>\n",
       "      <td>UPZ52</td>\n",
       "      <td>1</td>\n",
       "      <td>LA FLORA</td>\n",
       "      <td>1.877160e+06</td>\n",
       "      <td>villa maria</td>\n",
       "    </tr>\n",
       "    <tr>\n",
       "      <th>467</th>\n",
       "      <td>UPZ60</td>\n",
       "      <td>1</td>\n",
       "      <td>PARQUE ENTRENUBES</td>\n",
       "      <td>4.190395e+06</td>\n",
       "      <td>NaN</td>\n",
       "    </tr>\n",
       "  </tbody>\n",
       "</table>\n",
       "<p>468 rows × 5 columns</p>\n",
       "</div>"
      ],
      "text/plain": [
       "    UPlCodigo  UPlTipo          UPlNombre       UPlArea   pro_location\n",
       "0      UPZ100        1           GALERIAS  2.375681e+06        palermo\n",
       "1      UPZ100        1           GALERIAS  2.375681e+06     belalcazar\n",
       "2      UPZ100        1           GALERIAS  2.375681e+06          sears\n",
       "3      UPZ100        1           GALERIAS  2.375681e+06       galerias\n",
       "4      UPZ100        1           GALERIAS  2.375681e+06  banco central\n",
       "..        ...      ...                ...           ...            ...\n",
       "463     UPZ42        1            VENECIA  6.638420e+06     nuevo muzu\n",
       "464     UPZ42        1            VENECIA  6.638420e+06      el condor\n",
       "465     UPZ42        1            VENECIA  6.638420e+06       laguneta\n",
       "466     UPZ52        1           LA FLORA  1.877160e+06    villa maria\n",
       "467     UPZ60        1  PARQUE ENTRENUBES  4.190395e+06            NaN\n",
       "\n",
       "[468 rows x 5 columns]"
      ]
     },
     "execution_count": 59,
     "metadata": {},
     "output_type": "execute_result"
    }
   ],
   "source": [
    "UPZ = pd.read_csv('./data/asignacion_upz/barrio-upz.csv')\n",
    "UPZ"
   ]
  },
  {
   "cell_type": "code",
   "execution_count": 62,
   "metadata": {
    "ExecuteTime": {
     "end_time": "2020-05-10T10:17:25.486821Z",
     "start_time": "2020-05-10T10:17:25.464880Z"
    }
   },
   "outputs": [
    {
     "data": {
      "text/html": [
       "<div>\n",
       "<style scoped>\n",
       "    .dataframe tbody tr th:only-of-type {\n",
       "        vertical-align: middle;\n",
       "    }\n",
       "\n",
       "    .dataframe tbody tr th {\n",
       "        vertical-align: top;\n",
       "    }\n",
       "\n",
       "    .dataframe thead th {\n",
       "        text-align: right;\n",
       "    }\n",
       "</style>\n",
       "<table border=\"1\" class=\"dataframe\">\n",
       "  <thead>\n",
       "    <tr style=\"text-align: right;\">\n",
       "      <th></th>\n",
       "      <th>UPlCodigo</th>\n",
       "      <th>UPlTipo</th>\n",
       "      <th>UPlNombre</th>\n",
       "      <th>UPlArea</th>\n",
       "      <th>pro_location</th>\n",
       "    </tr>\n",
       "  </thead>\n",
       "  <tbody>\n",
       "    <tr>\n",
       "      <th>0</th>\n",
       "      <td>UPZ100</td>\n",
       "      <td>1</td>\n",
       "      <td>GALERIAS</td>\n",
       "      <td>2.375681e+06</td>\n",
       "      <td>PALERMO</td>\n",
       "    </tr>\n",
       "    <tr>\n",
       "      <th>1</th>\n",
       "      <td>UPZ100</td>\n",
       "      <td>1</td>\n",
       "      <td>GALERIAS</td>\n",
       "      <td>2.375681e+06</td>\n",
       "      <td>BELALCAZAR</td>\n",
       "    </tr>\n",
       "    <tr>\n",
       "      <th>2</th>\n",
       "      <td>UPZ100</td>\n",
       "      <td>1</td>\n",
       "      <td>GALERIAS</td>\n",
       "      <td>2.375681e+06</td>\n",
       "      <td>SEARS</td>\n",
       "    </tr>\n",
       "    <tr>\n",
       "      <th>3</th>\n",
       "      <td>UPZ100</td>\n",
       "      <td>1</td>\n",
       "      <td>GALERIAS</td>\n",
       "      <td>2.375681e+06</td>\n",
       "      <td>GALERIAS</td>\n",
       "    </tr>\n",
       "    <tr>\n",
       "      <th>4</th>\n",
       "      <td>UPZ100</td>\n",
       "      <td>1</td>\n",
       "      <td>GALERIAS</td>\n",
       "      <td>2.375681e+06</td>\n",
       "      <td>BANCO CENTRAL</td>\n",
       "    </tr>\n",
       "    <tr>\n",
       "      <th>...</th>\n",
       "      <td>...</td>\n",
       "      <td>...</td>\n",
       "      <td>...</td>\n",
       "      <td>...</td>\n",
       "      <td>...</td>\n",
       "    </tr>\n",
       "    <tr>\n",
       "      <th>463</th>\n",
       "      <td>UPZ42</td>\n",
       "      <td>1</td>\n",
       "      <td>VENECIA</td>\n",
       "      <td>6.638420e+06</td>\n",
       "      <td>NUEVO MUZU</td>\n",
       "    </tr>\n",
       "    <tr>\n",
       "      <th>464</th>\n",
       "      <td>UPZ42</td>\n",
       "      <td>1</td>\n",
       "      <td>VENECIA</td>\n",
       "      <td>6.638420e+06</td>\n",
       "      <td>EL CONDOR</td>\n",
       "    </tr>\n",
       "    <tr>\n",
       "      <th>465</th>\n",
       "      <td>UPZ42</td>\n",
       "      <td>1</td>\n",
       "      <td>VENECIA</td>\n",
       "      <td>6.638420e+06</td>\n",
       "      <td>LAGUNETA</td>\n",
       "    </tr>\n",
       "    <tr>\n",
       "      <th>466</th>\n",
       "      <td>UPZ52</td>\n",
       "      <td>1</td>\n",
       "      <td>LA FLORA</td>\n",
       "      <td>1.877160e+06</td>\n",
       "      <td>VILLA MARIA</td>\n",
       "    </tr>\n",
       "    <tr>\n",
       "      <th>467</th>\n",
       "      <td>UPZ60</td>\n",
       "      <td>1</td>\n",
       "      <td>PARQUE ENTRENUBES</td>\n",
       "      <td>4.190395e+06</td>\n",
       "      <td></td>\n",
       "    </tr>\n",
       "  </tbody>\n",
       "</table>\n",
       "<p>468 rows × 5 columns</p>\n",
       "</div>"
      ],
      "text/plain": [
       "    UPlCodigo  UPlTipo          UPlNombre       UPlArea   pro_location\n",
       "0      UPZ100        1           GALERIAS  2.375681e+06        PALERMO\n",
       "1      UPZ100        1           GALERIAS  2.375681e+06     BELALCAZAR\n",
       "2      UPZ100        1           GALERIAS  2.375681e+06          SEARS\n",
       "3      UPZ100        1           GALERIAS  2.375681e+06       GALERIAS\n",
       "4      UPZ100        1           GALERIAS  2.375681e+06  BANCO CENTRAL\n",
       "..        ...      ...                ...           ...            ...\n",
       "463     UPZ42        1            VENECIA  6.638420e+06     NUEVO MUZU\n",
       "464     UPZ42        1            VENECIA  6.638420e+06      EL CONDOR\n",
       "465     UPZ42        1            VENECIA  6.638420e+06       LAGUNETA\n",
       "466     UPZ52        1           LA FLORA  1.877160e+06    VILLA MARIA\n",
       "467     UPZ60        1  PARQUE ENTRENUBES  4.190395e+06               \n",
       "\n",
       "[468 rows x 5 columns]"
      ]
     },
     "execution_count": 62,
     "metadata": {},
     "output_type": "execute_result"
    }
   ],
   "source": [
    "def transforma_str(elemento):\n",
    "    if type(elemento) == str:\n",
    "        return elemento\n",
    "    else:\n",
    "        return ''\n",
    "    \n",
    "UPZ['pro_location'] = UPZ['pro_location'].apply(transforma_str)\n",
    "UPZ['pro_location'] = UPZ['pro_location'].apply(str.upper)\n",
    "UPZ"
   ]
  },
  {
   "cell_type": "code",
   "execution_count": 63,
   "metadata": {
    "ExecuteTime": {
     "end_time": "2020-05-10T10:21:11.281629Z",
     "start_time": "2020-05-10T10:21:11.275644Z"
    }
   },
   "outputs": [
    {
     "data": {
      "text/plain": [
       "' LA SOLEDAD NORTE Bogotá D.C..'"
      ]
     },
     "execution_count": 63,
     "metadata": {},
     "output_type": "execute_result"
    }
   ],
   "source": [
    "df.loc[0,'location']"
   ]
  },
  {
   "cell_type": "code",
   "execution_count": 64,
   "metadata": {
    "ExecuteTime": {
     "end_time": "2020-05-10T10:21:53.760457Z",
     "start_time": "2020-05-10T10:21:53.754474Z"
    }
   },
   "outputs": [
    {
     "data": {
      "text/plain": [
       "True"
      ]
     },
     "execution_count": 64,
     "metadata": {},
     "output_type": "execute_result"
    }
   ],
   "source": [
    "'LA SOLEDAD NORTE' in df.loc[0,'location']"
   ]
  },
  {
   "cell_type": "code",
   "execution_count": null,
   "metadata": {},
   "outputs": [],
   "source": []
  }
 ],
 "metadata": {
  "kernelspec": {
   "display_name": "Python 3",
   "language": "python",
   "name": "python3"
  },
  "language_info": {
   "codemirror_mode": {
    "name": "ipython",
    "version": 3
   },
   "file_extension": ".py",
   "mimetype": "text/x-python",
   "name": "python",
   "nbconvert_exporter": "python",
   "pygments_lexer": "ipython3",
   "version": "3.7.6"
  },
  "latex_envs": {
   "LaTeX_envs_menu_present": true,
   "autoclose": false,
   "autocomplete": true,
   "bibliofile": "biblio.bib",
   "cite_by": "apalike",
   "current_citInitial": 1,
   "eqLabelWithNumbers": true,
   "eqNumInitial": 1,
   "hotkeys": {
    "equation": "Ctrl-E",
    "itemize": "Ctrl-I"
   },
   "labels_anchors": false,
   "latex_user_defs": false,
   "report_style_numbering": false,
   "user_envs_cfg": false
  }
 },
 "nbformat": 4,
 "nbformat_minor": 4
}
