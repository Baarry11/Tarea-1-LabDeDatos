{
 "cells": [
  {
   "cell_type": "code",
   "execution_count": 2,
   "metadata": {
    "ExecuteTime": {
     "end_time": "2020-05-11T22:52:49.997839Z",
     "start_time": "2020-05-11T22:52:49.992854Z"
    }
   },
   "outputs": [],
   "source": [
    "import numpy as np\n",
    "import pandas as pd"
   ]
  },
  {
   "cell_type": "markdown",
   "metadata": {},
   "source": [
    "# P1 Carga y Limpieza de datos"
   ]
  },
  {
   "cell_type": "markdown",
   "metadata": {},
   "source": [
    "### 1- . Carga"
   ]
  },
  {
   "cell_type": "code",
   "execution_count": 3,
   "metadata": {
    "ExecuteTime": {
     "end_time": "2020-05-11T22:52:50.283077Z",
     "start_time": "2020-05-11T22:52:50.271111Z"
    },
    "scrolled": true
   },
   "outputs": [],
   "source": [
    "def obtener_semana(week):\n",
    "    week = str(week)\n",
    "    # Traemos los dataframe\n",
    "    all_info = pd.read_csv('./data/raw/w'+week +\n",
    "                           '/metrocuadrado_all_w'+week+'.csv')\n",
    "    all_info.drop_duplicates(inplace=True)\n",
    "    furnished = pd.read_csv('./data/raw/w'+week +\n",
    "                            '/metrocuadrado_furnished_w'+week+'.csv')\n",
    "    furnished.drop_duplicates(inplace=True)\n",
    "\n",
    "    # Merge que identifica furnished dentro de all_info\n",
    "    df = pd.merge(all_info, furnished, on=['property_type|rent_type|location', 'details', 'url', 'surface', 'price'],\n",
    "                  how='outer', indicator=True)\n",
    "    df.rename(columns={'n_rooms_x': 'n_rooms', 'n_bath_x': 'n_bath',\n",
    "                       'metrocuadrado_index_x': 'metro_cuadrado'}, inplace=True)\n",
    "\n",
    "    # Indices que solo hay en furnished\n",
    "    indices = df[df._merge == 'right_only'].index\n",
    "    for i in indices:\n",
    "        df.loc[i, 'n_rooms'] = df.loc[i, 'n_rooms_y']\n",
    "        df.loc[i, 'n_bath'] = df.loc[i, 'n_bath_y']\n",
    "        df.loc[i, 'metro_cuadrado'] = df.loc[i, 'metrocuadrado_index_y']\n",
    "\n",
    "    # Dropeamos los _y\n",
    "    df.drop(['n_rooms_y', 'n_bath_y', 'metrocuadrado_index_y'],\n",
    "            axis=1, inplace=True)\n",
    "\n",
    "    # Dropeamos los duplicados y reseatmos indice\n",
    "    df.drop_duplicates(inplace=True)\n",
    "    df.reset_index(drop=True, inplace=True)\n",
    "\n",
    "    return df"
   ]
  },
  {
   "cell_type": "code",
   "execution_count": 4,
   "metadata": {
    "ExecuteTime": {
     "end_time": "2020-05-11T22:52:50.420708Z",
     "start_time": "2020-05-11T22:52:50.286070Z"
    }
   },
   "outputs": [],
   "source": [
    "def append_dataframes():\n",
    "    week_list = range(13, 18)\n",
    "    df = pd.DataFrame()\n",
    "\n",
    "    for week in week_list:\n",
    "        df = df.append(obtener_semana(week))\n",
    "\n",
    "    df.drop_duplicates(inplace=True)\n",
    "    df.reset_index(drop=True, inplace=True)\n",
    "    return df"
   ]
  },
  {
   "cell_type": "code",
   "execution_count": 5,
   "metadata": {
    "ExecuteTime": {
     "end_time": "2020-05-11T22:52:53.197051Z",
     "start_time": "2020-05-11T22:52:50.422704Z"
    },
    "scrolled": true
   },
   "outputs": [
    {
     "data": {
      "text/html": [
       "<div>\n",
       "<style scoped>\n",
       "    .dataframe tbody tr th:only-of-type {\n",
       "        vertical-align: middle;\n",
       "    }\n",
       "\n",
       "    .dataframe tbody tr th {\n",
       "        vertical-align: top;\n",
       "    }\n",
       "\n",
       "    .dataframe thead th {\n",
       "        text-align: right;\n",
       "    }\n",
       "</style>\n",
       "<table border=\"1\" class=\"dataframe\">\n",
       "  <thead>\n",
       "    <tr style=\"text-align: right;\">\n",
       "      <th></th>\n",
       "      <th>property_type|rent_type|location</th>\n",
       "      <th>price</th>\n",
       "      <th>n_rooms</th>\n",
       "      <th>n_bath</th>\n",
       "      <th>surface</th>\n",
       "      <th>details</th>\n",
       "      <th>url</th>\n",
       "      <th>metro_cuadrado</th>\n",
       "      <th>_merge</th>\n",
       "    </tr>\n",
       "  </thead>\n",
       "  <tbody>\n",
       "    <tr>\n",
       "      <th>0</th>\n",
       "      <td>Casa en Arriendo, LA SOLEDAD NORTE Bogotá D.C..</td>\n",
       "      <td>$1.050.000</td>\n",
       "      <td>3</td>\n",
       "      <td>2</td>\n",
       "      <td>63.0 m2</td>\n",
       "      <td>Excelente casa cerca de la calle 80 y Avenida ...</td>\n",
       "      <td>https://www.metrocuadrado.com/inmueble/arriend...</td>\n",
       "      <td>25.6</td>\n",
       "      <td>left_only</td>\n",
       "    </tr>\n",
       "    <tr>\n",
       "      <th>1</th>\n",
       "      <td>Casa en Arriendo, CIUDAD SALITRE SUR-ORIENTAL ...</td>\n",
       "      <td>$3.930.000</td>\n",
       "      <td>3</td>\n",
       "      <td>2</td>\n",
       "      <td>100.0 m2</td>\n",
       "      <td>Se arrienda casa bonita totalmente amoblada co...</td>\n",
       "      <td>https://www.metrocuadrado.com/inmueble/arriend...</td>\n",
       "      <td>57.3</td>\n",
       "      <td>both</td>\n",
       "    </tr>\n",
       "    <tr>\n",
       "      <th>2</th>\n",
       "      <td>Casa en Arriendo, VILLA DE LOS ALPES II SECTOR...</td>\n",
       "      <td>$750.000</td>\n",
       "      <td>3</td>\n",
       "      <td>1</td>\n",
       "      <td>90.0 m2</td>\n",
       "      <td>CASA DE TRES NIVELES TRES ALCOBAS SALA COMEDOR...</td>\n",
       "      <td>https://www.metrocuadrado.com/inmueble/arriend...</td>\n",
       "      <td>12.2</td>\n",
       "      <td>left_only</td>\n",
       "    </tr>\n",
       "    <tr>\n",
       "      <th>3</th>\n",
       "      <td>Casa en Arriendo, PARIS GAITAN Bogotá D.C..</td>\n",
       "      <td>$3.400.000</td>\n",
       "      <td>5</td>\n",
       "      <td>4</td>\n",
       "      <td>71.0 m2</td>\n",
       "      <td>casa ezquinera excelente ubicacion cinco alcob...</td>\n",
       "      <td>https://www.metrocuadrado.com/inmueble/arriend...</td>\n",
       "      <td>56.0</td>\n",
       "      <td>left_only</td>\n",
       "    </tr>\n",
       "    <tr>\n",
       "      <th>4</th>\n",
       "      <td>Casa en Arriendo, BALCONES DE ORIENTE Bogotá D...</td>\n",
       "      <td>$1.560.000</td>\n",
       "      <td>4</td>\n",
       "      <td>3</td>\n",
       "      <td>96.0 m2</td>\n",
       "      <td>Excelente casa de tres niveles, buena ubicació...</td>\n",
       "      <td>https://www.metrocuadrado.com/inmueble/arriend...</td>\n",
       "      <td>47.1</td>\n",
       "      <td>left_only</td>\n",
       "    </tr>\n",
       "    <tr>\n",
       "      <th>...</th>\n",
       "      <td>...</td>\n",
       "      <td>...</td>\n",
       "      <td>...</td>\n",
       "      <td>...</td>\n",
       "      <td>...</td>\n",
       "      <td>...</td>\n",
       "      <td>...</td>\n",
       "      <td>...</td>\n",
       "      <td>...</td>\n",
       "    </tr>\n",
       "    <tr>\n",
       "      <th>16374</th>\n",
       "      <td>Apartamento en Arriendo, SANTA BIBIANA Bogotá ...</td>\n",
       "      <td>$2.600.000</td>\n",
       "      <td>1</td>\n",
       "      <td>2</td>\n",
       "      <td>60.0 m2</td>\n",
       "      <td>Se arrienda precioso apartamento amoblado, con...</td>\n",
       "      <td>https://www.metrocuadrado.com/inmueble/arriend...</td>\n",
       "      <td>63.4</td>\n",
       "      <td>right_only</td>\n",
       "    </tr>\n",
       "    <tr>\n",
       "      <th>16375</th>\n",
       "      <td>Apartamento en Arriendo, SANTA BARBARA OCCIDEN...</td>\n",
       "      <td>$2.350.000</td>\n",
       "      <td>1</td>\n",
       "      <td>1</td>\n",
       "      <td>43.0 m2</td>\n",
       "      <td>CÓMODO APARTAMENTO EN ARRIENDO UBICADO EN EL B...</td>\n",
       "      <td>https://www.metrocuadrado.com/inmueble/arriend...</td>\n",
       "      <td>56.0</td>\n",
       "      <td>right_only</td>\n",
       "    </tr>\n",
       "    <tr>\n",
       "      <th>16376</th>\n",
       "      <td>Apartamento en Arriendo, CHICO NORTE Bogotá D.C..</td>\n",
       "      <td>$1.750.000</td>\n",
       "      <td>1</td>\n",
       "      <td>1</td>\n",
       "      <td>48.0 m2</td>\n",
       "      <td>Apartamentototalmente  amoblado de 47 metros c...</td>\n",
       "      <td>https://www.metrocuadrado.com/inmueble/arriend...</td>\n",
       "      <td>39.4</td>\n",
       "      <td>right_only</td>\n",
       "    </tr>\n",
       "    <tr>\n",
       "      <th>16377</th>\n",
       "      <td>Apartamento en Arriendo, LA CABRERA Bogotá D.C..</td>\n",
       "      <td>$3.900.000</td>\n",
       "      <td>2</td>\n",
       "      <td>3</td>\n",
       "      <td>102.0 m2</td>\n",
       "      <td>Hermoso y acogedor apartamento completamente a...</td>\n",
       "      <td>https://www.metrocuadrado.com/inmueble/arriend...</td>\n",
       "      <td>51.6</td>\n",
       "      <td>right_only</td>\n",
       "    </tr>\n",
       "    <tr>\n",
       "      <th>16378</th>\n",
       "      <td>Apartamento en Arriendo, MOLINOS NORTE Bogotá ...</td>\n",
       "      <td>$2.525.000</td>\n",
       "      <td>2</td>\n",
       "      <td>3</td>\n",
       "      <td>106.0 m2</td>\n",
       "      <td>Hermoso apartamento de 106m2  2  añoS de const...</td>\n",
       "      <td>https://www.metrocuadrado.com/inmueble/arriend...</td>\n",
       "      <td>44.4</td>\n",
       "      <td>right_only</td>\n",
       "    </tr>\n",
       "  </tbody>\n",
       "</table>\n",
       "<p>16379 rows × 9 columns</p>\n",
       "</div>"
      ],
      "text/plain": [
       "                        property_type|rent_type|location       price n_rooms  \\\n",
       "0        Casa en Arriendo, LA SOLEDAD NORTE Bogotá D.C..  $1.050.000       3   \n",
       "1      Casa en Arriendo, CIUDAD SALITRE SUR-ORIENTAL ...  $3.930.000       3   \n",
       "2      Casa en Arriendo, VILLA DE LOS ALPES II SECTOR...    $750.000       3   \n",
       "3            Casa en Arriendo, PARIS GAITAN Bogotá D.C..  $3.400.000       5   \n",
       "4      Casa en Arriendo, BALCONES DE ORIENTE Bogotá D...  $1.560.000       4   \n",
       "...                                                  ...         ...     ...   \n",
       "16374  Apartamento en Arriendo, SANTA BIBIANA Bogotá ...  $2.600.000       1   \n",
       "16375  Apartamento en Arriendo, SANTA BARBARA OCCIDEN...  $2.350.000       1   \n",
       "16376  Apartamento en Arriendo, CHICO NORTE Bogotá D.C..  $1.750.000       1   \n",
       "16377   Apartamento en Arriendo, LA CABRERA Bogotá D.C..  $3.900.000       2   \n",
       "16378  Apartamento en Arriendo, MOLINOS NORTE Bogotá ...  $2.525.000       2   \n",
       "\n",
       "      n_bath   surface                                            details  \\\n",
       "0          2   63.0 m2  Excelente casa cerca de la calle 80 y Avenida ...   \n",
       "1          2  100.0 m2  Se arrienda casa bonita totalmente amoblada co...   \n",
       "2          1   90.0 m2  CASA DE TRES NIVELES TRES ALCOBAS SALA COMEDOR...   \n",
       "3          4   71.0 m2  casa ezquinera excelente ubicacion cinco alcob...   \n",
       "4          3   96.0 m2  Excelente casa de tres niveles, buena ubicació...   \n",
       "...      ...       ...                                                ...   \n",
       "16374      2   60.0 m2  Se arrienda precioso apartamento amoblado, con...   \n",
       "16375      1   43.0 m2  CÓMODO APARTAMENTO EN ARRIENDO UBICADO EN EL B...   \n",
       "16376      1   48.0 m2  Apartamentototalmente  amoblado de 47 metros c...   \n",
       "16377      3  102.0 m2  Hermoso y acogedor apartamento completamente a...   \n",
       "16378      3  106.0 m2  Hermoso apartamento de 106m2  2  añoS de const...   \n",
       "\n",
       "                                                     url  metro_cuadrado  \\\n",
       "0      https://www.metrocuadrado.com/inmueble/arriend...            25.6   \n",
       "1      https://www.metrocuadrado.com/inmueble/arriend...            57.3   \n",
       "2      https://www.metrocuadrado.com/inmueble/arriend...            12.2   \n",
       "3      https://www.metrocuadrado.com/inmueble/arriend...            56.0   \n",
       "4      https://www.metrocuadrado.com/inmueble/arriend...            47.1   \n",
       "...                                                  ...             ...   \n",
       "16374  https://www.metrocuadrado.com/inmueble/arriend...            63.4   \n",
       "16375  https://www.metrocuadrado.com/inmueble/arriend...            56.0   \n",
       "16376  https://www.metrocuadrado.com/inmueble/arriend...            39.4   \n",
       "16377  https://www.metrocuadrado.com/inmueble/arriend...            51.6   \n",
       "16378  https://www.metrocuadrado.com/inmueble/arriend...            44.4   \n",
       "\n",
       "           _merge  \n",
       "0       left_only  \n",
       "1            both  \n",
       "2       left_only  \n",
       "3       left_only  \n",
       "4       left_only  \n",
       "...           ...  \n",
       "16374  right_only  \n",
       "16375  right_only  \n",
       "16376  right_only  \n",
       "16377  right_only  \n",
       "16378  right_only  \n",
       "\n",
       "[16379 rows x 9 columns]"
      ]
     },
     "execution_count": 5,
     "metadata": {},
     "output_type": "execute_result"
    }
   ],
   "source": [
    "# Iniciar Data frame\n",
    "df = append_dataframes()\n",
    "df"
   ]
  },
  {
   "cell_type": "markdown",
   "metadata": {},
   "source": [
    "Si hay furnished que no hay en all, identificados como 'right_only' de la columna _merge"
   ]
  },
  {
   "cell_type": "markdown",
   "metadata": {},
   "source": [
    "### 2- . Limpieza"
   ]
  },
  {
   "cell_type": "markdown",
   "metadata": {},
   "source": [
    "##### a)"
   ]
  },
  {
   "cell_type": "code",
   "execution_count": 6,
   "metadata": {
    "ExecuteTime": {
     "end_time": "2020-05-11T22:52:53.275852Z",
     "start_time": "2020-05-11T22:52:53.200045Z"
    },
    "scrolled": true
   },
   "outputs": [],
   "source": [
    "# Limpiamos la columna price\n",
    "df['price'] = df['price'].str.replace('$', '')\n",
    "df['price'] = df['price'].str.replace('.', '')\n",
    "df['price'] = df['price'].apply(float)"
   ]
  },
  {
   "cell_type": "code",
   "execution_count": 7,
   "metadata": {
    "ExecuteTime": {
     "end_time": "2020-05-11T22:52:53.376616Z",
     "start_time": "2020-05-11T22:52:53.277835Z"
    }
   },
   "outputs": [],
   "source": [
    "# Limpiamos la columna surface\n",
    "df['surface'] = df['surface'].str.replace('m2', '')\n",
    "df['surface'] = df['surface'].apply(float)"
   ]
  },
  {
   "cell_type": "code",
   "execution_count": 8,
   "metadata": {
    "ExecuteTime": {
     "end_time": "2020-05-11T22:52:53.578635Z",
     "start_time": "2020-05-11T22:52:53.383592Z"
    }
   },
   "outputs": [],
   "source": [
    "# Limpiamos n_rooms y n_baths, sujeto a cambios\n",
    "df['n_rooms'] = df['n_rooms'].replace('5+', 6)\n",
    "df['n_rooms'].fillna(3, inplace=True)\n",
    "df['n_rooms'] = df['n_rooms'].apply(float)\n",
    "\n",
    "df['n_bath'] = df['n_bath'].replace('5+', 6)\n",
    "df['n_bath'].fillna(3, inplace=True)\n",
    "df['n_bath'] = df['n_bath'].apply(float)"
   ]
  },
  {
   "cell_type": "markdown",
   "metadata": {},
   "source": [
    "Vemos los Dtype"
   ]
  },
  {
   "cell_type": "code",
   "execution_count": 9,
   "metadata": {
    "ExecuteTime": {
     "end_time": "2020-05-11T22:52:53.744133Z",
     "start_time": "2020-05-11T22:52:53.594535Z"
    }
   },
   "outputs": [
    {
     "name": "stdout",
     "output_type": "stream",
     "text": [
      "<class 'pandas.core.frame.DataFrame'>\n",
      "RangeIndex: 16379 entries, 0 to 16378\n",
      "Data columns (total 9 columns):\n",
      " #   Column                            Non-Null Count  Dtype   \n",
      "---  ------                            --------------  -----   \n",
      " 0   property_type|rent_type|location  16379 non-null  object  \n",
      " 1   price                             16379 non-null  float64 \n",
      " 2   n_rooms                           16379 non-null  float64 \n",
      " 3   n_bath                            16379 non-null  float64 \n",
      " 4   surface                           16379 non-null  float64 \n",
      " 5   details                           16269 non-null  object  \n",
      " 6   url                               16379 non-null  object  \n",
      " 7   metro_cuadrado                    16379 non-null  float64 \n",
      " 8   _merge                            16379 non-null  category\n",
      "dtypes: category(1), float64(5), object(3)\n",
      "memory usage: 1.0+ MB\n"
     ]
    }
   ],
   "source": [
    "df.info()"
   ]
  },
  {
   "cell_type": "markdown",
   "metadata": {},
   "source": [
    "##### b)"
   ]
  },
  {
   "cell_type": "code",
   "execution_count": 10,
   "metadata": {
    "ExecuteTime": {
     "end_time": "2020-05-11T22:52:53.987508Z",
     "start_time": "2020-05-11T22:52:53.746129Z"
    }
   },
   "outputs": [],
   "source": [
    "# Split de la comuna\n",
    "s = pd.Series(df.keys())\n",
    "split = s.str.split('|', expand=True)\n",
    "\n",
    "# Columnas de transicion\n",
    "df[['property_type+rent_type', 'location']] = df['property_type|rent_type|location'].str.split(',', expand=True)\n",
    "df[['property_type','rent_type']] = df['property_type+rent_type'].str.split(' en ', expand=True)\n",
    "\n",
    "# Dropeamos las extra\n",
    "df = df.drop(['property_type|rent_type|location', 'property_type+rent_type'], axis=1)"
   ]
  },
  {
   "cell_type": "markdown",
   "metadata": {
    "ExecuteTime": {
     "end_time": "2020-05-10T07:19:02.454675Z",
     "start_time": "2020-05-10T07:19:02.449689Z"
    }
   },
   "source": [
    "### 3- . Creación de columnas indicadoras"
   ]
  },
  {
   "cell_type": "markdown",
   "metadata": {},
   "source": [
    "#### a)"
   ]
  },
  {
   "cell_type": "code",
   "execution_count": 11,
   "metadata": {
    "ExecuteTime": {
     "end_time": "2020-05-11T22:52:54.364627Z",
     "start_time": "2020-05-11T22:52:53.989496Z"
    }
   },
   "outputs": [],
   "source": [
    "# Creamos columna precio m2\n",
    "df['precio_m2'] = df['price']/df['surface']"
   ]
  },
  {
   "cell_type": "markdown",
   "metadata": {},
   "source": [
    "#### b)"
   ]
  },
  {
   "cell_type": "code",
   "execution_count": 12,
   "metadata": {
    "ExecuteTime": {
     "end_time": "2020-05-11T22:52:54.402519Z",
     "start_time": "2020-05-11T22:52:54.371603Z"
    }
   },
   "outputs": [],
   "source": [
    "def num_garajes(url):\n",
    "    url_splitted = url.split('-garajes')\n",
    "    # Si no hacemos split\n",
    "    if len(url_splitted) == 1:\n",
    "        return 0\n",
    "    else:\n",
    "        # Agarramos las ultimos dos caracteres XX-garajes\n",
    "        n = url_splitted[0][-2:]\n",
    "        # Si es del tipo -1-garajes, devolvemos 1\n",
    "        if n[0] == '-':\n",
    "            return n[1]\n",
    "        return n\n",
    "\n",
    "\n",
    "# Creamos la columna n_garajes\n",
    "df['n_garajes'] = df['url'].apply(num_garajes)"
   ]
  },
  {
   "cell_type": "code",
   "execution_count": 13,
   "metadata": {
    "ExecuteTime": {
     "end_time": "2020-05-11T22:52:54.540162Z",
     "start_time": "2020-05-11T22:52:54.405512Z"
    }
   },
   "outputs": [],
   "source": [
    "# Limpiamos n_garajes, sujeto a cambios\n",
    "df['n_garajes'] = df['n_garajes'].replace('4+',5)\n",
    "df['n_garajes'] = df['n_garajes'].apply(float)"
   ]
  },
  {
   "cell_type": "markdown",
   "metadata": {},
   "source": [
    "### 4- . Clasificación por tipo de producto"
   ]
  },
  {
   "cell_type": "code",
   "execution_count": 14,
   "metadata": {
    "ExecuteTime": {
     "end_time": "2020-05-11T22:53:00.009221Z",
     "start_time": "2020-05-11T22:52:54.542146Z"
    }
   },
   "outputs": [],
   "source": [
    "# Inicializamos la columna tipo\n",
    "df['tipo'] = -1\n",
    "\n",
    "\n",
    "def clasifica_producto(df):\n",
    "    # Areas\n",
    "    area_min = [80, 120, 180, 240, 360, 40, 60, 80]\n",
    "    area_max = [120, 180, 240, 360, 460, 60, 80, 120]\n",
    "\n",
    "    # Query\n",
    "    for tipo_prod in range(1, 9):\n",
    "        minimo = area_min[tipo_prod-1]\n",
    "        maximo = area_max[tipo_prod-1]\n",
    "        # Query para tipos 1-5\n",
    "        if tipo_prod < 6:\n",
    "            query = 'property_type == \"Casa\" and {} < surface < {}'.format(minimo, maximo)\n",
    "            indices = df.query(query).index\n",
    "            for i in indices:\n",
    "                df.loc[i, 'tipo'] = tipo_prod\n",
    "        else:\n",
    "            query = 'property_type == \"Apartamento\" and {} < surface < {}'.format(minimo, maximo)\n",
    "            indices = df.query(query).index\n",
    "            for i in indices:\n",
    "                df.loc[i, 'tipo'] = tipo_prod\n",
    "\n",
    "    return df\n",
    "\n",
    "\n",
    "# Actualizamos el dataframe\n",
    "df = clasifica_producto(df)"
   ]
  },
  {
   "cell_type": "code",
   "execution_count": 15,
   "metadata": {
    "ExecuteTime": {
     "end_time": "2020-05-11T22:53:00.068063Z",
     "start_time": "2020-05-11T22:53:00.013209Z"
    },
    "scrolled": true
   },
   "outputs": [
    {
     "data": {
      "text/html": [
       "<div>\n",
       "<style scoped>\n",
       "    .dataframe tbody tr th:only-of-type {\n",
       "        vertical-align: middle;\n",
       "    }\n",
       "\n",
       "    .dataframe tbody tr th {\n",
       "        vertical-align: top;\n",
       "    }\n",
       "\n",
       "    .dataframe thead th {\n",
       "        text-align: right;\n",
       "    }\n",
       "</style>\n",
       "<table border=\"1\" class=\"dataframe\">\n",
       "  <thead>\n",
       "    <tr style=\"text-align: right;\">\n",
       "      <th></th>\n",
       "      <th>price</th>\n",
       "      <th>n_rooms</th>\n",
       "      <th>n_bath</th>\n",
       "      <th>surface</th>\n",
       "      <th>details</th>\n",
       "      <th>url</th>\n",
       "      <th>metro_cuadrado</th>\n",
       "      <th>_merge</th>\n",
       "      <th>location</th>\n",
       "      <th>property_type</th>\n",
       "      <th>rent_type</th>\n",
       "      <th>precio_m2</th>\n",
       "      <th>n_garajes</th>\n",
       "      <th>tipo</th>\n",
       "    </tr>\n",
       "  </thead>\n",
       "  <tbody>\n",
       "    <tr>\n",
       "      <th>0</th>\n",
       "      <td>1050000.0</td>\n",
       "      <td>3.0</td>\n",
       "      <td>2.0</td>\n",
       "      <td>63.0</td>\n",
       "      <td>Excelente casa cerca de la calle 80 y Avenida ...</td>\n",
       "      <td>https://www.metrocuadrado.com/inmueble/arriend...</td>\n",
       "      <td>25.6</td>\n",
       "      <td>left_only</td>\n",
       "      <td>LA SOLEDAD NORTE Bogotá D.C..</td>\n",
       "      <td>Casa</td>\n",
       "      <td>Arriendo</td>\n",
       "      <td>16666.666667</td>\n",
       "      <td>1.0</td>\n",
       "      <td>-1</td>\n",
       "    </tr>\n",
       "    <tr>\n",
       "      <th>1</th>\n",
       "      <td>3930000.0</td>\n",
       "      <td>3.0</td>\n",
       "      <td>2.0</td>\n",
       "      <td>100.0</td>\n",
       "      <td>Se arrienda casa bonita totalmente amoblada co...</td>\n",
       "      <td>https://www.metrocuadrado.com/inmueble/arriend...</td>\n",
       "      <td>57.3</td>\n",
       "      <td>both</td>\n",
       "      <td>CIUDAD SALITRE SUR-ORIENTAL Bogotá D.C..</td>\n",
       "      <td>Casa</td>\n",
       "      <td>Arriendo</td>\n",
       "      <td>39300.000000</td>\n",
       "      <td>1.0</td>\n",
       "      <td>1</td>\n",
       "    </tr>\n",
       "    <tr>\n",
       "      <th>2</th>\n",
       "      <td>750000.0</td>\n",
       "      <td>3.0</td>\n",
       "      <td>1.0</td>\n",
       "      <td>90.0</td>\n",
       "      <td>CASA DE TRES NIVELES TRES ALCOBAS SALA COMEDOR...</td>\n",
       "      <td>https://www.metrocuadrado.com/inmueble/arriend...</td>\n",
       "      <td>12.2</td>\n",
       "      <td>left_only</td>\n",
       "      <td>VILLA DE LOS ALPES II SECTOR Bogotá D.C..</td>\n",
       "      <td>Casa</td>\n",
       "      <td>Arriendo</td>\n",
       "      <td>8333.333333</td>\n",
       "      <td>0.0</td>\n",
       "      <td>1</td>\n",
       "    </tr>\n",
       "    <tr>\n",
       "      <th>3</th>\n",
       "      <td>3400000.0</td>\n",
       "      <td>5.0</td>\n",
       "      <td>4.0</td>\n",
       "      <td>71.0</td>\n",
       "      <td>casa ezquinera excelente ubicacion cinco alcob...</td>\n",
       "      <td>https://www.metrocuadrado.com/inmueble/arriend...</td>\n",
       "      <td>56.0</td>\n",
       "      <td>left_only</td>\n",
       "      <td>PARIS GAITAN Bogotá D.C..</td>\n",
       "      <td>Casa</td>\n",
       "      <td>Arriendo</td>\n",
       "      <td>47887.323944</td>\n",
       "      <td>0.0</td>\n",
       "      <td>-1</td>\n",
       "    </tr>\n",
       "    <tr>\n",
       "      <th>4</th>\n",
       "      <td>1560000.0</td>\n",
       "      <td>4.0</td>\n",
       "      <td>3.0</td>\n",
       "      <td>96.0</td>\n",
       "      <td>Excelente casa de tres niveles, buena ubicació...</td>\n",
       "      <td>https://www.metrocuadrado.com/inmueble/arriend...</td>\n",
       "      <td>47.1</td>\n",
       "      <td>left_only</td>\n",
       "      <td>BALCONES DE ORIENTE Bogotá D.C..</td>\n",
       "      <td>Casa</td>\n",
       "      <td>Arriendo</td>\n",
       "      <td>16250.000000</td>\n",
       "      <td>1.0</td>\n",
       "      <td>1</td>\n",
       "    </tr>\n",
       "    <tr>\n",
       "      <th>...</th>\n",
       "      <td>...</td>\n",
       "      <td>...</td>\n",
       "      <td>...</td>\n",
       "      <td>...</td>\n",
       "      <td>...</td>\n",
       "      <td>...</td>\n",
       "      <td>...</td>\n",
       "      <td>...</td>\n",
       "      <td>...</td>\n",
       "      <td>...</td>\n",
       "      <td>...</td>\n",
       "      <td>...</td>\n",
       "      <td>...</td>\n",
       "      <td>...</td>\n",
       "    </tr>\n",
       "    <tr>\n",
       "      <th>16374</th>\n",
       "      <td>2600000.0</td>\n",
       "      <td>1.0</td>\n",
       "      <td>2.0</td>\n",
       "      <td>60.0</td>\n",
       "      <td>Se arrienda precioso apartamento amoblado, con...</td>\n",
       "      <td>https://www.metrocuadrado.com/inmueble/arriend...</td>\n",
       "      <td>63.4</td>\n",
       "      <td>right_only</td>\n",
       "      <td>SANTA BIBIANA Bogotá D.C..</td>\n",
       "      <td>Apartamento</td>\n",
       "      <td>Arriendo</td>\n",
       "      <td>43333.333333</td>\n",
       "      <td>1.0</td>\n",
       "      <td>-1</td>\n",
       "    </tr>\n",
       "    <tr>\n",
       "      <th>16375</th>\n",
       "      <td>2350000.0</td>\n",
       "      <td>1.0</td>\n",
       "      <td>1.0</td>\n",
       "      <td>43.0</td>\n",
       "      <td>CÓMODO APARTAMENTO EN ARRIENDO UBICADO EN EL B...</td>\n",
       "      <td>https://www.metrocuadrado.com/inmueble/arriend...</td>\n",
       "      <td>56.0</td>\n",
       "      <td>right_only</td>\n",
       "      <td>SANTA BARBARA OCCIDENTAL Bogotá D.C..</td>\n",
       "      <td>Apartamento</td>\n",
       "      <td>Arriendo</td>\n",
       "      <td>54651.162791</td>\n",
       "      <td>1.0</td>\n",
       "      <td>6</td>\n",
       "    </tr>\n",
       "    <tr>\n",
       "      <th>16376</th>\n",
       "      <td>1750000.0</td>\n",
       "      <td>1.0</td>\n",
       "      <td>1.0</td>\n",
       "      <td>48.0</td>\n",
       "      <td>Apartamentototalmente  amoblado de 47 metros c...</td>\n",
       "      <td>https://www.metrocuadrado.com/inmueble/arriend...</td>\n",
       "      <td>39.4</td>\n",
       "      <td>right_only</td>\n",
       "      <td>CHICO NORTE Bogotá D.C..</td>\n",
       "      <td>Apartamento</td>\n",
       "      <td>Arriendo</td>\n",
       "      <td>36458.333333</td>\n",
       "      <td>1.0</td>\n",
       "      <td>6</td>\n",
       "    </tr>\n",
       "    <tr>\n",
       "      <th>16377</th>\n",
       "      <td>3900000.0</td>\n",
       "      <td>2.0</td>\n",
       "      <td>3.0</td>\n",
       "      <td>102.0</td>\n",
       "      <td>Hermoso y acogedor apartamento completamente a...</td>\n",
       "      <td>https://www.metrocuadrado.com/inmueble/arriend...</td>\n",
       "      <td>51.6</td>\n",
       "      <td>right_only</td>\n",
       "      <td>LA CABRERA Bogotá D.C..</td>\n",
       "      <td>Apartamento</td>\n",
       "      <td>Arriendo</td>\n",
       "      <td>38235.294118</td>\n",
       "      <td>2.0</td>\n",
       "      <td>8</td>\n",
       "    </tr>\n",
       "    <tr>\n",
       "      <th>16378</th>\n",
       "      <td>2525000.0</td>\n",
       "      <td>2.0</td>\n",
       "      <td>3.0</td>\n",
       "      <td>106.0</td>\n",
       "      <td>Hermoso apartamento de 106m2  2  añoS de const...</td>\n",
       "      <td>https://www.metrocuadrado.com/inmueble/arriend...</td>\n",
       "      <td>44.4</td>\n",
       "      <td>right_only</td>\n",
       "      <td>MOLINOS NORTE Bogotá D.C..</td>\n",
       "      <td>Apartamento</td>\n",
       "      <td>Arriendo</td>\n",
       "      <td>23820.754717</td>\n",
       "      <td>2.0</td>\n",
       "      <td>8</td>\n",
       "    </tr>\n",
       "  </tbody>\n",
       "</table>\n",
       "<p>16379 rows × 14 columns</p>\n",
       "</div>"
      ],
      "text/plain": [
       "           price  n_rooms  n_bath  surface  \\\n",
       "0      1050000.0      3.0     2.0     63.0   \n",
       "1      3930000.0      3.0     2.0    100.0   \n",
       "2       750000.0      3.0     1.0     90.0   \n",
       "3      3400000.0      5.0     4.0     71.0   \n",
       "4      1560000.0      4.0     3.0     96.0   \n",
       "...          ...      ...     ...      ...   \n",
       "16374  2600000.0      1.0     2.0     60.0   \n",
       "16375  2350000.0      1.0     1.0     43.0   \n",
       "16376  1750000.0      1.0     1.0     48.0   \n",
       "16377  3900000.0      2.0     3.0    102.0   \n",
       "16378  2525000.0      2.0     3.0    106.0   \n",
       "\n",
       "                                                 details  \\\n",
       "0      Excelente casa cerca de la calle 80 y Avenida ...   \n",
       "1      Se arrienda casa bonita totalmente amoblada co...   \n",
       "2      CASA DE TRES NIVELES TRES ALCOBAS SALA COMEDOR...   \n",
       "3      casa ezquinera excelente ubicacion cinco alcob...   \n",
       "4      Excelente casa de tres niveles, buena ubicació...   \n",
       "...                                                  ...   \n",
       "16374  Se arrienda precioso apartamento amoblado, con...   \n",
       "16375  CÓMODO APARTAMENTO EN ARRIENDO UBICADO EN EL B...   \n",
       "16376  Apartamentototalmente  amoblado de 47 metros c...   \n",
       "16377  Hermoso y acogedor apartamento completamente a...   \n",
       "16378  Hermoso apartamento de 106m2  2  añoS de const...   \n",
       "\n",
       "                                                     url  metro_cuadrado  \\\n",
       "0      https://www.metrocuadrado.com/inmueble/arriend...            25.6   \n",
       "1      https://www.metrocuadrado.com/inmueble/arriend...            57.3   \n",
       "2      https://www.metrocuadrado.com/inmueble/arriend...            12.2   \n",
       "3      https://www.metrocuadrado.com/inmueble/arriend...            56.0   \n",
       "4      https://www.metrocuadrado.com/inmueble/arriend...            47.1   \n",
       "...                                                  ...             ...   \n",
       "16374  https://www.metrocuadrado.com/inmueble/arriend...            63.4   \n",
       "16375  https://www.metrocuadrado.com/inmueble/arriend...            56.0   \n",
       "16376  https://www.metrocuadrado.com/inmueble/arriend...            39.4   \n",
       "16377  https://www.metrocuadrado.com/inmueble/arriend...            51.6   \n",
       "16378  https://www.metrocuadrado.com/inmueble/arriend...            44.4   \n",
       "\n",
       "           _merge                                    location property_type  \\\n",
       "0       left_only               LA SOLEDAD NORTE Bogotá D.C..          Casa   \n",
       "1            both    CIUDAD SALITRE SUR-ORIENTAL Bogotá D.C..          Casa   \n",
       "2       left_only   VILLA DE LOS ALPES II SECTOR Bogotá D.C..          Casa   \n",
       "3       left_only                   PARIS GAITAN Bogotá D.C..          Casa   \n",
       "4       left_only            BALCONES DE ORIENTE Bogotá D.C..          Casa   \n",
       "...           ...                                         ...           ...   \n",
       "16374  right_only                  SANTA BIBIANA Bogotá D.C..   Apartamento   \n",
       "16375  right_only       SANTA BARBARA OCCIDENTAL Bogotá D.C..   Apartamento   \n",
       "16376  right_only                    CHICO NORTE Bogotá D.C..   Apartamento   \n",
       "16377  right_only                     LA CABRERA Bogotá D.C..   Apartamento   \n",
       "16378  right_only                  MOLINOS NORTE Bogotá D.C..   Apartamento   \n",
       "\n",
       "      rent_type     precio_m2  n_garajes  tipo  \n",
       "0      Arriendo  16666.666667        1.0    -1  \n",
       "1      Arriendo  39300.000000        1.0     1  \n",
       "2      Arriendo   8333.333333        0.0     1  \n",
       "3      Arriendo  47887.323944        0.0    -1  \n",
       "4      Arriendo  16250.000000        1.0     1  \n",
       "...         ...           ...        ...   ...  \n",
       "16374  Arriendo  43333.333333        1.0    -1  \n",
       "16375  Arriendo  54651.162791        1.0     6  \n",
       "16376  Arriendo  36458.333333        1.0     6  \n",
       "16377  Arriendo  38235.294118        2.0     8  \n",
       "16378  Arriendo  23820.754717        2.0     8  \n",
       "\n",
       "[16379 rows x 14 columns]"
      ]
     },
     "execution_count": 15,
     "metadata": {},
     "output_type": "execute_result"
    }
   ],
   "source": [
    "df"
   ]
  },
  {
   "cell_type": "markdown",
   "metadata": {},
   "source": [
    "Hay que arreglar, hay casas con menos de 80 de surface"
   ]
  },
  {
   "cell_type": "markdown",
   "metadata": {},
   "source": [
    "### 5- ."
   ]
  },
  {
   "cell_type": "code",
   "execution_count": 16,
   "metadata": {
    "ExecuteTime": {
     "end_time": "2020-05-11T22:53:00.245627Z",
     "start_time": "2020-05-11T22:53:00.070058Z"
    }
   },
   "outputs": [],
   "source": [
    "upz = pd.read_csv('./data/asignacion_upz/barrio-upz.csv')"
   ]
  },
  {
   "cell_type": "code",
   "execution_count": 17,
   "metadata": {
    "ExecuteTime": {
     "end_time": "2020-05-11T22:53:00.415896Z",
     "start_time": "2020-05-11T22:53:00.249610Z"
    },
    "scrolled": true
   },
   "outputs": [
    {
     "data": {
      "text/html": [
       "<div>\n",
       "<style scoped>\n",
       "    .dataframe tbody tr th:only-of-type {\n",
       "        vertical-align: middle;\n",
       "    }\n",
       "\n",
       "    .dataframe tbody tr th {\n",
       "        vertical-align: top;\n",
       "    }\n",
       "\n",
       "    .dataframe thead th {\n",
       "        text-align: right;\n",
       "    }\n",
       "</style>\n",
       "<table border=\"1\" class=\"dataframe\">\n",
       "  <thead>\n",
       "    <tr style=\"text-align: right;\">\n",
       "      <th></th>\n",
       "      <th>UPlCodigo</th>\n",
       "      <th>UPlTipo</th>\n",
       "      <th>UPlNombre</th>\n",
       "      <th>UPlArea</th>\n",
       "      <th>pro_location</th>\n",
       "    </tr>\n",
       "  </thead>\n",
       "  <tbody>\n",
       "    <tr>\n",
       "      <th>0</th>\n",
       "      <td>UPZ100</td>\n",
       "      <td>1</td>\n",
       "      <td>GALERIAS</td>\n",
       "      <td>2.375681e+06</td>\n",
       "      <td>PALERMO</td>\n",
       "    </tr>\n",
       "    <tr>\n",
       "      <th>1</th>\n",
       "      <td>UPZ100</td>\n",
       "      <td>1</td>\n",
       "      <td>GALERIAS</td>\n",
       "      <td>2.375681e+06</td>\n",
       "      <td>BELALCAZAR</td>\n",
       "    </tr>\n",
       "    <tr>\n",
       "      <th>2</th>\n",
       "      <td>UPZ100</td>\n",
       "      <td>1</td>\n",
       "      <td>GALERIAS</td>\n",
       "      <td>2.375681e+06</td>\n",
       "      <td>SEARS</td>\n",
       "    </tr>\n",
       "    <tr>\n",
       "      <th>3</th>\n",
       "      <td>UPZ100</td>\n",
       "      <td>1</td>\n",
       "      <td>GALERIAS</td>\n",
       "      <td>2.375681e+06</td>\n",
       "      <td>GALERIAS</td>\n",
       "    </tr>\n",
       "    <tr>\n",
       "      <th>4</th>\n",
       "      <td>UPZ100</td>\n",
       "      <td>1</td>\n",
       "      <td>GALERIAS</td>\n",
       "      <td>2.375681e+06</td>\n",
       "      <td>BANCO CENTRAL</td>\n",
       "    </tr>\n",
       "    <tr>\n",
       "      <th>...</th>\n",
       "      <td>...</td>\n",
       "      <td>...</td>\n",
       "      <td>...</td>\n",
       "      <td>...</td>\n",
       "      <td>...</td>\n",
       "    </tr>\n",
       "    <tr>\n",
       "      <th>463</th>\n",
       "      <td>UPZ42</td>\n",
       "      <td>1</td>\n",
       "      <td>VENECIA</td>\n",
       "      <td>6.638420e+06</td>\n",
       "      <td>NUEVO MUZU</td>\n",
       "    </tr>\n",
       "    <tr>\n",
       "      <th>464</th>\n",
       "      <td>UPZ42</td>\n",
       "      <td>1</td>\n",
       "      <td>VENECIA</td>\n",
       "      <td>6.638420e+06</td>\n",
       "      <td>EL CONDOR</td>\n",
       "    </tr>\n",
       "    <tr>\n",
       "      <th>465</th>\n",
       "      <td>UPZ42</td>\n",
       "      <td>1</td>\n",
       "      <td>VENECIA</td>\n",
       "      <td>6.638420e+06</td>\n",
       "      <td>LAGUNETA</td>\n",
       "    </tr>\n",
       "    <tr>\n",
       "      <th>466</th>\n",
       "      <td>UPZ52</td>\n",
       "      <td>1</td>\n",
       "      <td>LA FLORA</td>\n",
       "      <td>1.877160e+06</td>\n",
       "      <td>VILLA MARIA</td>\n",
       "    </tr>\n",
       "    <tr>\n",
       "      <th>467</th>\n",
       "      <td>UPZ60</td>\n",
       "      <td>1</td>\n",
       "      <td>PARQUE ENTRENUBES</td>\n",
       "      <td>4.190395e+06</td>\n",
       "      <td>-NULO-</td>\n",
       "    </tr>\n",
       "  </tbody>\n",
       "</table>\n",
       "<p>468 rows × 5 columns</p>\n",
       "</div>"
      ],
      "text/plain": [
       "    UPlCodigo  UPlTipo          UPlNombre       UPlArea   pro_location\n",
       "0      UPZ100        1           GALERIAS  2.375681e+06        PALERMO\n",
       "1      UPZ100        1           GALERIAS  2.375681e+06     BELALCAZAR\n",
       "2      UPZ100        1           GALERIAS  2.375681e+06          SEARS\n",
       "3      UPZ100        1           GALERIAS  2.375681e+06       GALERIAS\n",
       "4      UPZ100        1           GALERIAS  2.375681e+06  BANCO CENTRAL\n",
       "..        ...      ...                ...           ...            ...\n",
       "463     UPZ42        1            VENECIA  6.638420e+06     NUEVO MUZU\n",
       "464     UPZ42        1            VENECIA  6.638420e+06      EL CONDOR\n",
       "465     UPZ42        1            VENECIA  6.638420e+06       LAGUNETA\n",
       "466     UPZ52        1           LA FLORA  1.877160e+06    VILLA MARIA\n",
       "467     UPZ60        1  PARQUE ENTRENUBES  4.190395e+06         -NULO-\n",
       "\n",
       "[468 rows x 5 columns]"
      ]
     },
     "execution_count": 17,
     "metadata": {},
     "output_type": "execute_result"
    }
   ],
   "source": [
    "def transforma_str(elemento):\n",
    "    if type(elemento) == str:\n",
    "        espaciado = elemento.strip()\n",
    "        if len(espaciado) != 0:\n",
    "            return elemento\n",
    "    else:\n",
    "        return '-nulo-'\n",
    "\n",
    "\n",
    "upz['pro_location'] = upz['pro_location'].apply(transforma_str)\n",
    "upz['pro_location'] = upz['pro_location'].apply(str.upper)\n",
    "upz"
   ]
  },
  {
   "cell_type": "code",
   "execution_count": 18,
   "metadata": {
    "ExecuteTime": {
     "end_time": "2020-05-11T22:53:19.261352Z",
     "start_time": "2020-05-11T22:53:00.418888Z"
    }
   },
   "outputs": [],
   "source": [
    "# Inicializamos la columna\n",
    "df['upz'] = -1\n",
    "\n",
    "def clasifica_upz(df):\n",
    "    locaciones = list(upz['pro_location'])\n",
    "    codigos_upl = list(upz['UPlCodigo'])\n",
    "    \n",
    "    for codigo, locacion in zip(codigos_upl, locaciones):\n",
    "        indice = df[df['location'].str.contains(locacion)].index\n",
    "        \n",
    "        for i in indice:\n",
    "            df.loc[i,'upz'] = codigo\n",
    "    \n",
    "    return df\n",
    "\n",
    "\n",
    "df = clasifica_upz(df)"
   ]
  },
  {
   "cell_type": "code",
   "execution_count": 19,
   "metadata": {
    "ExecuteTime": {
     "end_time": "2020-05-11T22:53:19.292238Z",
     "start_time": "2020-05-11T22:53:19.263316Z"
    },
    "scrolled": true
   },
   "outputs": [
    {
     "data": {
      "text/html": [
       "<div>\n",
       "<style scoped>\n",
       "    .dataframe tbody tr th:only-of-type {\n",
       "        vertical-align: middle;\n",
       "    }\n",
       "\n",
       "    .dataframe tbody tr th {\n",
       "        vertical-align: top;\n",
       "    }\n",
       "\n",
       "    .dataframe thead th {\n",
       "        text-align: right;\n",
       "    }\n",
       "</style>\n",
       "<table border=\"1\" class=\"dataframe\">\n",
       "  <thead>\n",
       "    <tr style=\"text-align: right;\">\n",
       "      <th></th>\n",
       "      <th>price</th>\n",
       "      <th>n_rooms</th>\n",
       "      <th>n_bath</th>\n",
       "      <th>surface</th>\n",
       "      <th>details</th>\n",
       "      <th>url</th>\n",
       "      <th>metro_cuadrado</th>\n",
       "      <th>_merge</th>\n",
       "      <th>location</th>\n",
       "      <th>property_type</th>\n",
       "      <th>rent_type</th>\n",
       "      <th>precio_m2</th>\n",
       "      <th>n_garajes</th>\n",
       "      <th>tipo</th>\n",
       "      <th>upz</th>\n",
       "    </tr>\n",
       "  </thead>\n",
       "  <tbody>\n",
       "    <tr>\n",
       "      <th>0</th>\n",
       "      <td>1050000.0</td>\n",
       "      <td>3.0</td>\n",
       "      <td>2.0</td>\n",
       "      <td>63.0</td>\n",
       "      <td>Excelente casa cerca de la calle 80 y Avenida ...</td>\n",
       "      <td>https://www.metrocuadrado.com/inmueble/arriend...</td>\n",
       "      <td>25.6</td>\n",
       "      <td>left_only</td>\n",
       "      <td>LA SOLEDAD NORTE Bogotá D.C..</td>\n",
       "      <td>Casa</td>\n",
       "      <td>Arriendo</td>\n",
       "      <td>16666.666667</td>\n",
       "      <td>1.0</td>\n",
       "      <td>-1</td>\n",
       "      <td>UPZ101</td>\n",
       "    </tr>\n",
       "    <tr>\n",
       "      <th>1</th>\n",
       "      <td>3930000.0</td>\n",
       "      <td>3.0</td>\n",
       "      <td>2.0</td>\n",
       "      <td>100.0</td>\n",
       "      <td>Se arrienda casa bonita totalmente amoblada co...</td>\n",
       "      <td>https://www.metrocuadrado.com/inmueble/arriend...</td>\n",
       "      <td>57.3</td>\n",
       "      <td>both</td>\n",
       "      <td>CIUDAD SALITRE SUR-ORIENTAL Bogotá D.C..</td>\n",
       "      <td>Casa</td>\n",
       "      <td>Arriendo</td>\n",
       "      <td>39300.000000</td>\n",
       "      <td>1.0</td>\n",
       "      <td>1</td>\n",
       "      <td>-1</td>\n",
       "    </tr>\n",
       "    <tr>\n",
       "      <th>2</th>\n",
       "      <td>750000.0</td>\n",
       "      <td>3.0</td>\n",
       "      <td>1.0</td>\n",
       "      <td>90.0</td>\n",
       "      <td>CASA DE TRES NIVELES TRES ALCOBAS SALA COMEDOR...</td>\n",
       "      <td>https://www.metrocuadrado.com/inmueble/arriend...</td>\n",
       "      <td>12.2</td>\n",
       "      <td>left_only</td>\n",
       "      <td>VILLA DE LOS ALPES II SECTOR Bogotá D.C..</td>\n",
       "      <td>Casa</td>\n",
       "      <td>Arriendo</td>\n",
       "      <td>8333.333333</td>\n",
       "      <td>0.0</td>\n",
       "      <td>1</td>\n",
       "      <td>UPZ75</td>\n",
       "    </tr>\n",
       "  </tbody>\n",
       "</table>\n",
       "</div>"
      ],
      "text/plain": [
       "       price  n_rooms  n_bath  surface  \\\n",
       "0  1050000.0      3.0     2.0     63.0   \n",
       "1  3930000.0      3.0     2.0    100.0   \n",
       "2   750000.0      3.0     1.0     90.0   \n",
       "\n",
       "                                             details  \\\n",
       "0  Excelente casa cerca de la calle 80 y Avenida ...   \n",
       "1  Se arrienda casa bonita totalmente amoblada co...   \n",
       "2  CASA DE TRES NIVELES TRES ALCOBAS SALA COMEDOR...   \n",
       "\n",
       "                                                 url  metro_cuadrado  \\\n",
       "0  https://www.metrocuadrado.com/inmueble/arriend...            25.6   \n",
       "1  https://www.metrocuadrado.com/inmueble/arriend...            57.3   \n",
       "2  https://www.metrocuadrado.com/inmueble/arriend...            12.2   \n",
       "\n",
       "      _merge                                    location property_type  \\\n",
       "0  left_only               LA SOLEDAD NORTE Bogotá D.C..          Casa   \n",
       "1       both    CIUDAD SALITRE SUR-ORIENTAL Bogotá D.C..          Casa   \n",
       "2  left_only   VILLA DE LOS ALPES II SECTOR Bogotá D.C..          Casa   \n",
       "\n",
       "  rent_type     precio_m2  n_garajes  tipo     upz  \n",
       "0  Arriendo  16666.666667        1.0    -1  UPZ101  \n",
       "1  Arriendo  39300.000000        1.0     1      -1  \n",
       "2  Arriendo   8333.333333        0.0     1   UPZ75  "
      ]
     },
     "execution_count": 19,
     "metadata": {},
     "output_type": "execute_result"
    }
   ],
   "source": [
    "df.head(3)"
   ]
  },
  {
   "cell_type": "code",
   "execution_count": 20,
   "metadata": {
    "ExecuteTime": {
     "end_time": "2020-05-11T22:53:19.490897Z",
     "start_time": "2020-05-11T22:53:19.295450Z"
    }
   },
   "outputs": [
    {
     "name": "stdout",
     "output_type": "stream",
     "text": [
      "Porcentaje de objetos con código UPZ\n"
     ]
    },
    {
     "data": {
      "text/plain": [
       "91.88595152329202"
      ]
     },
     "execution_count": 20,
     "metadata": {},
     "output_type": "execute_result"
    }
   ],
   "source": [
    "print('Porcentaje de objetos con código UPZ')\n",
    "len(df[df['upz'] != -1])/len(df) * 100"
   ]
  },
  {
   "cell_type": "markdown",
   "metadata": {},
   "source": [
    "### 6- ."
   ]
  },
  {
   "cell_type": "code",
   "execution_count": 21,
   "metadata": {
    "ExecuteTime": {
     "end_time": "2020-05-11T22:53:19.688473Z",
     "start_time": "2020-05-11T22:53:19.493889Z"
    }
   },
   "outputs": [
    {
     "data": {
      "text/html": [
       "<div>\n",
       "<style scoped>\n",
       "    .dataframe tbody tr th:only-of-type {\n",
       "        vertical-align: middle;\n",
       "    }\n",
       "\n",
       "    .dataframe tbody tr th {\n",
       "        vertical-align: top;\n",
       "    }\n",
       "\n",
       "    .dataframe thead th {\n",
       "        text-align: right;\n",
       "    }\n",
       "</style>\n",
       "<table border=\"1\" class=\"dataframe\">\n",
       "  <thead>\n",
       "    <tr style=\"text-align: right;\">\n",
       "      <th></th>\n",
       "      <th>upz</th>\n",
       "      <th>personas</th>\n",
       "      <th>trabajoinf_ninos_5_17_anos_perc</th>\n",
       "      <th>trabajoinfampliado_ninos_5_17_anos_perc</th>\n",
       "      <th>jovenes_14_24_anos_nini_perc</th>\n",
       "      <th>indice_envegecimiento</th>\n",
       "      <th>jefe_mujer_perc</th>\n",
       "      <th>adultos_mayores_pobres_perc</th>\n",
       "    </tr>\n",
       "  </thead>\n",
       "  <tbody>\n",
       "    <tr>\n",
       "      <th>0</th>\n",
       "      <td>UPZ11</td>\n",
       "      <td>68430</td>\n",
       "      <td>0.6</td>\n",
       "      <td>3.9</td>\n",
       "      <td>20.7</td>\n",
       "      <td>35.2</td>\n",
       "      <td>44.579934</td>\n",
       "      <td>17.931973</td>\n",
       "    </tr>\n",
       "    <tr>\n",
       "      <th>1</th>\n",
       "      <td>UPZ12</td>\n",
       "      <td>50037</td>\n",
       "      <td>1.8</td>\n",
       "      <td>16.7</td>\n",
       "      <td>9.1</td>\n",
       "      <td>54.7</td>\n",
       "      <td>36.279630</td>\n",
       "      <td>5.420442</td>\n",
       "    </tr>\n",
       "    <tr>\n",
       "      <th>2</th>\n",
       "      <td>UPZ13</td>\n",
       "      <td>102981</td>\n",
       "      <td>0.0</td>\n",
       "      <td>3.5</td>\n",
       "      <td>5.5</td>\n",
       "      <td>118.4</td>\n",
       "      <td>33.286852</td>\n",
       "      <td>3.250000</td>\n",
       "    </tr>\n",
       "    <tr>\n",
       "      <th>3</th>\n",
       "      <td>UPZ18</td>\n",
       "      <td>69961</td>\n",
       "      <td>0.4</td>\n",
       "      <td>7.2</td>\n",
       "      <td>9.4</td>\n",
       "      <td>42.7</td>\n",
       "      <td>36.465059</td>\n",
       "      <td>9.439051</td>\n",
       "    </tr>\n",
       "    <tr>\n",
       "      <th>4</th>\n",
       "      <td>UPZ19</td>\n",
       "      <td>121158</td>\n",
       "      <td>0.3</td>\n",
       "      <td>8.0</td>\n",
       "      <td>8.2</td>\n",
       "      <td>59.1</td>\n",
       "      <td>32.887202</td>\n",
       "      <td>5.406574</td>\n",
       "    </tr>\n",
       "  </tbody>\n",
       "</table>\n",
       "</div>"
      ],
      "text/plain": [
       "     upz  personas  trabajoinf_ninos_5_17_anos_perc  \\\n",
       "0  UPZ11     68430                              0.6   \n",
       "1  UPZ12     50037                              1.8   \n",
       "2  UPZ13    102981                              0.0   \n",
       "3  UPZ18     69961                              0.4   \n",
       "4  UPZ19    121158                              0.3   \n",
       "\n",
       "   trabajoinfampliado_ninos_5_17_anos_perc  jovenes_14_24_anos_nini_perc  \\\n",
       "0                                      3.9                          20.7   \n",
       "1                                     16.7                           9.1   \n",
       "2                                      3.5                           5.5   \n",
       "3                                      7.2                           9.4   \n",
       "4                                      8.0                           8.2   \n",
       "\n",
       "   indice_envegecimiento  jefe_mujer_perc  adultos_mayores_pobres_perc  \n",
       "0                   35.2        44.579934                    17.931973  \n",
       "1                   54.7        36.279630                     5.420442  \n",
       "2                  118.4        33.286852                     3.250000  \n",
       "3                   42.7        36.465059                     9.439051  \n",
       "4                   59.1        32.887202                     5.406574  "
      ]
     },
     "execution_count": 21,
     "metadata": {},
     "output_type": "execute_result"
    }
   ],
   "source": [
    "est_poblacion = pd.read_csv('./data/estadisticas_upz/estadisticas_poblacion.csv')\n",
    "est_poblacion.drop(columns = ['Unnamed: 0', 'nomupz'], inplace = True)\n",
    "est_poblacion.head()"
   ]
  },
  {
   "cell_type": "code",
   "execution_count": 22,
   "metadata": {
    "ExecuteTime": {
     "end_time": "2020-05-11T22:53:19.980387Z",
     "start_time": "2020-05-11T22:53:19.691421Z"
    }
   },
   "outputs": [],
   "source": [
    "# Enriquecemos df con los datos de est_poblacion\n",
    "df = df.merge(est_poblacion, on = 'upz',how = 'left')"
   ]
  },
  {
   "cell_type": "code",
   "execution_count": 23,
   "metadata": {
    "ExecuteTime": {
     "end_time": "2020-05-11T22:53:20.253229Z",
     "start_time": "2020-05-11T22:53:19.984376Z"
    }
   },
   "outputs": [
    {
     "data": {
      "text/html": [
       "<div>\n",
       "<style scoped>\n",
       "    .dataframe tbody tr th:only-of-type {\n",
       "        vertical-align: middle;\n",
       "    }\n",
       "\n",
       "    .dataframe tbody tr th {\n",
       "        vertical-align: top;\n",
       "    }\n",
       "\n",
       "    .dataframe thead th {\n",
       "        text-align: right;\n",
       "    }\n",
       "</style>\n",
       "<table border=\"1\" class=\"dataframe\">\n",
       "  <thead>\n",
       "    <tr style=\"text-align: right;\">\n",
       "      <th></th>\n",
       "      <th>upz</th>\n",
       "      <th>indice_inseguridad</th>\n",
       "    </tr>\n",
       "  </thead>\n",
       "  <tbody>\n",
       "    <tr>\n",
       "      <th>0</th>\n",
       "      <td>UPZ100</td>\n",
       "      <td>0.671141</td>\n",
       "    </tr>\n",
       "    <tr>\n",
       "      <th>1</th>\n",
       "      <td>UPZ83</td>\n",
       "      <td>0.000000</td>\n",
       "    </tr>\n",
       "    <tr>\n",
       "      <th>2</th>\n",
       "      <td>UPZ107</td>\n",
       "      <td>2.318841</td>\n",
       "    </tr>\n",
       "    <tr>\n",
       "      <th>3</th>\n",
       "      <td>UPZ101</td>\n",
       "      <td>3.629032</td>\n",
       "    </tr>\n",
       "    <tr>\n",
       "      <th>4</th>\n",
       "      <td>UPZ91</td>\n",
       "      <td>13.537118</td>\n",
       "    </tr>\n",
       "  </tbody>\n",
       "</table>\n",
       "</div>"
      ],
      "text/plain": [
       "      upz  indice_inseguridad\n",
       "0  UPZ100            0.671141\n",
       "1   UPZ83            0.000000\n",
       "2  UPZ107            2.318841\n",
       "3  UPZ101            3.629032\n",
       "4   UPZ91           13.537118"
      ]
     },
     "execution_count": 23,
     "metadata": {},
     "output_type": "execute_result"
    }
   ],
   "source": [
    "ind_inseg = pd.read_csv('./data/estadisticas_upz/indice_inseguridad.csv')\n",
    "ind_inseg = ind_inseg.rename(columns = {'UPlCodigo' : 'upz'})\n",
    "ind_inseg.drop(columns=['UPlNombre2','Unnamed: 0'], inplace=True)\n",
    "ind_inseg.head()"
   ]
  },
  {
   "cell_type": "code",
   "execution_count": 24,
   "metadata": {
    "ExecuteTime": {
     "end_time": "2020-05-11T22:53:20.961982Z",
     "start_time": "2020-05-11T22:53:20.255223Z"
    },
    "scrolled": true
   },
   "outputs": [],
   "source": [
    "# Enriquecemos df con el indice de inseguridad\n",
    "df = df.merge(ind_inseg, on = 'upz',how = 'left')"
   ]
  },
  {
   "cell_type": "code",
   "execution_count": 25,
   "metadata": {
    "ExecuteTime": {
     "end_time": "2020-05-11T22:53:21.136518Z",
     "start_time": "2020-05-11T22:53:20.965973Z"
    }
   },
   "outputs": [
    {
     "data": {
      "text/html": [
       "<div>\n",
       "<style scoped>\n",
       "    .dataframe tbody tr th:only-of-type {\n",
       "        vertical-align: middle;\n",
       "    }\n",
       "\n",
       "    .dataframe tbody tr th {\n",
       "        vertical-align: top;\n",
       "    }\n",
       "\n",
       "    .dataframe thead th {\n",
       "        text-align: right;\n",
       "    }\n",
       "</style>\n",
       "<table border=\"1\" class=\"dataframe\">\n",
       "  <thead>\n",
       "    <tr style=\"text-align: right;\">\n",
       "      <th></th>\n",
       "      <th>Unnamed: 0</th>\n",
       "      <th>cod_upz</th>\n",
       "      <th>upz</th>\n",
       "      <th>areas_verdes_perc</th>\n",
       "    </tr>\n",
       "  </thead>\n",
       "  <tbody>\n",
       "    <tr>\n",
       "      <th>0</th>\n",
       "      <td>0</td>\n",
       "      <td>51.0</td>\n",
       "      <td>Los Libertadores</td>\n",
       "      <td>58.196667</td>\n",
       "    </tr>\n",
       "    <tr>\n",
       "      <th>1</th>\n",
       "      <td>1</td>\n",
       "      <td>87.0</td>\n",
       "      <td>Tintal Sur</td>\n",
       "      <td>85.924848</td>\n",
       "    </tr>\n",
       "    <tr>\n",
       "      <th>2</th>\n",
       "      <td>2</td>\n",
       "      <td>1.0</td>\n",
       "      <td>Paseo de los Libertadores</td>\n",
       "      <td>83.966495</td>\n",
       "    </tr>\n",
       "    <tr>\n",
       "      <th>3</th>\n",
       "      <td>3</td>\n",
       "      <td>64.0</td>\n",
       "      <td>Monte Blanco</td>\n",
       "      <td>85.778144</td>\n",
       "    </tr>\n",
       "    <tr>\n",
       "      <th>4</th>\n",
       "      <td>4</td>\n",
       "      <td>29.0</td>\n",
       "      <td>Minuto de Dios</td>\n",
       "      <td>37.852289</td>\n",
       "    </tr>\n",
       "  </tbody>\n",
       "</table>\n",
       "</div>"
      ],
      "text/plain": [
       "   Unnamed: 0  cod_upz                        upz  areas_verdes_perc\n",
       "0           0     51.0           Los Libertadores          58.196667\n",
       "1           1     87.0                 Tintal Sur          85.924848\n",
       "2           2      1.0  Paseo de los Libertadores          83.966495\n",
       "3           3     64.0               Monte Blanco          85.778144\n",
       "4           4     29.0             Minuto de Dios          37.852289"
      ]
     },
     "execution_count": 25,
     "metadata": {},
     "output_type": "execute_result"
    }
   ],
   "source": [
    "per_areas_verdes = pd.read_csv('./data/estadisticas_upz/porcentaje_areas_verdes.csv')\n",
    "per_areas_verdes.head()"
   ]
  },
  {
   "cell_type": "code",
   "execution_count": 26,
   "metadata": {
    "ExecuteTime": {
     "end_time": "2020-05-11T22:53:21.275146Z",
     "start_time": "2020-05-11T22:53:21.142500Z"
    }
   },
   "outputs": [
    {
     "data": {
      "text/html": [
       "<div>\n",
       "<style scoped>\n",
       "    .dataframe tbody tr th:only-of-type {\n",
       "        vertical-align: middle;\n",
       "    }\n",
       "\n",
       "    .dataframe tbody tr th {\n",
       "        vertical-align: top;\n",
       "    }\n",
       "\n",
       "    .dataframe thead th {\n",
       "        text-align: right;\n",
       "    }\n",
       "</style>\n",
       "<table border=\"1\" class=\"dataframe\">\n",
       "  <thead>\n",
       "    <tr style=\"text-align: right;\">\n",
       "      <th></th>\n",
       "      <th>upz</th>\n",
       "      <th>zona</th>\n",
       "      <th>areas_verdes_perc</th>\n",
       "    </tr>\n",
       "  </thead>\n",
       "  <tbody>\n",
       "    <tr>\n",
       "      <th>0</th>\n",
       "      <td>UPZ51</td>\n",
       "      <td>Los Libertadores</td>\n",
       "      <td>58.196667</td>\n",
       "    </tr>\n",
       "    <tr>\n",
       "      <th>1</th>\n",
       "      <td>UPZ87</td>\n",
       "      <td>Tintal Sur</td>\n",
       "      <td>85.924848</td>\n",
       "    </tr>\n",
       "    <tr>\n",
       "      <th>2</th>\n",
       "      <td>UPZ1</td>\n",
       "      <td>Paseo de los Libertadores</td>\n",
       "      <td>83.966495</td>\n",
       "    </tr>\n",
       "    <tr>\n",
       "      <th>3</th>\n",
       "      <td>UPZ64</td>\n",
       "      <td>Monte Blanco</td>\n",
       "      <td>85.778144</td>\n",
       "    </tr>\n",
       "    <tr>\n",
       "      <th>4</th>\n",
       "      <td>UPZ29</td>\n",
       "      <td>Minuto de Dios</td>\n",
       "      <td>37.852289</td>\n",
       "    </tr>\n",
       "  </tbody>\n",
       "</table>\n",
       "</div>"
      ],
      "text/plain": [
       "     upz                       zona  areas_verdes_perc\n",
       "0  UPZ51           Los Libertadores          58.196667\n",
       "1  UPZ87                 Tintal Sur          85.924848\n",
       "2   UPZ1  Paseo de los Libertadores          83.966495\n",
       "3  UPZ64               Monte Blanco          85.778144\n",
       "4  UPZ29             Minuto de Dios          37.852289"
      ]
     },
     "execution_count": 26,
     "metadata": {},
     "output_type": "execute_result"
    }
   ],
   "source": [
    "per_areas_verdes.rename(columns={'upz': 'zona','cod_upz': 'upz'},inplace=True)\n",
    "per_areas_verdes['upz'] = per_areas_verdes['upz'].astype(int)\n",
    "per_areas_verdes['upz'] = per_areas_verdes['upz'].astype(str)\n",
    "per_areas_verdes['upz'] = per_areas_verdes['upz'].apply(lambda num: 'UPZ'+num)\n",
    "per_areas_verdes['upz'] = per_areas_verdes['upz'].apply(str.upper)\n",
    "per_areas_verdes.drop(columns=['Unnamed: 0'],inplace=True)\n",
    "per_areas_verdes.head()"
   ]
  },
  {
   "cell_type": "code",
   "execution_count": 27,
   "metadata": {
    "ExecuteTime": {
     "end_time": "2020-05-11T22:53:21.477604Z",
     "start_time": "2020-05-11T22:53:21.282128Z"
    },
    "scrolled": true
   },
   "outputs": [
    {
     "data": {
      "text/html": [
       "<div>\n",
       "<style scoped>\n",
       "    .dataframe tbody tr th:only-of-type {\n",
       "        vertical-align: middle;\n",
       "    }\n",
       "\n",
       "    .dataframe tbody tr th {\n",
       "        vertical-align: top;\n",
       "    }\n",
       "\n",
       "    .dataframe thead th {\n",
       "        text-align: right;\n",
       "    }\n",
       "</style>\n",
       "<table border=\"1\" class=\"dataframe\">\n",
       "  <thead>\n",
       "    <tr style=\"text-align: right;\">\n",
       "      <th></th>\n",
       "      <th>price</th>\n",
       "      <th>n_rooms</th>\n",
       "      <th>n_bath</th>\n",
       "      <th>surface</th>\n",
       "      <th>details</th>\n",
       "      <th>url</th>\n",
       "      <th>metro_cuadrado</th>\n",
       "      <th>_merge</th>\n",
       "      <th>location</th>\n",
       "      <th>property_type</th>\n",
       "      <th>...</th>\n",
       "      <th>personas</th>\n",
       "      <th>trabajoinf_ninos_5_17_anos_perc</th>\n",
       "      <th>trabajoinfampliado_ninos_5_17_anos_perc</th>\n",
       "      <th>jovenes_14_24_anos_nini_perc</th>\n",
       "      <th>indice_envegecimiento</th>\n",
       "      <th>jefe_mujer_perc</th>\n",
       "      <th>adultos_mayores_pobres_perc</th>\n",
       "      <th>indice_inseguridad</th>\n",
       "      <th>zona</th>\n",
       "      <th>areas_verdes_perc</th>\n",
       "    </tr>\n",
       "  </thead>\n",
       "  <tbody>\n",
       "    <tr>\n",
       "      <th>0</th>\n",
       "      <td>1050000.0</td>\n",
       "      <td>3.0</td>\n",
       "      <td>2.0</td>\n",
       "      <td>63.0</td>\n",
       "      <td>Excelente casa cerca de la calle 80 y Avenida ...</td>\n",
       "      <td>https://www.metrocuadrado.com/inmueble/arriend...</td>\n",
       "      <td>25.6</td>\n",
       "      <td>left_only</td>\n",
       "      <td>LA SOLEDAD NORTE Bogotá D.C..</td>\n",
       "      <td>Casa</td>\n",
       "      <td>...</td>\n",
       "      <td>19451.0</td>\n",
       "      <td>0.6</td>\n",
       "      <td>18.4</td>\n",
       "      <td>7.2</td>\n",
       "      <td>145.7</td>\n",
       "      <td>44.896230</td>\n",
       "      <td>5.281135</td>\n",
       "      <td>3.629032</td>\n",
       "      <td>Teusaquillo</td>\n",
       "      <td>6.563105</td>\n",
       "    </tr>\n",
       "    <tr>\n",
       "      <th>1</th>\n",
       "      <td>3930000.0</td>\n",
       "      <td>3.0</td>\n",
       "      <td>2.0</td>\n",
       "      <td>100.0</td>\n",
       "      <td>Se arrienda casa bonita totalmente amoblada co...</td>\n",
       "      <td>https://www.metrocuadrado.com/inmueble/arriend...</td>\n",
       "      <td>57.3</td>\n",
       "      <td>both</td>\n",
       "      <td>CIUDAD SALITRE SUR-ORIENTAL Bogotá D.C..</td>\n",
       "      <td>Casa</td>\n",
       "      <td>...</td>\n",
       "      <td>NaN</td>\n",
       "      <td>NaN</td>\n",
       "      <td>NaN</td>\n",
       "      <td>NaN</td>\n",
       "      <td>NaN</td>\n",
       "      <td>NaN</td>\n",
       "      <td>NaN</td>\n",
       "      <td>NaN</td>\n",
       "      <td>NaN</td>\n",
       "      <td>NaN</td>\n",
       "    </tr>\n",
       "    <tr>\n",
       "      <th>2</th>\n",
       "      <td>750000.0</td>\n",
       "      <td>3.0</td>\n",
       "      <td>1.0</td>\n",
       "      <td>90.0</td>\n",
       "      <td>CASA DE TRES NIVELES TRES ALCOBAS SALA COMEDOR...</td>\n",
       "      <td>https://www.metrocuadrado.com/inmueble/arriend...</td>\n",
       "      <td>12.2</td>\n",
       "      <td>left_only</td>\n",
       "      <td>VILLA DE LOS ALPES II SECTOR Bogotá D.C..</td>\n",
       "      <td>Casa</td>\n",
       "      <td>...</td>\n",
       "      <td>179732.0</td>\n",
       "      <td>0.4</td>\n",
       "      <td>1.2</td>\n",
       "      <td>14.5</td>\n",
       "      <td>45.4</td>\n",
       "      <td>31.113458</td>\n",
       "      <td>14.928786</td>\n",
       "      <td>0.310559</td>\n",
       "      <td>Fontibón</td>\n",
       "      <td>21.756250</td>\n",
       "    </tr>\n",
       "  </tbody>\n",
       "</table>\n",
       "<p>3 rows × 25 columns</p>\n",
       "</div>"
      ],
      "text/plain": [
       "       price  n_rooms  n_bath  surface  \\\n",
       "0  1050000.0      3.0     2.0     63.0   \n",
       "1  3930000.0      3.0     2.0    100.0   \n",
       "2   750000.0      3.0     1.0     90.0   \n",
       "\n",
       "                                             details  \\\n",
       "0  Excelente casa cerca de la calle 80 y Avenida ...   \n",
       "1  Se arrienda casa bonita totalmente amoblada co...   \n",
       "2  CASA DE TRES NIVELES TRES ALCOBAS SALA COMEDOR...   \n",
       "\n",
       "                                                 url  metro_cuadrado  \\\n",
       "0  https://www.metrocuadrado.com/inmueble/arriend...            25.6   \n",
       "1  https://www.metrocuadrado.com/inmueble/arriend...            57.3   \n",
       "2  https://www.metrocuadrado.com/inmueble/arriend...            12.2   \n",
       "\n",
       "      _merge                                    location property_type  ...  \\\n",
       "0  left_only               LA SOLEDAD NORTE Bogotá D.C..          Casa  ...   \n",
       "1       both    CIUDAD SALITRE SUR-ORIENTAL Bogotá D.C..          Casa  ...   \n",
       "2  left_only   VILLA DE LOS ALPES II SECTOR Bogotá D.C..          Casa  ...   \n",
       "\n",
       "   personas  trabajoinf_ninos_5_17_anos_perc  \\\n",
       "0   19451.0                              0.6   \n",
       "1       NaN                              NaN   \n",
       "2  179732.0                              0.4   \n",
       "\n",
       "   trabajoinfampliado_ninos_5_17_anos_perc  jovenes_14_24_anos_nini_perc  \\\n",
       "0                                     18.4                           7.2   \n",
       "1                                      NaN                           NaN   \n",
       "2                                      1.2                          14.5   \n",
       "\n",
       "  indice_envegecimiento  jefe_mujer_perc  adultos_mayores_pobres_perc  \\\n",
       "0                 145.7        44.896230                     5.281135   \n",
       "1                   NaN              NaN                          NaN   \n",
       "2                  45.4        31.113458                    14.928786   \n",
       "\n",
       "   indice_inseguridad         zona  areas_verdes_perc  \n",
       "0            3.629032  Teusaquillo           6.563105  \n",
       "1                 NaN          NaN                NaN  \n",
       "2            0.310559     Fontibón          21.756250  \n",
       "\n",
       "[3 rows x 25 columns]"
      ]
     },
     "execution_count": 27,
     "metadata": {},
     "output_type": "execute_result"
    }
   ],
   "source": [
    "# Enriquecemos df con el porcentaje de areas verdes\n",
    "df = df.merge(per_areas_verdes, on = 'upz',how = 'left')\n",
    "df.head(3)"
   ]
  },
  {
   "cell_type": "code",
   "execution_count": 79,
   "metadata": {
    "ExecuteTime": {
     "end_time": "2020-05-11T23:16:26.584747Z",
     "start_time": "2020-05-11T23:16:26.507952Z"
    }
   },
   "outputs": [
    {
     "name": "stdout",
     "output_type": "stream",
     "text": [
      "<class 'pandas.core.frame.DataFrame'>\n",
      "Int64Index: 14987 entries, 0 to 16380\n",
      "Data columns (total 25 columns):\n",
      " #   Column                                              Non-Null Count  Dtype   \n",
      "---  ------                                              --------------  -----   \n",
      " 0   (numeric, price)                                    14987 non-null  float64 \n",
      " 1   (numeric, n_rooms)                                  14987 non-null  float64 \n",
      " 2   (numeric, n_bath)                                   14987 non-null  float64 \n",
      " 3   (numeric, surface)                                  14987 non-null  float64 \n",
      " 4   (numeric, metro_cuadrado)                           14987 non-null  float64 \n",
      " 5   (numeric, precio_m2)                                14987 non-null  float64 \n",
      " 6   (numeric, n_garajes)                                14987 non-null  float64 \n",
      " 7   (numeric, tipo)                                     14987 non-null  int64   \n",
      " 8   (numeric, personas)                                 14987 non-null  float64 \n",
      " 9   (numeric, trabajoinf_ninos_5_17_anos_perc)          14987 non-null  float64 \n",
      " 10  (numeric, trabajoinfampliado_ninos_5_17_anos_perc)  14987 non-null  float64 \n",
      " 11  (numeric, jovenes_14_24_anos_nini_perc)             14987 non-null  float64 \n",
      " 12  (numeric, indice_envegecimiento)                    14987 non-null  float64 \n",
      " 13  (numeric, jefe_mujer_perc)                          14987 non-null  float64 \n",
      " 14  (numeric, adultos_mayores_pobres_perc)              14987 non-null  float64 \n",
      " 15  (numeric, indice_inseguridad)                       14987 non-null  float64 \n",
      " 16  (numeric, areas_verdes_perc)                        14987 non-null  float64 \n",
      " 17  (categorical, rent_type)                            14987 non-null  object  \n",
      " 18  (categorical, url)                                  14987 non-null  object  \n",
      " 19  (categorical, upz)                                  14987 non-null  object  \n",
      " 20  (categorical, details)                              14987 non-null  object  \n",
      " 21  (categorical, property_type)                        14987 non-null  object  \n",
      " 22  (categorical, location)                             14987 non-null  object  \n",
      " 23  (categorical, _merge)                               14987 non-null  category\n",
      " 24  (categorical, zona)                                 14987 non-null  object  \n",
      "dtypes: category(1), float64(16), int64(1), object(7)\n",
      "memory usage: 2.9+ MB\n"
     ]
    }
   ],
   "source": [
    "df.replace(np.inf, np.nan,inplace=True)\n",
    "df.replace(-np.inf, np.nan,inplace=True)\n",
    "df.dropna(inplace=True)\n",
    "df.info()"
   ]
  },
  {
   "cell_type": "markdown",
   "metadata": {},
   "source": [
    "# P2"
   ]
  },
  {
   "cell_type": "code",
   "execution_count": 80,
   "metadata": {
    "ExecuteTime": {
     "end_time": "2020-05-11T23:16:31.147996Z",
     "start_time": "2020-05-11T23:16:31.142015Z"
    },
    "scrolled": true
   },
   "outputs": [],
   "source": [
    "import seaborn as sns\n",
    "import matplotlib.pyplot as plt\n",
    "import seaborn as sns\n",
    "import numpy as np\n",
    "from scipy.stats import norm\n",
    "from scipy import stats"
   ]
  },
  {
   "cell_type": "code",
   "execution_count": 81,
   "metadata": {
    "ExecuteTime": {
     "end_time": "2020-05-11T23:16:31.676414Z",
     "start_time": "2020-05-11T23:16:31.633529Z"
    }
   },
   "outputs": [
    {
     "ename": "TypeError",
     "evalue": "Expected tuple, got str",
     "output_type": "error",
     "traceback": [
      "\u001b[1;31m---------------------------------------------------------------------------\u001b[0m",
      "\u001b[1;31mTypeError\u001b[0m                                 Traceback (most recent call last)",
      "\u001b[1;32m<ipython-input-81-2993878bc3e2>\u001b[0m in \u001b[0;36m<module>\u001b[1;34m\u001b[0m\n\u001b[0;32m     20\u001b[0m '''\n\u001b[0;32m     21\u001b[0m \u001b[1;33m\u001b[0m\u001b[0m\n\u001b[1;32m---> 22\u001b[1;33m \u001b[0mdf\u001b[0m \u001b[1;33m=\u001b[0m \u001b[0mdf\u001b[0m\u001b[1;33m.\u001b[0m\u001b[0mreindex\u001b[0m\u001b[1;33m(\u001b[0m\u001b[0mcolumns\u001b[0m\u001b[1;33m=\u001b[0m\u001b[0mnumeric\u001b[0m \u001b[1;33m+\u001b[0m \u001b[0mcategorical\u001b[0m\u001b[1;33m)\u001b[0m\u001b[1;33m\u001b[0m\u001b[1;33m\u001b[0m\u001b[0m\n\u001b[0m",
      "\u001b[1;32m~\\anaconda3\\lib\\site-packages\\pandas\\util\\_decorators.py\u001b[0m in \u001b[0;36mwrapper\u001b[1;34m(*args, **kwargs)\u001b[0m\n\u001b[0;32m    225\u001b[0m         \u001b[1;33m@\u001b[0m\u001b[0mwraps\u001b[0m\u001b[1;33m(\u001b[0m\u001b[0mfunc\u001b[0m\u001b[1;33m)\u001b[0m\u001b[1;33m\u001b[0m\u001b[1;33m\u001b[0m\u001b[0m\n\u001b[0;32m    226\u001b[0m         \u001b[1;32mdef\u001b[0m \u001b[0mwrapper\u001b[0m\u001b[1;33m(\u001b[0m\u001b[1;33m*\u001b[0m\u001b[0margs\u001b[0m\u001b[1;33m,\u001b[0m \u001b[1;33m**\u001b[0m\u001b[0mkwargs\u001b[0m\u001b[1;33m)\u001b[0m \u001b[1;33m->\u001b[0m \u001b[0mCallable\u001b[0m\u001b[1;33m[\u001b[0m\u001b[1;33m...\u001b[0m\u001b[1;33m,\u001b[0m \u001b[0mAny\u001b[0m\u001b[1;33m]\u001b[0m\u001b[1;33m:\u001b[0m\u001b[1;33m\u001b[0m\u001b[1;33m\u001b[0m\u001b[0m\n\u001b[1;32m--> 227\u001b[1;33m             \u001b[1;32mreturn\u001b[0m \u001b[0mfunc\u001b[0m\u001b[1;33m(\u001b[0m\u001b[1;33m*\u001b[0m\u001b[0margs\u001b[0m\u001b[1;33m,\u001b[0m \u001b[1;33m**\u001b[0m\u001b[0mkwargs\u001b[0m\u001b[1;33m)\u001b[0m\u001b[1;33m\u001b[0m\u001b[1;33m\u001b[0m\u001b[0m\n\u001b[0m\u001b[0;32m    228\u001b[0m \u001b[1;33m\u001b[0m\u001b[0m\n\u001b[0;32m    229\u001b[0m         \u001b[0mkind\u001b[0m \u001b[1;33m=\u001b[0m \u001b[0minspect\u001b[0m\u001b[1;33m.\u001b[0m\u001b[0mParameter\u001b[0m\u001b[1;33m.\u001b[0m\u001b[0mPOSITIONAL_OR_KEYWORD\u001b[0m\u001b[1;33m\u001b[0m\u001b[1;33m\u001b[0m\u001b[0m\n",
      "\u001b[1;32m~\\anaconda3\\lib\\site-packages\\pandas\\core\\frame.py\u001b[0m in \u001b[0;36mreindex\u001b[1;34m(self, *args, **kwargs)\u001b[0m\n\u001b[0;32m   3854\u001b[0m         \u001b[0mkwargs\u001b[0m\u001b[1;33m.\u001b[0m\u001b[0mpop\u001b[0m\u001b[1;33m(\u001b[0m\u001b[1;34m\"axis\"\u001b[0m\u001b[1;33m,\u001b[0m \u001b[1;32mNone\u001b[0m\u001b[1;33m)\u001b[0m\u001b[1;33m\u001b[0m\u001b[1;33m\u001b[0m\u001b[0m\n\u001b[0;32m   3855\u001b[0m         \u001b[0mkwargs\u001b[0m\u001b[1;33m.\u001b[0m\u001b[0mpop\u001b[0m\u001b[1;33m(\u001b[0m\u001b[1;34m\"labels\"\u001b[0m\u001b[1;33m,\u001b[0m \u001b[1;32mNone\u001b[0m\u001b[1;33m)\u001b[0m\u001b[1;33m\u001b[0m\u001b[1;33m\u001b[0m\u001b[0m\n\u001b[1;32m-> 3856\u001b[1;33m         \u001b[1;32mreturn\u001b[0m \u001b[0mself\u001b[0m\u001b[1;33m.\u001b[0m\u001b[0m_ensure_type\u001b[0m\u001b[1;33m(\u001b[0m\u001b[0msuper\u001b[0m\u001b[1;33m(\u001b[0m\u001b[1;33m)\u001b[0m\u001b[1;33m.\u001b[0m\u001b[0mreindex\u001b[0m\u001b[1;33m(\u001b[0m\u001b[1;33m**\u001b[0m\u001b[0mkwargs\u001b[0m\u001b[1;33m)\u001b[0m\u001b[1;33m)\u001b[0m\u001b[1;33m\u001b[0m\u001b[1;33m\u001b[0m\u001b[0m\n\u001b[0m\u001b[0;32m   3857\u001b[0m \u001b[1;33m\u001b[0m\u001b[0m\n\u001b[0;32m   3858\u001b[0m     def drop(\n",
      "\u001b[1;32m~\\anaconda3\\lib\\site-packages\\pandas\\core\\generic.py\u001b[0m in \u001b[0;36mreindex\u001b[1;34m(self, *args, **kwargs)\u001b[0m\n\u001b[0;32m   4542\u001b[0m         \u001b[1;31m# perform the reindex on the axes\u001b[0m\u001b[1;33m\u001b[0m\u001b[1;33m\u001b[0m\u001b[1;33m\u001b[0m\u001b[0m\n\u001b[0;32m   4543\u001b[0m         return self._reindex_axes(\n\u001b[1;32m-> 4544\u001b[1;33m             \u001b[0maxes\u001b[0m\u001b[1;33m,\u001b[0m \u001b[0mlevel\u001b[0m\u001b[1;33m,\u001b[0m \u001b[0mlimit\u001b[0m\u001b[1;33m,\u001b[0m \u001b[0mtolerance\u001b[0m\u001b[1;33m,\u001b[0m \u001b[0mmethod\u001b[0m\u001b[1;33m,\u001b[0m \u001b[0mfill_value\u001b[0m\u001b[1;33m,\u001b[0m \u001b[0mcopy\u001b[0m\u001b[1;33m\u001b[0m\u001b[1;33m\u001b[0m\u001b[0m\n\u001b[0m\u001b[0;32m   4545\u001b[0m         ).__finalize__(self)\n\u001b[0;32m   4546\u001b[0m \u001b[1;33m\u001b[0m\u001b[0m\n",
      "\u001b[1;32m~\\anaconda3\\lib\\site-packages\\pandas\\core\\frame.py\u001b[0m in \u001b[0;36m_reindex_axes\u001b[1;34m(self, axes, level, limit, tolerance, method, fill_value, copy)\u001b[0m\n\u001b[0;32m   3736\u001b[0m         \u001b[1;32mif\u001b[0m \u001b[0mcolumns\u001b[0m \u001b[1;32mis\u001b[0m \u001b[1;32mnot\u001b[0m \u001b[1;32mNone\u001b[0m\u001b[1;33m:\u001b[0m\u001b[1;33m\u001b[0m\u001b[1;33m\u001b[0m\u001b[0m\n\u001b[0;32m   3737\u001b[0m             frame = frame._reindex_columns(\n\u001b[1;32m-> 3738\u001b[1;33m                 \u001b[0mcolumns\u001b[0m\u001b[1;33m,\u001b[0m \u001b[0mmethod\u001b[0m\u001b[1;33m,\u001b[0m \u001b[0mcopy\u001b[0m\u001b[1;33m,\u001b[0m \u001b[0mlevel\u001b[0m\u001b[1;33m,\u001b[0m \u001b[0mfill_value\u001b[0m\u001b[1;33m,\u001b[0m \u001b[0mlimit\u001b[0m\u001b[1;33m,\u001b[0m \u001b[0mtolerance\u001b[0m\u001b[1;33m\u001b[0m\u001b[1;33m\u001b[0m\u001b[0m\n\u001b[0m\u001b[0;32m   3739\u001b[0m             )\n\u001b[0;32m   3740\u001b[0m \u001b[1;33m\u001b[0m\u001b[0m\n",
      "\u001b[1;32m~\\anaconda3\\lib\\site-packages\\pandas\\core\\frame.py\u001b[0m in \u001b[0;36m_reindex_columns\u001b[1;34m(self, new_columns, method, copy, level, fill_value, limit, tolerance)\u001b[0m\n\u001b[0;32m   3778\u001b[0m     ):\n\u001b[0;32m   3779\u001b[0m         new_columns, indexer = self.columns.reindex(\n\u001b[1;32m-> 3780\u001b[1;33m             \u001b[0mnew_columns\u001b[0m\u001b[1;33m,\u001b[0m \u001b[0mmethod\u001b[0m\u001b[1;33m=\u001b[0m\u001b[0mmethod\u001b[0m\u001b[1;33m,\u001b[0m \u001b[0mlevel\u001b[0m\u001b[1;33m=\u001b[0m\u001b[0mlevel\u001b[0m\u001b[1;33m,\u001b[0m \u001b[0mlimit\u001b[0m\u001b[1;33m=\u001b[0m\u001b[0mlimit\u001b[0m\u001b[1;33m,\u001b[0m \u001b[0mtolerance\u001b[0m\u001b[1;33m=\u001b[0m\u001b[0mtolerance\u001b[0m\u001b[1;33m\u001b[0m\u001b[1;33m\u001b[0m\u001b[0m\n\u001b[0m\u001b[0;32m   3781\u001b[0m         )\n\u001b[0;32m   3782\u001b[0m         return self._reindex_with_indexers(\n",
      "\u001b[1;32m~\\anaconda3\\lib\\site-packages\\pandas\\core\\indexes\\multi.py\u001b[0m in \u001b[0;36mreindex\u001b[1;34m(self, target, method, level, limit, tolerance)\u001b[0m\n\u001b[0;32m   2423\u001b[0m             \u001b[1;32melse\u001b[0m\u001b[1;33m:\u001b[0m\u001b[1;33m\u001b[0m\u001b[1;33m\u001b[0m\u001b[0m\n\u001b[0;32m   2424\u001b[0m                 \u001b[1;31m# hopefully?\u001b[0m\u001b[1;33m\u001b[0m\u001b[1;33m\u001b[0m\u001b[1;33m\u001b[0m\u001b[0m\n\u001b[1;32m-> 2425\u001b[1;33m                 \u001b[0mtarget\u001b[0m \u001b[1;33m=\u001b[0m \u001b[0mMultiIndex\u001b[0m\u001b[1;33m.\u001b[0m\u001b[0mfrom_tuples\u001b[0m\u001b[1;33m(\u001b[0m\u001b[0mtarget\u001b[0m\u001b[1;33m)\u001b[0m\u001b[1;33m\u001b[0m\u001b[1;33m\u001b[0m\u001b[0m\n\u001b[0m\u001b[0;32m   2426\u001b[0m \u001b[1;33m\u001b[0m\u001b[0m\n\u001b[0;32m   2427\u001b[0m         if (\n",
      "\u001b[1;32m~\\anaconda3\\lib\\site-packages\\pandas\\core\\indexes\\multi.py\u001b[0m in \u001b[0;36mfrom_tuples\u001b[1;34m(cls, tuples, sortorder, names)\u001b[0m\n\u001b[0;32m    487\u001b[0m                 \u001b[0mtuples\u001b[0m \u001b[1;33m=\u001b[0m \u001b[0mtuples\u001b[0m\u001b[1;33m.\u001b[0m\u001b[0m_values\u001b[0m\u001b[1;33m\u001b[0m\u001b[1;33m\u001b[0m\u001b[0m\n\u001b[0;32m    488\u001b[0m \u001b[1;33m\u001b[0m\u001b[0m\n\u001b[1;32m--> 489\u001b[1;33m             \u001b[0marrays\u001b[0m \u001b[1;33m=\u001b[0m \u001b[0mlist\u001b[0m\u001b[1;33m(\u001b[0m\u001b[0mlib\u001b[0m\u001b[1;33m.\u001b[0m\u001b[0mtuples_to_object_array\u001b[0m\u001b[1;33m(\u001b[0m\u001b[0mtuples\u001b[0m\u001b[1;33m)\u001b[0m\u001b[1;33m.\u001b[0m\u001b[0mT\u001b[0m\u001b[1;33m)\u001b[0m\u001b[1;33m\u001b[0m\u001b[1;33m\u001b[0m\u001b[0m\n\u001b[0m\u001b[0;32m    490\u001b[0m         \u001b[1;32melif\u001b[0m \u001b[0misinstance\u001b[0m\u001b[1;33m(\u001b[0m\u001b[0mtuples\u001b[0m\u001b[1;33m,\u001b[0m \u001b[0mlist\u001b[0m\u001b[1;33m)\u001b[0m\u001b[1;33m:\u001b[0m\u001b[1;33m\u001b[0m\u001b[1;33m\u001b[0m\u001b[0m\n\u001b[0;32m    491\u001b[0m             \u001b[0marrays\u001b[0m \u001b[1;33m=\u001b[0m \u001b[0mlist\u001b[0m\u001b[1;33m(\u001b[0m\u001b[0mlib\u001b[0m\u001b[1;33m.\u001b[0m\u001b[0mto_object_array_tuples\u001b[0m\u001b[1;33m(\u001b[0m\u001b[0mtuples\u001b[0m\u001b[1;33m)\u001b[0m\u001b[1;33m.\u001b[0m\u001b[0mT\u001b[0m\u001b[1;33m)\u001b[0m\u001b[1;33m\u001b[0m\u001b[1;33m\u001b[0m\u001b[0m\n",
      "\u001b[1;32mpandas\\_libs\\lib.pyx\u001b[0m in \u001b[0;36mpandas._libs.lib.tuples_to_object_array\u001b[1;34m()\u001b[0m\n",
      "\u001b[1;31mTypeError\u001b[0m: Expected tuple, got str"
     ]
    }
   ],
   "source": [
    "names = ['numeric', 'categorical']\n",
    "# Se crea una lista con las columnas numericas\n",
    "numeric = ['price', 'n_rooms', 'n_bath', 'surface', 'metro_cuadrado', 'precio_m2',\n",
    "       'n_garajes', 'tipo', 'personas', 'trabajoinf_ninos_5_17_anos_perc',\n",
    "       'trabajoinfampliado_ninos_5_17_anos_perc',\n",
    "       'jovenes_14_24_anos_nini_perc', 'indice_envegecimiento',\n",
    "       'jefe_mujer_perc', 'adultos_mayores_pobres_perc', 'indice_inseguridad',\n",
    "       'areas_verdes_perc'\n",
    "]\n",
    "\n",
    "# Se crea una lista con las columnas categoricas\n",
    "categorical = list(set(df.columns) - set(numeric))\n",
    "\n",
    "\n",
    "mapping = [('numeric', col) for col in numeric]\n",
    "mapping.extend([('categorical', col) for col in categorical])\n",
    "'''\n",
    "Se reordenan las columnas del dataframe para que coincidan con el esquema \n",
    "del multi indice\n",
    "'''\n",
    "\n",
    "df = df.reindex(columns=numeric + categorical)"
   ]
  },
  {
   "cell_type": "code",
   "execution_count": 82,
   "metadata": {
    "ExecuteTime": {
     "end_time": "2020-05-11T23:16:32.214422Z",
     "start_time": "2020-05-11T23:16:32.181509Z"
    }
   },
   "outputs": [
    {
     "ename": "ValueError",
     "evalue": "Length mismatch: Expected axis has 25 elements, new values have 42 elements",
     "output_type": "error",
     "traceback": [
      "\u001b[1;31m---------------------------------------------------------------------------\u001b[0m",
      "\u001b[1;31mValueError\u001b[0m                                Traceback (most recent call last)",
      "\u001b[1;32m<ipython-input-82-204fcb837934>\u001b[0m in \u001b[0;36m<module>\u001b[1;34m\u001b[0m\n\u001b[0;32m      1\u001b[0m \u001b[1;31m# Se reasignan las columnas\u001b[0m\u001b[1;33m\u001b[0m\u001b[1;33m\u001b[0m\u001b[1;33m\u001b[0m\u001b[0m\n\u001b[1;32m----> 2\u001b[1;33m \u001b[0mdf\u001b[0m\u001b[1;33m.\u001b[0m\u001b[0mcolumns\u001b[0m \u001b[1;33m=\u001b[0m \u001b[0mpd\u001b[0m\u001b[1;33m.\u001b[0m\u001b[0mMultiIndex\u001b[0m\u001b[1;33m.\u001b[0m\u001b[0mfrom_tuples\u001b[0m\u001b[1;33m(\u001b[0m\u001b[0mmapping\u001b[0m\u001b[1;33m)\u001b[0m\u001b[1;33m\u001b[0m\u001b[1;33m\u001b[0m\u001b[0m\n\u001b[0m",
      "\u001b[1;32m~\\anaconda3\\lib\\site-packages\\pandas\\core\\generic.py\u001b[0m in \u001b[0;36m__setattr__\u001b[1;34m(self, name, value)\u001b[0m\n\u001b[0;32m   5285\u001b[0m         \u001b[1;32mtry\u001b[0m\u001b[1;33m:\u001b[0m\u001b[1;33m\u001b[0m\u001b[1;33m\u001b[0m\u001b[0m\n\u001b[0;32m   5286\u001b[0m             \u001b[0mobject\u001b[0m\u001b[1;33m.\u001b[0m\u001b[0m__getattribute__\u001b[0m\u001b[1;33m(\u001b[0m\u001b[0mself\u001b[0m\u001b[1;33m,\u001b[0m \u001b[0mname\u001b[0m\u001b[1;33m)\u001b[0m\u001b[1;33m\u001b[0m\u001b[1;33m\u001b[0m\u001b[0m\n\u001b[1;32m-> 5287\u001b[1;33m             \u001b[1;32mreturn\u001b[0m \u001b[0mobject\u001b[0m\u001b[1;33m.\u001b[0m\u001b[0m__setattr__\u001b[0m\u001b[1;33m(\u001b[0m\u001b[0mself\u001b[0m\u001b[1;33m,\u001b[0m \u001b[0mname\u001b[0m\u001b[1;33m,\u001b[0m \u001b[0mvalue\u001b[0m\u001b[1;33m)\u001b[0m\u001b[1;33m\u001b[0m\u001b[1;33m\u001b[0m\u001b[0m\n\u001b[0m\u001b[0;32m   5288\u001b[0m         \u001b[1;32mexcept\u001b[0m \u001b[0mAttributeError\u001b[0m\u001b[1;33m:\u001b[0m\u001b[1;33m\u001b[0m\u001b[1;33m\u001b[0m\u001b[0m\n\u001b[0;32m   5289\u001b[0m             \u001b[1;32mpass\u001b[0m\u001b[1;33m\u001b[0m\u001b[1;33m\u001b[0m\u001b[0m\n",
      "\u001b[1;32mpandas\\_libs\\properties.pyx\u001b[0m in \u001b[0;36mpandas._libs.properties.AxisProperty.__set__\u001b[1;34m()\u001b[0m\n",
      "\u001b[1;32m~\\anaconda3\\lib\\site-packages\\pandas\\core\\generic.py\u001b[0m in \u001b[0;36m_set_axis\u001b[1;34m(self, axis, labels)\u001b[0m\n\u001b[0;32m    659\u001b[0m \u001b[1;33m\u001b[0m\u001b[0m\n\u001b[0;32m    660\u001b[0m     \u001b[1;32mdef\u001b[0m \u001b[0m_set_axis\u001b[0m\u001b[1;33m(\u001b[0m\u001b[0mself\u001b[0m\u001b[1;33m,\u001b[0m \u001b[0maxis\u001b[0m\u001b[1;33m,\u001b[0m \u001b[0mlabels\u001b[0m\u001b[1;33m)\u001b[0m \u001b[1;33m->\u001b[0m \u001b[1;32mNone\u001b[0m\u001b[1;33m:\u001b[0m\u001b[1;33m\u001b[0m\u001b[1;33m\u001b[0m\u001b[0m\n\u001b[1;32m--> 661\u001b[1;33m         \u001b[0mself\u001b[0m\u001b[1;33m.\u001b[0m\u001b[0m_data\u001b[0m\u001b[1;33m.\u001b[0m\u001b[0mset_axis\u001b[0m\u001b[1;33m(\u001b[0m\u001b[0maxis\u001b[0m\u001b[1;33m,\u001b[0m \u001b[0mlabels\u001b[0m\u001b[1;33m)\u001b[0m\u001b[1;33m\u001b[0m\u001b[1;33m\u001b[0m\u001b[0m\n\u001b[0m\u001b[0;32m    662\u001b[0m         \u001b[0mself\u001b[0m\u001b[1;33m.\u001b[0m\u001b[0m_clear_item_cache\u001b[0m\u001b[1;33m(\u001b[0m\u001b[1;33m)\u001b[0m\u001b[1;33m\u001b[0m\u001b[1;33m\u001b[0m\u001b[0m\n\u001b[0;32m    663\u001b[0m \u001b[1;33m\u001b[0m\u001b[0m\n",
      "\u001b[1;32m~\\anaconda3\\lib\\site-packages\\pandas\\core\\internals\\managers.py\u001b[0m in \u001b[0;36mset_axis\u001b[1;34m(self, axis, new_labels)\u001b[0m\n\u001b[0;32m    176\u001b[0m         \u001b[1;32mif\u001b[0m \u001b[0mnew_len\u001b[0m \u001b[1;33m!=\u001b[0m \u001b[0mold_len\u001b[0m\u001b[1;33m:\u001b[0m\u001b[1;33m\u001b[0m\u001b[1;33m\u001b[0m\u001b[0m\n\u001b[0;32m    177\u001b[0m             raise ValueError(\n\u001b[1;32m--> 178\u001b[1;33m                 \u001b[1;34mf\"Length mismatch: Expected axis has {old_len} elements, new \"\u001b[0m\u001b[1;33m\u001b[0m\u001b[1;33m\u001b[0m\u001b[0m\n\u001b[0m\u001b[0;32m    179\u001b[0m                 \u001b[1;34mf\"values have {new_len} elements\"\u001b[0m\u001b[1;33m\u001b[0m\u001b[1;33m\u001b[0m\u001b[0m\n\u001b[0;32m    180\u001b[0m             )\n",
      "\u001b[1;31mValueError\u001b[0m: Length mismatch: Expected axis has 25 elements, new values have 42 elements"
     ]
    }
   ],
   "source": [
    "# Se reasignan las columnas\n",
    "df.columns = pd.MultiIndex.from_tuples(mapping)"
   ]
  },
  {
   "cell_type": "code",
   "execution_count": 91,
   "metadata": {
    "ExecuteTime": {
     "end_time": "2020-05-11T23:22:23.359568Z",
     "start_time": "2020-05-11T23:22:23.352590Z"
    }
   },
   "outputs": [
    {
     "data": {
      "text/plain": [
       "17"
      ]
     },
     "execution_count": 91,
     "metadata": {},
     "output_type": "execute_result"
    }
   ],
   "source": [
    "len(numeric)"
   ]
  },
  {
   "cell_type": "code",
   "execution_count": 90,
   "metadata": {
    "ExecuteTime": {
     "end_time": "2020-05-11T23:21:37.366471Z",
     "start_time": "2020-05-11T23:21:28.745423Z"
    }
   },
   "outputs": [
    {
     "data": {
      "image/png": "[encoded data removed]",
      "text/plain": [
       "<Figure size 1224x1224 with 19 Axes>"
      ]
     },
     "metadata": {
      "needs_background": "light"
     },
     "output_type": "display_data"
    }
   ],
   "source": [
    "# Grilla de subplots\n",
    "fig, ax = plt.subplots(nrows=5, ncols=4, figsize=[17, 17])\n",
    "\n",
    "# Se remueven el ultimo plot\n",
    "list(map(lambda a : a.remove(), ax[-1,-1:]))\n",
    "\n",
    "# Se ajusta el espaciado exterior de la figura\n",
    "fig.tight_layout()\n",
    "\n",
    "# Se define un titulo y su ubicacion\n",
    "fig.suptitle('Distribuciones Univariadas Numéricas',\n",
    "             fontsize=20,\n",
    "             x=0.5,\n",
    "             y=1.05)\n",
    "'''\n",
    "Se recorre cada axis, para cada columna del dataframe, se genera un grafico \n",
    "distinto en funcion del tipo de dato.\n",
    "\n",
    "'''\n",
    "for axis, col in zip(ax.flatten(), numeric):\n",
    "    try :\n",
    "        # Graficos para datos numericos\n",
    "        sns.distplot(df[('numeric', col)], ax=axis, rug=True)\n",
    "               \n",
    "    except RuntimeError:\n",
    "        sns.distplot(df[('numeric', col)], ax=axis, rug=True, kde=False)\n",
    "    \n",
    "    axis.set_xlabel(col, fontsize=15)\n",
    "\n",
    "# Se ajusta el espaciado interno entre subplots\n",
    "w, h = (.5, 0.5)\n",
    "plt.subplots_adjust(wspace=w, hspace=h)"
   ]
  },
  {
   "cell_type": "code",
   "execution_count": 92,
   "metadata": {
    "ExecuteTime": {
     "end_time": "2020-05-11T23:23:03.044287Z",
     "start_time": "2020-05-11T23:23:03.037307Z"
    }
   },
   "outputs": [
    {
     "data": {
      "text/plain": [
       "['price',\n",
       " 'n_rooms',\n",
       " 'n_bath',\n",
       " 'surface',\n",
       " 'metro_cuadrado',\n",
       " 'precio_m2',\n",
       " 'n_garajes',\n",
       " 'tipo',\n",
       " 'personas',\n",
       " 'trabajoinf_ninos_5_17_anos_perc',\n",
       " 'trabajoinfampliado_ninos_5_17_anos_perc',\n",
       " 'jovenes_14_24_anos_nini_perc',\n",
       " 'indice_envegecimiento',\n",
       " 'jefe_mujer_perc',\n",
       " 'adultos_mayores_pobres_perc',\n",
       " 'indice_inseguridad',\n",
       " 'areas_verdes_perc']"
      ]
     },
     "execution_count": 92,
     "metadata": {},
     "output_type": "execute_result"
    }
   ],
   "source": [
    "numeric"
   ]
  },
  {
   "cell_type": "code",
   "execution_count": 87,
   "metadata": {
    "ExecuteTime": {
     "end_time": "2020-05-11T23:17:26.896220Z",
     "start_time": "2020-05-11T23:17:26.889243Z"
    }
   },
   "outputs": [
    {
     "data": {
      "text/plain": [
       "54942028.98550725"
      ]
     },
     "execution_count": 87,
     "metadata": {},
     "output_type": "execute_result"
    }
   ],
   "source": [
    "df[('numeric','precio_m2')].max()"
   ]
  },
  {
   "cell_type": "code",
   "execution_count": 97,
   "metadata": {
    "ExecuteTime": {
     "end_time": "2020-05-11T23:24:56.425088Z",
     "start_time": "2020-05-11T23:24:56.417109Z"
    }
   },
   "outputs": [
    {
     "data": {
      "text/plain": [
       "[(<matplotlib.axes._subplots.AxesSubplot at 0x1a2be48be88>, 'price'),\n",
       " (<matplotlib.axes._subplots.AxesSubplot at 0x1a2bf807108>, 'n_rooms'),\n",
       " (<matplotlib.axes._subplots.AxesSubplot at 0x1a2bf818988>, 'n_bath'),\n",
       " (<matplotlib.axes._subplots.AxesSubplot at 0x1a2bfef0488>, 'surface'),\n",
       " (<matplotlib.axes._subplots.AxesSubplot at 0x1a2bff04f08>, 'metro_cuadrado'),\n",
       " (<matplotlib.axes._subplots.AxesSubplot at 0x1a2bff2a908>, 'precio_m2'),\n",
       " (<matplotlib.axes._subplots.AxesSubplot at 0x1a2bff576c8>, 'n_garajes'),\n",
       " (<matplotlib.axes._subplots.AxesSubplot at 0x1a2bff83988>, 'tipo'),\n",
       " (<matplotlib.axes._subplots.AxesSubplot at 0x1a2bffaeb88>, 'personas'),\n",
       " (<matplotlib.axes._subplots.AxesSubplot at 0x1a2bffdae48>,\n",
       "  'trabajoinf_ninos_5_17_anos_perc'),\n",
       " (<matplotlib.axes._subplots.AxesSubplot at 0x1a2c0005f88>,\n",
       "  'trabajoinfampliado_ninos_5_17_anos_perc'),\n",
       " (<matplotlib.axes._subplots.AxesSubplot at 0x1a2c0036248>,\n",
       "  'jovenes_14_24_anos_nini_perc'),\n",
       " (<matplotlib.axes._subplots.AxesSubplot at 0x1a2c0061448>,\n",
       "  'indice_envegecimiento'),\n",
       " (<matplotlib.axes._subplots.AxesSubplot at 0x1a2c008b688>, 'jefe_mujer_perc'),\n",
       " (<matplotlib.axes._subplots.AxesSubplot at 0x1a2c00b7848>,\n",
       "  'adultos_mayores_pobres_perc'),\n",
       " (<matplotlib.axes._subplots.AxesSubplot at 0x1a2c00e2a48>,\n",
       "  'indice_inseguridad'),\n",
       " (<matplotlib.axes._subplots.AxesSubplot at 0x1a2c010ec48>,\n",
       "  'areas_verdes_perc')]"
      ]
     },
     "execution_count": 97,
     "metadata": {},
     "output_type": "execute_result"
    }
   ],
   "source": [
    "list(zip(ax.flatten(),numeric))"
   ]
  },
  {
   "cell_type": "markdown",
   "metadata": {},
   "source": [
    "# P3\n"
   ]
  },
  {
   "cell_type": "markdown",
   "metadata": {},
   "source": [
    "### Teórica"
   ]
  },
  {
   "cell_type": "markdown",
   "metadata": {},
   "source": [
    "### Implemetación. 1"
   ]
  },
  {
   "cell_type": "code",
   "execution_count": 54,
   "metadata": {},
   "outputs": [],
   "source": [
    "from sklearn.base import BaseEstimator, RegressorMixin\n",
    "from numpy import matmul\n",
    "from numpy.linalg import inv, eig\n",
    "import sys\n",
    "import time\n",
    "\n",
    "class RegresionBayesianaEmpirica(BaseEstimator, RegressorMixin):\n",
    "    def __init__(self, alpha, beta, tol=1e-5, maxiter=200):\n",
    "        self.maxiter = maxiter\n",
    "        self.tol = tol\n",
    "        self.alpha = alpha\n",
    "        self.beta = beta\n",
    "        self.M_n = None\n",
    "        self.S_n = None\n",
    "        \n",
    "    \n",
    "    def get_posteriori(self, X, y, alpha, beta):\n",
    "        S_n = alpha + beta*matmul(X.T, X)\n",
    "        M_n = beta * matmul(matmul(inv(S_n), X.T), y)\n",
    "        return M_n, S_n\n",
    "    \n",
    "        \n",
    "    \n",
    "    def fit(self, X, y):\n",
    "        N = len(y)\n",
    "        for i in range(self.maxiter):\n",
    "            t0 = time.time()\n",
    "            eigen_values, _ = eig(self.beta * matmul(X.T, X))\n",
    "            gamma = (eigen_values/(self.alpha + eigen_values)).sum()\n",
    "            M_n, S_n = self.get_posteriori(X, y, self.alpha, self.beta)\n",
    "    \n",
    "            new_alpha = gamma/(matmul(M_n.T, M_n))\n",
    "            new_beta = (N-gamma)/((y - matmul(M_n.T, X))**2).sum()\n",
    "            \n",
    "            alpha_delta = np.abs(self.alpha - new_alpha)\n",
    "            beta_delta = np.abs(self.beta - new_beta)\n",
    "            \n",
    "            sys.stdout.write(\n",
    "                      '\\rIter:{0:03d}'.format(i) + ' Alpha delta:{0:.10f}'.format(alpha_delta)\n",
    "                      + ' Beta Delta:{0:.10f}'.format(beta_delta) \n",
    "                      + ' Tiempo/iter:{0:.10f}s'.format(time.time()- t0))   \n",
    "            \n",
    "            if (alpha_delta > self.tol or beta_delta > self.tol):\n",
    "                self.alpha = new_alpha\n",
    "                self.beta = new_beta\n",
    "            else:\n",
    "                self.M_n = M_n\n",
    "                self.S_n = S_n\n",
    "                break\n",
    "                    \n",
    "    \n",
    "    def predict(self, X_, return_std = False):\n",
    "        mu = matmul(self.M_n.T, X_)\n",
    "        if return_std:\n",
    "            std = np.sqrt(self.beta**-1 + matmul(matmul(X_.T, self.S_n), X_) )\n",
    "            return mu, std\n",
    "        else:\n",
    "            return mu\n",
    "    "
   ]
  },
  {
   "cell_type": "markdown",
   "metadata": {},
   "source": [
    "### Ejemplo"
   ]
  },
  {
   "cell_type": "code",
   "execution_count": 55,
   "metadata": {},
   "outputs": [],
   "source": [
    "a = RegresionBayesianaEmpirica(1,1)"
   ]
  },
  {
   "cell_type": "code",
   "execution_count": 56,
   "metadata": {},
   "outputs": [],
   "source": [
    "X = np.array([[1,5,3],[9,1,3],[11,2,4]])\n",
    "y = np.array([1,2,3.4])"
   ]
  },
  {
   "cell_type": "code",
   "execution_count": 57,
   "metadata": {},
   "outputs": [
    {
     "name": "stdout",
     "output_type": "stream",
     "text": [
      "\r",
      "Iter:000 Alpha delta:0.8344260118 Beta Delta:0.9964252042 Tiempo/iter:0.0000000000s\r",
      "Iter:001 Alpha delta:0.0064556607 Beta Delta:0.0062189903 Tiempo/iter:0.0000000000s\r",
      "Iter:002 Alpha delta:0.0421760769 Beta Delta:0.0021179292 Tiempo/iter:0.0000000000s\r",
      "Iter:003 Alpha delta:0.0172129309 Beta Delta:0.0009269852 Tiempo/iter:0.0009975433s\r",
      "Iter:004 Alpha delta:0.0078524436 Beta Delta:0.0004047724 Tiempo/iter:0.0000000000s\r",
      "Iter:005 Alpha delta:0.0033848909 Beta Delta:0.0001772312 Tiempo/iter:0.0000000000s\r",
      "Iter:006 Alpha delta:0.0014922003 Beta Delta:0.0000775549 Tiempo/iter:0.0000000000s\r",
      "Iter:007 Alpha delta:0.0006511635 Beta Delta:0.0000339491 Tiempo/iter:0.0000000000s\r",
      "Iter:008 Alpha delta:0.0002854005 Beta Delta:0.0000148590 Tiempo/iter:0.0000000000s\r",
      "Iter:009 Alpha delta:0.0001248478 Beta Delta:0.0000065040 Tiempo/iter:0.0000000000s\r",
      "Iter:010 Alpha delta:0.0000546604 Beta Delta:0.0000028468 Tiempo/iter:0.0000000000s\r",
      "Iter:011 Alpha delta:0.0000239224 Beta Delta:0.0000012461 Tiempo/iter:0.0000000000s\r",
      "Iter:012 Alpha delta:0.0000104715 Beta Delta:0.0000005454 Tiempo/iter:0.0000000000s\r",
      "Iter:013 Alpha delta:0.0000045833 Beta Delta:0.0000002387 Tiempo/iter:0.0009973049s"
     ]
    }
   ],
   "source": [
    "a.fit(X, y)"
   ]
  },
  {
   "cell_type": "code",
   "execution_count": 58,
   "metadata": {},
   "outputs": [
    {
     "data": {
      "text/plain": [
       "{'alpha': 0.18959182526699184,\n",
       " 'beta': 0.0083211939097537,\n",
       " 'maxiter': 200,\n",
       " 'tol': 1e-05}"
      ]
     },
     "execution_count": 58,
     "metadata": {},
     "output_type": "execute_result"
    }
   ],
   "source": [
    "a.get_params()"
   ]
  },
  {
   "cell_type": "markdown",
   "metadata": {},
   "source": [
    "### Implementación. 2"
   ]
  },
  {
   "cell_type": "code",
   "execution_count": 59,
   "metadata": {},
   "outputs": [],
   "source": [
    "from sklearn.pipeline import Pipeline \n",
    "from sklearn.preprocessing import StandardScaler, MinMaxScaler, OneHotEncoder, PolynomialFeatures\n",
    "from sklearn.model_selection import train_test_split\n",
    "from sklearn.compose import ColumnTransformer\n",
    "\n",
    "\n",
    "numeric_features = 'numeric_cols'\n",
    "\n",
    "numeric_transformer = Pipeline(steps=[('StandarScaler', StandardScaler()), \n",
    "                                      ('MinMaxScaler', MinMaxScalers()), \n",
    "                                      ('PolynomialFeatures', PolynomialFeatures())])\n",
    "\n",
    "categorical_features = 'catecorical_cols'\n",
    "\n",
    "categorical_transformer = Pipeline(steps=[('onehot', OneHotEncoder())])\n",
    "\n",
    "preprocessor = ColumnTransformer(transformers=[('num', numeric_transformer, numeric_features),\n",
    "                                                ('cat', categorical_transformer, categorical_features)])\n",
    "\n",
    "\n",
    "\n",
    "\n",
    "regressor = Pipeline(steps=[('preprocessor', preprocessor),\n",
    "                      ('classifier', RegresionBayesianaEmpirica(alpha = 0, beta = 1))])\n",
    "\n",
    "X_train, X_test, y_train, y_test = train_test_split(X, y, test_size=0.2)\n",
    "\n",
    "clf.fit(X_train, y_train)\n"
   ]
  },
  {
   "cell_type": "code",
   "execution_count": null,
   "metadata": {},
   "outputs": [],
   "source": []
  }
 ],
 "metadata": {
  "kernelspec": {
   "display_name": "Python 3",
   "language": "python",
   "name": "python3"
  },
  "language_info": {
   "codemirror_mode": {
    "name": "ipython",
    "version": 3
   },
   "file_extension": ".py",
   "mimetype": "text/x-python",
   "name": "python",
   "nbconvert_exporter": "python",
   "pygments_lexer": "ipython3",
   "version": "3.7.1"
  },
  "latex_envs": {
   "LaTeX_envs_menu_present": true,
   "autoclose": false,
   "autocomplete": true,
   "bibliofile": "biblio.bib",
   "cite_by": "apalike",
   "current_citInitial": 1,
   "eqLabelWithNumbers": true,
   "eqNumInitial": 1,
   "hotkeys": {
    "equation": "Ctrl-E",
    "itemize": "Ctrl-I"
   },
   "labels_anchors": false,
   "latex_user_defs": false,
   "report_style_numbering": false,
   "user_envs_cfg": false
  },
  "notify_time": "30",
  "toc": {
   "base_numbering": 1,
   "nav_menu": {},
   "number_sections": true,
   "sideBar": true,
   "skip_h1_title": false,
   "title_cell": "Table of Contents",
   "title_sidebar": "Contents",
   "toc_cell": false,
   "toc_position": {},
   "toc_section_display": true,
   "toc_window_display": false
  }
 },
 "nbformat": 4,
 "nbformat_minor": 4
}
