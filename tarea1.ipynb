{
 "cells": [
  {
   "cell_type": "code",
   "execution_count": 457,
   "metadata": {
    "ExecuteTime": {
     "end_time": "2020-05-20T09:32:26.218811Z",
     "start_time": "2020-05-20T09:32:26.214821Z"
    }
   },
   "outputs": [],
   "source": [
    "import numpy as np\n",
    "import pandas as pd"
   ]
  },
  {
   "cell_type": "markdown",
   "metadata": {},
   "source": [
    "# P1 Carga y Limpieza de datos"
   ]
  },
  {
   "cell_type": "markdown",
   "metadata": {},
   "source": [
    "### 1- . Carga"
   ]
  },
  {
   "cell_type": "code",
   "execution_count": 458,
   "metadata": {
    "ExecuteTime": {
     "end_time": "2020-05-20T09:32:26.782850Z",
     "start_time": "2020-05-20T09:32:26.767890Z"
    },
    "scrolled": true
   },
   "outputs": [],
   "source": [
    "def obtener_semana(week):\n",
    "    week = str(week)\n",
    "    # Traemos los dataframe\n",
    "    all_info = pd.read_csv('./data/raw/w'+week +\n",
    "                           '/metrocuadrado_all_w'+week+'.csv')\n",
    "    all_info.drop_duplicates(inplace=True)\n",
    "    furnished = pd.read_csv('./data/raw/w'+week +\n",
    "                            '/metrocuadrado_furnished_w'+week+'.csv')\n",
    "    furnished.drop_duplicates(inplace=True)\n",
    "\n",
    "    # Merge que identifica furnished dentro de all_info\n",
    "    df = pd.merge(all_info, furnished, on=['property_type|rent_type|location', 'details', 'url', 'surface', 'price'],\n",
    "                  how='outer', indicator=True)\n",
    "    df.rename(columns={'n_rooms_x': 'n_rooms', 'n_bath_x': 'n_bath',\n",
    "                       'metrocuadrado_index_x': 'metro_cuadrado'}, inplace=True)\n",
    "\n",
    "    # Indices que solo hay en furnished\n",
    "    indices = df[df._merge == 'right_only'].index\n",
    "    for i in indices:\n",
    "        df.loc[i, 'n_rooms'] = df.loc[i, 'n_rooms_y']\n",
    "        df.loc[i, 'n_bath'] = df.loc[i, 'n_bath_y']\n",
    "        df.loc[i, 'metro_cuadrado'] = df.loc[i, 'metrocuadrado_index_y']\n",
    "\n",
    "    # Dropeamos los _y\n",
    "    df.drop(['n_rooms_y', 'n_bath_y', 'metrocuadrado_index_y'],\n",
    "            axis=1, inplace=True)\n",
    "\n",
    "    # Dropeamos los duplicados y reseatmos indice\n",
    "    df.drop_duplicates(inplace=True)\n",
    "    df.reset_index(drop=True, inplace=True)\n",
    "\n",
    "    return df"
   ]
  },
  {
   "cell_type": "code",
   "execution_count": 459,
   "metadata": {
    "ExecuteTime": {
     "end_time": "2020-05-20T09:32:26.902530Z",
     "start_time": "2020-05-20T09:32:26.785842Z"
    }
   },
   "outputs": [],
   "source": [
    "def append_dataframes():\n",
    "    week_list = range(13, 18)\n",
    "    df = pd.DataFrame()\n",
    "\n",
    "    for week in week_list:\n",
    "        df = df.append(obtener_semana(week))\n",
    "\n",
    "    df.drop_duplicates(inplace=True)\n",
    "    df.reset_index(drop=True, inplace=True)\n",
    "    return df"
   ]
  },
  {
   "cell_type": "code",
   "execution_count": 460,
   "metadata": {
    "ExecuteTime": {
     "end_time": "2020-05-20T09:32:28.433849Z",
     "start_time": "2020-05-20T09:32:26.905522Z"
    },
    "scrolled": true
   },
   "outputs": [
    {
     "name": "stdout",
     "output_type": "stream",
     "text": [
      "\\begin{tabular}{lll}\n",
      "\\toprule\n",
      "{} &                   property\\_type|rent\\_type|location &     \\_merge \\\\\n",
      "\\midrule\n",
      "0 &    Casa en Arriendo, LA SOLEDAD NORTE Bogotá D.C.. &  left\\_only \\\\\n",
      "1 &  Casa en Arriendo, CIUDAD SALITRE SUR-ORIENTAL ... &       both \\\\\n",
      "2 &  Casa en Arriendo, VILLA DE LOS ALPES II SECTOR... &  left\\_only \\\\\n",
      "3 &        Casa en Arriendo, PARIS GAITAN Bogotá D.C.. &  left\\_only \\\\\n",
      "4 &  Casa en Arriendo, BALCONES DE ORIENTE Bogotá D... &  left\\_only \\\\\n",
      "\\bottomrule\n",
      "\\end{tabular}\n",
      "\n"
     ]
    }
   ],
   "source": [
    "# Iniciar Data frame\n",
    "df = append_dataframes()\n",
    "\n",
    "print(df[['property_type|rent_type|location', '_merge']].head().to_latex())"
   ]
  },
  {
   "cell_type": "markdown",
   "metadata": {},
   "source": [
    "Si hay furnished que no hay en all, identificados como 'right_only' de la columna _merge"
   ]
  },
  {
   "cell_type": "markdown",
   "metadata": {},
   "source": [
    "### 2- . Limpieza"
   ]
  },
  {
   "cell_type": "markdown",
   "metadata": {},
   "source": [
    "##### a)"
   ]
  },
  {
   "cell_type": "code",
   "execution_count": 461,
   "metadata": {
    "ExecuteTime": {
     "end_time": "2020-05-20T09:32:28.471748Z",
     "start_time": "2020-05-20T09:32:28.435846Z"
    },
    "scrolled": true
   },
   "outputs": [],
   "source": [
    "# Limpiamos la columna price\n",
    "df['price'] = df['price'].str.replace('$', '')\n",
    "df['price'] = df['price'].str.replace('.', '')\n",
    "df['price'] = df['price'].apply(float)"
   ]
  },
  {
   "cell_type": "code",
   "execution_count": 462,
   "metadata": {
    "ExecuteTime": {
     "end_time": "2020-05-20T09:32:28.600447Z",
     "start_time": "2020-05-20T09:32:28.474740Z"
    }
   },
   "outputs": [],
   "source": [
    "# Limpiamos la columna surface\n",
    "df['surface'] = df['surface'].str.replace('m2', '')\n",
    "df['surface'] = df['surface'].apply(float)"
   ]
  },
  {
   "cell_type": "code",
   "execution_count": 463,
   "metadata": {
    "ExecuteTime": {
     "end_time": "2020-05-20T09:32:28.766005Z",
     "start_time": "2020-05-20T09:32:28.602442Z"
    }
   },
   "outputs": [],
   "source": [
    "# Limpiamos n_rooms y n_baths, sujeto a cambios\n",
    "#df['n_rooms'] = df['n_rooms'].replace('5+', 6)\n",
    "#df['n_rooms'].fillna(3, inplace=True)\n",
    "\n",
    "\n",
    "def transforma_int(num):\n",
    "    if num == np.nan:\n",
    "        return num\n",
    "    elif num == 'nan':\n",
    "        return np.nan\n",
    "    elif num == '5+':\n",
    "        return num\n",
    "    else:\n",
    "        return str(float(num))\n",
    "\n",
    "\n",
    "df['n_rooms'] = df['n_rooms'].apply(transforma_int)\n",
    "\n",
    "#df['n_bath'] = df['n_bath'].replace('5+', 6)\n",
    "#df['n_bath'].fillna(3, inplace=True)\n",
    "df['n_bath'] = df['n_bath'].apply(transforma_int)"
   ]
  },
  {
   "cell_type": "markdown",
   "metadata": {},
   "source": [
    "Vemos los Dtype"
   ]
  },
  {
   "cell_type": "code",
   "execution_count": 464,
   "metadata": {
    "ExecuteTime": {
     "end_time": "2020-05-20T09:32:28.847787Z",
     "start_time": "2020-05-20T09:32:28.768997Z"
    },
    "scrolled": true
   },
   "outputs": [
    {
     "name": "stdout",
     "output_type": "stream",
     "text": [
      "<class 'pandas.core.frame.DataFrame'>\n",
      "RangeIndex: 16379 entries, 0 to 16378\n",
      "Data columns (total 9 columns):\n",
      " #   Column                            Non-Null Count  Dtype   \n",
      "---  ------                            --------------  -----   \n",
      " 0   property_type|rent_type|location  16379 non-null  object  \n",
      " 1   price                             16379 non-null  float64 \n",
      " 2   n_rooms                           16379 non-null  object  \n",
      " 3   n_bath                            16379 non-null  object  \n",
      " 4   surface                           16379 non-null  float64 \n",
      " 5   details                           16269 non-null  object  \n",
      " 6   url                               16379 non-null  object  \n",
      " 7   metro_cuadrado                    16379 non-null  float64 \n",
      " 8   _merge                            16379 non-null  category\n",
      "dtypes: category(1), float64(3), object(5)\n",
      "memory usage: 1.0+ MB\n"
     ]
    }
   ],
   "source": [
    "df.info()"
   ]
  },
  {
   "cell_type": "code",
   "execution_count": 465,
   "metadata": {
    "ExecuteTime": {
     "end_time": "2020-05-20T09:32:28.965472Z",
     "start_time": "2020-05-20T09:32:28.850778Z"
    }
   },
   "outputs": [
    {
     "data": {
      "text/plain": [
       "array(['3.0', '5.0', '4.0', '2.0', '1.0', 'nan', '5+'], dtype=object)"
      ]
     },
     "execution_count": 465,
     "metadata": {},
     "output_type": "execute_result"
    }
   ],
   "source": [
    "df['n_rooms'].unique()"
   ]
  },
  {
   "cell_type": "markdown",
   "metadata": {},
   "source": [
    "##### b)"
   ]
  },
  {
   "cell_type": "code",
   "execution_count": 466,
   "metadata": {
    "ExecuteTime": {
     "end_time": "2020-05-20T09:32:29.290603Z",
     "start_time": "2020-05-20T09:32:28.968464Z"
    }
   },
   "outputs": [],
   "source": [
    "# Split de la comuna\n",
    "s = pd.Series(df.keys())\n",
    "split = s.str.split('|', expand=True)\n",
    "\n",
    "# Columnas de transicion\n",
    "df[['property_type+rent_type', 'location']\n",
    "   ] = df['property_type|rent_type|location'].str.split(',', expand=True)\n",
    "df[['property_type', 'rent_type']\n",
    "   ] = df['property_type+rent_type'].str.split(' en ', expand=True)\n",
    "\n",
    "# Dropeamos las extra\n",
    "df = df.drop(['property_type|rent_type|location',\n",
    "              'property_type+rent_type'], axis=1)"
   ]
  },
  {
   "cell_type": "code",
   "execution_count": 467,
   "metadata": {
    "ExecuteTime": {
     "end_time": "2020-05-20T09:32:29.306561Z",
     "start_time": "2020-05-20T09:32:29.294593Z"
    }
   },
   "outputs": [
    {
     "name": "stdout",
     "output_type": "stream",
     "text": [
      "\\begin{tabular}{llll}\n",
      "\\toprule\n",
      "{} & property\\_type & rent\\_type &                                    location \\\\\n",
      "\\midrule\n",
      "0 &          Casa &  Arriendo &               LA SOLEDAD NORTE Bogotá D.C.. \\\\\n",
      "1 &          Casa &  Arriendo &    CIUDAD SALITRE SUR-ORIENTAL Bogotá D.C.. \\\\\n",
      "2 &          Casa &  Arriendo &   VILLA DE LOS ALPES II SECTOR Bogotá D.C.. \\\\\n",
      "3 &          Casa &  Arriendo &                   PARIS GAITAN Bogotá D.C.. \\\\\n",
      "4 &          Casa &  Arriendo &            BALCONES DE ORIENTE Bogotá D.C.. \\\\\n",
      "\\bottomrule\n",
      "\\end{tabular}\n",
      "\n"
     ]
    }
   ],
   "source": [
    "print(df[['property_type', 'rent_type', 'location']].head().to_latex())"
   ]
  },
  {
   "cell_type": "markdown",
   "metadata": {
    "ExecuteTime": {
     "end_time": "2020-05-10T07:19:02.454675Z",
     "start_time": "2020-05-10T07:19:02.449689Z"
    }
   },
   "source": [
    "### 3- . Creación de columnas indicadoras"
   ]
  },
  {
   "cell_type": "markdown",
   "metadata": {},
   "source": [
    "#### a)"
   ]
  },
  {
   "cell_type": "code",
   "execution_count": 468,
   "metadata": {
    "ExecuteTime": {
     "end_time": "2020-05-20T09:32:29.394836Z",
     "start_time": "2020-05-20T09:32:29.309553Z"
    }
   },
   "outputs": [],
   "source": [
    "# Creamos columna precio m2\n",
    "df['precio_m2'] = df['price']/df['surface']"
   ]
  },
  {
   "cell_type": "markdown",
   "metadata": {},
   "source": [
    "#### b)"
   ]
  },
  {
   "cell_type": "code",
   "execution_count": 469,
   "metadata": {
    "ExecuteTime": {
     "end_time": "2020-05-20T09:32:29.633281Z",
     "start_time": "2020-05-20T09:32:29.602366Z"
    }
   },
   "outputs": [],
   "source": [
    "def num_garajes(url):\n",
    "    url_splitted = url.split('-garajes')\n",
    "    # Si no hacemos split\n",
    "    if len(url_splitted) == 1:\n",
    "        return '0'\n",
    "    else:\n",
    "        # Agarramos las ultimos dos caracteres XX-garajes\n",
    "        n = url_splitted[0][-2:]\n",
    "        # Si es del tipo -1-garajes, devolvemos 1\n",
    "        if n[0] == '-':\n",
    "            return n[1]\n",
    "        return str(n)\n",
    "\n",
    "\n",
    "# Creamos la columna n_garajes\n",
    "df['n_garajes'] = df['url'].apply(num_garajes)"
   ]
  },
  {
   "cell_type": "code",
   "execution_count": 470,
   "metadata": {
    "ExecuteTime": {
     "end_time": "2020-05-20T09:32:29.753966Z",
     "start_time": "2020-05-20T09:32:29.636272Z"
    }
   },
   "outputs": [],
   "source": [
    "# Limpiamos n_garajes, sujeto a cambios\n",
    "#df['n_garajes'] = df['n_garajes'].replace('4+',5)\n",
    "df['n_garajes'] = df['n_garajes'].apply(str)"
   ]
  },
  {
   "cell_type": "code",
   "execution_count": 471,
   "metadata": {
    "ExecuteTime": {
     "end_time": "2020-05-20T09:32:29.845236Z",
     "start_time": "2020-05-20T09:32:29.757956Z"
    }
   },
   "outputs": [
    {
     "data": {
      "text/plain": [
       "array(['1', '0', '2', '4', '3', '4+'], dtype=object)"
      ]
     },
     "execution_count": 471,
     "metadata": {},
     "output_type": "execute_result"
    }
   ],
   "source": [
    "df['n_garajes'].unique()"
   ]
  },
  {
   "cell_type": "markdown",
   "metadata": {},
   "source": [
    "### 4- . Clasificación por tipo de producto"
   ]
  },
  {
   "cell_type": "code",
   "execution_count": 472,
   "metadata": {
    "ExecuteTime": {
     "end_time": "2020-05-20T09:32:40.621188Z",
     "start_time": "2020-05-20T09:32:29.972894Z"
    }
   },
   "outputs": [],
   "source": [
    "# Inicializamos la columna tipo\n",
    "df['tipo'] = np.nan\n",
    "\n",
    "\n",
    "def clasifica_producto(df):\n",
    "    # Areas\n",
    "    area_min = [80, 120, 180, 240, 360, 40, 60, 80]\n",
    "    area_max = [120, 180, 240, 360, 460, 60, 80, 120]\n",
    "\n",
    "    # Query\n",
    "    for tipo_prod in range(1, 9):\n",
    "        minimo = area_min[tipo_prod-1]\n",
    "        maximo = area_max[tipo_prod-1]\n",
    "        # Query para tipos 1-5\n",
    "        if tipo_prod < 6:\n",
    "            query = 'property_type == \"Casa\" and {} < surface < {}'.format(\n",
    "                minimo, maximo)\n",
    "            indices = df.query(query).index\n",
    "            for i in indices:\n",
    "                df.loc[i, 'tipo'] = str(tipo_prod)\n",
    "        else:\n",
    "            query = 'property_type == \"Apartamento\" and {} < surface < {}'.format(\n",
    "                minimo, maximo)\n",
    "            indices = df.query(query).index\n",
    "            for i in indices:\n",
    "                df.loc[i, 'tipo'] = str(tipo_prod)\n",
    "\n",
    "    return df\n",
    "\n",
    "\n",
    "# Actualizamos el dataframe\n",
    "df = clasifica_producto(df)"
   ]
  },
  {
   "cell_type": "code",
   "execution_count": 473,
   "metadata": {
    "ExecuteTime": {
     "end_time": "2020-05-20T09:32:40.680989Z",
     "start_time": "2020-05-20T09:32:40.626175Z"
    },
    "scrolled": true
   },
   "outputs": [
    {
     "data": {
      "text/html": [
       "<div>\n",
       "<style scoped>\n",
       "    .dataframe tbody tr th:only-of-type {\n",
       "        vertical-align: middle;\n",
       "    }\n",
       "\n",
       "    .dataframe tbody tr th {\n",
       "        vertical-align: top;\n",
       "    }\n",
       "\n",
       "    .dataframe thead th {\n",
       "        text-align: right;\n",
       "    }\n",
       "</style>\n",
       "<table border=\"1\" class=\"dataframe\">\n",
       "  <thead>\n",
       "    <tr style=\"text-align: right;\">\n",
       "      <th></th>\n",
       "      <th>price</th>\n",
       "      <th>n_rooms</th>\n",
       "      <th>n_bath</th>\n",
       "      <th>surface</th>\n",
       "      <th>details</th>\n",
       "      <th>url</th>\n",
       "      <th>metro_cuadrado</th>\n",
       "      <th>_merge</th>\n",
       "      <th>location</th>\n",
       "      <th>property_type</th>\n",
       "      <th>rent_type</th>\n",
       "      <th>precio_m2</th>\n",
       "      <th>n_garajes</th>\n",
       "      <th>tipo</th>\n",
       "    </tr>\n",
       "  </thead>\n",
       "  <tbody>\n",
       "    <tr>\n",
       "      <th>0</th>\n",
       "      <td>1050000.0</td>\n",
       "      <td>3.0</td>\n",
       "      <td>2.0</td>\n",
       "      <td>63.0</td>\n",
       "      <td>Excelente casa cerca de la calle 80 y Avenida ...</td>\n",
       "      <td>https://www.metrocuadrado.com/inmueble/arriend...</td>\n",
       "      <td>25.6</td>\n",
       "      <td>left_only</td>\n",
       "      <td>LA SOLEDAD NORTE Bogotá D.C..</td>\n",
       "      <td>Casa</td>\n",
       "      <td>Arriendo</td>\n",
       "      <td>16666.666667</td>\n",
       "      <td>1</td>\n",
       "      <td>NaN</td>\n",
       "    </tr>\n",
       "    <tr>\n",
       "      <th>1</th>\n",
       "      <td>3930000.0</td>\n",
       "      <td>3.0</td>\n",
       "      <td>2.0</td>\n",
       "      <td>100.0</td>\n",
       "      <td>Se arrienda casa bonita totalmente amoblada co...</td>\n",
       "      <td>https://www.metrocuadrado.com/inmueble/arriend...</td>\n",
       "      <td>57.3</td>\n",
       "      <td>both</td>\n",
       "      <td>CIUDAD SALITRE SUR-ORIENTAL Bogotá D.C..</td>\n",
       "      <td>Casa</td>\n",
       "      <td>Arriendo</td>\n",
       "      <td>39300.000000</td>\n",
       "      <td>1</td>\n",
       "      <td>1</td>\n",
       "    </tr>\n",
       "    <tr>\n",
       "      <th>2</th>\n",
       "      <td>750000.0</td>\n",
       "      <td>3.0</td>\n",
       "      <td>1.0</td>\n",
       "      <td>90.0</td>\n",
       "      <td>CASA DE TRES NIVELES TRES ALCOBAS SALA COMEDOR...</td>\n",
       "      <td>https://www.metrocuadrado.com/inmueble/arriend...</td>\n",
       "      <td>12.2</td>\n",
       "      <td>left_only</td>\n",
       "      <td>VILLA DE LOS ALPES II SECTOR Bogotá D.C..</td>\n",
       "      <td>Casa</td>\n",
       "      <td>Arriendo</td>\n",
       "      <td>8333.333333</td>\n",
       "      <td>0</td>\n",
       "      <td>1</td>\n",
       "    </tr>\n",
       "    <tr>\n",
       "      <th>3</th>\n",
       "      <td>3400000.0</td>\n",
       "      <td>5.0</td>\n",
       "      <td>4.0</td>\n",
       "      <td>71.0</td>\n",
       "      <td>casa ezquinera excelente ubicacion cinco alcob...</td>\n",
       "      <td>https://www.metrocuadrado.com/inmueble/arriend...</td>\n",
       "      <td>56.0</td>\n",
       "      <td>left_only</td>\n",
       "      <td>PARIS GAITAN Bogotá D.C..</td>\n",
       "      <td>Casa</td>\n",
       "      <td>Arriendo</td>\n",
       "      <td>47887.323944</td>\n",
       "      <td>0</td>\n",
       "      <td>NaN</td>\n",
       "    </tr>\n",
       "    <tr>\n",
       "      <th>4</th>\n",
       "      <td>1560000.0</td>\n",
       "      <td>4.0</td>\n",
       "      <td>3.0</td>\n",
       "      <td>96.0</td>\n",
       "      <td>Excelente casa de tres niveles, buena ubicació...</td>\n",
       "      <td>https://www.metrocuadrado.com/inmueble/arriend...</td>\n",
       "      <td>47.1</td>\n",
       "      <td>left_only</td>\n",
       "      <td>BALCONES DE ORIENTE Bogotá D.C..</td>\n",
       "      <td>Casa</td>\n",
       "      <td>Arriendo</td>\n",
       "      <td>16250.000000</td>\n",
       "      <td>1</td>\n",
       "      <td>1</td>\n",
       "    </tr>\n",
       "    <tr>\n",
       "      <th>...</th>\n",
       "      <td>...</td>\n",
       "      <td>...</td>\n",
       "      <td>...</td>\n",
       "      <td>...</td>\n",
       "      <td>...</td>\n",
       "      <td>...</td>\n",
       "      <td>...</td>\n",
       "      <td>...</td>\n",
       "      <td>...</td>\n",
       "      <td>...</td>\n",
       "      <td>...</td>\n",
       "      <td>...</td>\n",
       "      <td>...</td>\n",
       "      <td>...</td>\n",
       "    </tr>\n",
       "    <tr>\n",
       "      <th>16374</th>\n",
       "      <td>2600000.0</td>\n",
       "      <td>1.0</td>\n",
       "      <td>2.0</td>\n",
       "      <td>60.0</td>\n",
       "      <td>Se arrienda precioso apartamento amoblado, con...</td>\n",
       "      <td>https://www.metrocuadrado.com/inmueble/arriend...</td>\n",
       "      <td>63.4</td>\n",
       "      <td>right_only</td>\n",
       "      <td>SANTA BIBIANA Bogotá D.C..</td>\n",
       "      <td>Apartamento</td>\n",
       "      <td>Arriendo</td>\n",
       "      <td>43333.333333</td>\n",
       "      <td>1</td>\n",
       "      <td>NaN</td>\n",
       "    </tr>\n",
       "    <tr>\n",
       "      <th>16375</th>\n",
       "      <td>2350000.0</td>\n",
       "      <td>1.0</td>\n",
       "      <td>1.0</td>\n",
       "      <td>43.0</td>\n",
       "      <td>CÓMODO APARTAMENTO EN ARRIENDO UBICADO EN EL B...</td>\n",
       "      <td>https://www.metrocuadrado.com/inmueble/arriend...</td>\n",
       "      <td>56.0</td>\n",
       "      <td>right_only</td>\n",
       "      <td>SANTA BARBARA OCCIDENTAL Bogotá D.C..</td>\n",
       "      <td>Apartamento</td>\n",
       "      <td>Arriendo</td>\n",
       "      <td>54651.162791</td>\n",
       "      <td>1</td>\n",
       "      <td>6</td>\n",
       "    </tr>\n",
       "    <tr>\n",
       "      <th>16376</th>\n",
       "      <td>1750000.0</td>\n",
       "      <td>1.0</td>\n",
       "      <td>1.0</td>\n",
       "      <td>48.0</td>\n",
       "      <td>Apartamentototalmente  amoblado de 47 metros c...</td>\n",
       "      <td>https://www.metrocuadrado.com/inmueble/arriend...</td>\n",
       "      <td>39.4</td>\n",
       "      <td>right_only</td>\n",
       "      <td>CHICO NORTE Bogotá D.C..</td>\n",
       "      <td>Apartamento</td>\n",
       "      <td>Arriendo</td>\n",
       "      <td>36458.333333</td>\n",
       "      <td>1</td>\n",
       "      <td>6</td>\n",
       "    </tr>\n",
       "    <tr>\n",
       "      <th>16377</th>\n",
       "      <td>3900000.0</td>\n",
       "      <td>2.0</td>\n",
       "      <td>3.0</td>\n",
       "      <td>102.0</td>\n",
       "      <td>Hermoso y acogedor apartamento completamente a...</td>\n",
       "      <td>https://www.metrocuadrado.com/inmueble/arriend...</td>\n",
       "      <td>51.6</td>\n",
       "      <td>right_only</td>\n",
       "      <td>LA CABRERA Bogotá D.C..</td>\n",
       "      <td>Apartamento</td>\n",
       "      <td>Arriendo</td>\n",
       "      <td>38235.294118</td>\n",
       "      <td>2</td>\n",
       "      <td>8</td>\n",
       "    </tr>\n",
       "    <tr>\n",
       "      <th>16378</th>\n",
       "      <td>2525000.0</td>\n",
       "      <td>2.0</td>\n",
       "      <td>3.0</td>\n",
       "      <td>106.0</td>\n",
       "      <td>Hermoso apartamento de 106m2  2  añoS de const...</td>\n",
       "      <td>https://www.metrocuadrado.com/inmueble/arriend...</td>\n",
       "      <td>44.4</td>\n",
       "      <td>right_only</td>\n",
       "      <td>MOLINOS NORTE Bogotá D.C..</td>\n",
       "      <td>Apartamento</td>\n",
       "      <td>Arriendo</td>\n",
       "      <td>23820.754717</td>\n",
       "      <td>2</td>\n",
       "      <td>8</td>\n",
       "    </tr>\n",
       "  </tbody>\n",
       "</table>\n",
       "<p>16379 rows × 14 columns</p>\n",
       "</div>"
      ],
      "text/plain": [
       "           price n_rooms n_bath  surface  \\\n",
       "0      1050000.0     3.0    2.0     63.0   \n",
       "1      3930000.0     3.0    2.0    100.0   \n",
       "2       750000.0     3.0    1.0     90.0   \n",
       "3      3400000.0     5.0    4.0     71.0   \n",
       "4      1560000.0     4.0    3.0     96.0   \n",
       "...          ...     ...    ...      ...   \n",
       "16374  2600000.0     1.0    2.0     60.0   \n",
       "16375  2350000.0     1.0    1.0     43.0   \n",
       "16376  1750000.0     1.0    1.0     48.0   \n",
       "16377  3900000.0     2.0    3.0    102.0   \n",
       "16378  2525000.0     2.0    3.0    106.0   \n",
       "\n",
       "                                                 details  \\\n",
       "0      Excelente casa cerca de la calle 80 y Avenida ...   \n",
       "1      Se arrienda casa bonita totalmente amoblada co...   \n",
       "2      CASA DE TRES NIVELES TRES ALCOBAS SALA COMEDOR...   \n",
       "3      casa ezquinera excelente ubicacion cinco alcob...   \n",
       "4      Excelente casa de tres niveles, buena ubicació...   \n",
       "...                                                  ...   \n",
       "16374  Se arrienda precioso apartamento amoblado, con...   \n",
       "16375  CÓMODO APARTAMENTO EN ARRIENDO UBICADO EN EL B...   \n",
       "16376  Apartamentototalmente  amoblado de 47 metros c...   \n",
       "16377  Hermoso y acogedor apartamento completamente a...   \n",
       "16378  Hermoso apartamento de 106m2  2  añoS de const...   \n",
       "\n",
       "                                                     url  metro_cuadrado  \\\n",
       "0      https://www.metrocuadrado.com/inmueble/arriend...            25.6   \n",
       "1      https://www.metrocuadrado.com/inmueble/arriend...            57.3   \n",
       "2      https://www.metrocuadrado.com/inmueble/arriend...            12.2   \n",
       "3      https://www.metrocuadrado.com/inmueble/arriend...            56.0   \n",
       "4      https://www.metrocuadrado.com/inmueble/arriend...            47.1   \n",
       "...                                                  ...             ...   \n",
       "16374  https://www.metrocuadrado.com/inmueble/arriend...            63.4   \n",
       "16375  https://www.metrocuadrado.com/inmueble/arriend...            56.0   \n",
       "16376  https://www.metrocuadrado.com/inmueble/arriend...            39.4   \n",
       "16377  https://www.metrocuadrado.com/inmueble/arriend...            51.6   \n",
       "16378  https://www.metrocuadrado.com/inmueble/arriend...            44.4   \n",
       "\n",
       "           _merge                                    location property_type  \\\n",
       "0       left_only               LA SOLEDAD NORTE Bogotá D.C..          Casa   \n",
       "1            both    CIUDAD SALITRE SUR-ORIENTAL Bogotá D.C..          Casa   \n",
       "2       left_only   VILLA DE LOS ALPES II SECTOR Bogotá D.C..          Casa   \n",
       "3       left_only                   PARIS GAITAN Bogotá D.C..          Casa   \n",
       "4       left_only            BALCONES DE ORIENTE Bogotá D.C..          Casa   \n",
       "...           ...                                         ...           ...   \n",
       "16374  right_only                  SANTA BIBIANA Bogotá D.C..   Apartamento   \n",
       "16375  right_only       SANTA BARBARA OCCIDENTAL Bogotá D.C..   Apartamento   \n",
       "16376  right_only                    CHICO NORTE Bogotá D.C..   Apartamento   \n",
       "16377  right_only                     LA CABRERA Bogotá D.C..   Apartamento   \n",
       "16378  right_only                  MOLINOS NORTE Bogotá D.C..   Apartamento   \n",
       "\n",
       "      rent_type     precio_m2 n_garajes tipo  \n",
       "0      Arriendo  16666.666667         1  NaN  \n",
       "1      Arriendo  39300.000000         1    1  \n",
       "2      Arriendo   8333.333333         0    1  \n",
       "3      Arriendo  47887.323944         0  NaN  \n",
       "4      Arriendo  16250.000000         1    1  \n",
       "...         ...           ...       ...  ...  \n",
       "16374  Arriendo  43333.333333         1  NaN  \n",
       "16375  Arriendo  54651.162791         1    6  \n",
       "16376  Arriendo  36458.333333         1    6  \n",
       "16377  Arriendo  38235.294118         2    8  \n",
       "16378  Arriendo  23820.754717         2    8  \n",
       "\n",
       "[16379 rows x 14 columns]"
      ]
     },
     "execution_count": 473,
     "metadata": {},
     "output_type": "execute_result"
    }
   ],
   "source": [
    "df"
   ]
  },
  {
   "cell_type": "code",
   "execution_count": 474,
   "metadata": {
    "ExecuteTime": {
     "end_time": "2020-05-20T09:32:40.759938Z",
     "start_time": "2020-05-20T09:32:40.683979Z"
    }
   },
   "outputs": [
    {
     "data": {
      "text/plain": [
       "array([nan, '1', '2', '3', '4', '5', '6', '7', '8'], dtype=object)"
      ]
     },
     "execution_count": 474,
     "metadata": {},
     "output_type": "execute_result"
    }
   ],
   "source": [
    "df['tipo'].unique()"
   ]
  },
  {
   "cell_type": "markdown",
   "metadata": {},
   "source": [
    "### 5- ."
   ]
  },
  {
   "cell_type": "code",
   "execution_count": 475,
   "metadata": {
    "ExecuteTime": {
     "end_time": "2020-05-20T09:32:40.845995Z",
     "start_time": "2020-05-20T09:32:40.762930Z"
    }
   },
   "outputs": [],
   "source": [
    "upz = pd.read_csv('./data/asignacion_upz/barrio-upz.csv')"
   ]
  },
  {
   "cell_type": "code",
   "execution_count": 476,
   "metadata": {
    "ExecuteTime": {
     "end_time": "2020-05-20T09:32:40.964471Z",
     "start_time": "2020-05-20T09:32:40.847990Z"
    },
    "scrolled": true
   },
   "outputs": [
    {
     "data": {
      "text/html": [
       "<div>\n",
       "<style scoped>\n",
       "    .dataframe tbody tr th:only-of-type {\n",
       "        vertical-align: middle;\n",
       "    }\n",
       "\n",
       "    .dataframe tbody tr th {\n",
       "        vertical-align: top;\n",
       "    }\n",
       "\n",
       "    .dataframe thead th {\n",
       "        text-align: right;\n",
       "    }\n",
       "</style>\n",
       "<table border=\"1\" class=\"dataframe\">\n",
       "  <thead>\n",
       "    <tr style=\"text-align: right;\">\n",
       "      <th></th>\n",
       "      <th>UPlCodigo</th>\n",
       "      <th>UPlTipo</th>\n",
       "      <th>UPlNombre</th>\n",
       "      <th>UPlArea</th>\n",
       "      <th>pro_location</th>\n",
       "    </tr>\n",
       "  </thead>\n",
       "  <tbody>\n",
       "    <tr>\n",
       "      <th>0</th>\n",
       "      <td>UPZ100</td>\n",
       "      <td>1</td>\n",
       "      <td>GALERIAS</td>\n",
       "      <td>2.375681e+06</td>\n",
       "      <td>PALERMO</td>\n",
       "    </tr>\n",
       "    <tr>\n",
       "      <th>1</th>\n",
       "      <td>UPZ100</td>\n",
       "      <td>1</td>\n",
       "      <td>GALERIAS</td>\n",
       "      <td>2.375681e+06</td>\n",
       "      <td>BELALCAZAR</td>\n",
       "    </tr>\n",
       "    <tr>\n",
       "      <th>2</th>\n",
       "      <td>UPZ100</td>\n",
       "      <td>1</td>\n",
       "      <td>GALERIAS</td>\n",
       "      <td>2.375681e+06</td>\n",
       "      <td>SEARS</td>\n",
       "    </tr>\n",
       "    <tr>\n",
       "      <th>3</th>\n",
       "      <td>UPZ100</td>\n",
       "      <td>1</td>\n",
       "      <td>GALERIAS</td>\n",
       "      <td>2.375681e+06</td>\n",
       "      <td>GALERIAS</td>\n",
       "    </tr>\n",
       "    <tr>\n",
       "      <th>4</th>\n",
       "      <td>UPZ100</td>\n",
       "      <td>1</td>\n",
       "      <td>GALERIAS</td>\n",
       "      <td>2.375681e+06</td>\n",
       "      <td>BANCO CENTRAL</td>\n",
       "    </tr>\n",
       "    <tr>\n",
       "      <th>...</th>\n",
       "      <td>...</td>\n",
       "      <td>...</td>\n",
       "      <td>...</td>\n",
       "      <td>...</td>\n",
       "      <td>...</td>\n",
       "    </tr>\n",
       "    <tr>\n",
       "      <th>463</th>\n",
       "      <td>UPZ42</td>\n",
       "      <td>1</td>\n",
       "      <td>VENECIA</td>\n",
       "      <td>6.638420e+06</td>\n",
       "      <td>NUEVO MUZU</td>\n",
       "    </tr>\n",
       "    <tr>\n",
       "      <th>464</th>\n",
       "      <td>UPZ42</td>\n",
       "      <td>1</td>\n",
       "      <td>VENECIA</td>\n",
       "      <td>6.638420e+06</td>\n",
       "      <td>EL CONDOR</td>\n",
       "    </tr>\n",
       "    <tr>\n",
       "      <th>465</th>\n",
       "      <td>UPZ42</td>\n",
       "      <td>1</td>\n",
       "      <td>VENECIA</td>\n",
       "      <td>6.638420e+06</td>\n",
       "      <td>LAGUNETA</td>\n",
       "    </tr>\n",
       "    <tr>\n",
       "      <th>466</th>\n",
       "      <td>UPZ52</td>\n",
       "      <td>1</td>\n",
       "      <td>LA FLORA</td>\n",
       "      <td>1.877160e+06</td>\n",
       "      <td>VILLA MARIA</td>\n",
       "    </tr>\n",
       "    <tr>\n",
       "      <th>467</th>\n",
       "      <td>UPZ60</td>\n",
       "      <td>1</td>\n",
       "      <td>PARQUE ENTRENUBES</td>\n",
       "      <td>4.190395e+06</td>\n",
       "      <td>-NULO-</td>\n",
       "    </tr>\n",
       "  </tbody>\n",
       "</table>\n",
       "<p>468 rows × 5 columns</p>\n",
       "</div>"
      ],
      "text/plain": [
       "    UPlCodigo  UPlTipo          UPlNombre       UPlArea   pro_location\n",
       "0      UPZ100        1           GALERIAS  2.375681e+06        PALERMO\n",
       "1      UPZ100        1           GALERIAS  2.375681e+06     BELALCAZAR\n",
       "2      UPZ100        1           GALERIAS  2.375681e+06          SEARS\n",
       "3      UPZ100        1           GALERIAS  2.375681e+06       GALERIAS\n",
       "4      UPZ100        1           GALERIAS  2.375681e+06  BANCO CENTRAL\n",
       "..        ...      ...                ...           ...            ...\n",
       "463     UPZ42        1            VENECIA  6.638420e+06     NUEVO MUZU\n",
       "464     UPZ42        1            VENECIA  6.638420e+06      EL CONDOR\n",
       "465     UPZ42        1            VENECIA  6.638420e+06       LAGUNETA\n",
       "466     UPZ52        1           LA FLORA  1.877160e+06    VILLA MARIA\n",
       "467     UPZ60        1  PARQUE ENTRENUBES  4.190395e+06         -NULO-\n",
       "\n",
       "[468 rows x 5 columns]"
      ]
     },
     "execution_count": 476,
     "metadata": {},
     "output_type": "execute_result"
    }
   ],
   "source": [
    "def transforma_str(elemento):\n",
    "    if type(elemento) == str:\n",
    "        espaciado = elemento.strip()\n",
    "        if len(espaciado) != 0:\n",
    "            return elemento\n",
    "    else:\n",
    "        return '-nulo-'\n",
    "\n",
    "\n",
    "upz['pro_location'] = upz['pro_location'].apply(transforma_str)\n",
    "upz['pro_location'] = upz['pro_location'].apply(str.upper)\n",
    "upz"
   ]
  },
  {
   "cell_type": "code",
   "execution_count": 477,
   "metadata": {
    "ExecuteTime": {
     "end_time": "2020-05-20T09:33:16.846794Z",
     "start_time": "2020-05-20T09:32:40.967463Z"
    }
   },
   "outputs": [],
   "source": [
    "# Inicializamos la columna\n",
    "df['upz'] = np.nan\n",
    "df['UPlArea'] = np.nan\n",
    "\n",
    "\n",
    "def clasifica_upz(df):\n",
    "    locaciones = list(upz['pro_location'])\n",
    "    upl_area = list(upz['UPlArea'])\n",
    "    codigos_upl = list(upz['UPlCodigo'])\n",
    "\n",
    "    for area, codigo, locacion in zip(upl_area, codigos_upl, locaciones):\n",
    "        indice = df[df['location'].str.contains(locacion)].index\n",
    "\n",
    "        for i in indice:\n",
    "            df.loc[i, 'upz'] = codigo\n",
    "            df.loc[i, 'UPlArea'] = area\n",
    "\n",
    "    return df\n",
    "\n",
    "\n",
    "df = clasifica_upz(df)"
   ]
  },
  {
   "cell_type": "code",
   "execution_count": 478,
   "metadata": {
    "ExecuteTime": {
     "end_time": "2020-05-20T09:33:16.880668Z",
     "start_time": "2020-05-20T09:33:16.848750Z"
    },
    "scrolled": true
   },
   "outputs": [
    {
     "data": {
      "text/html": [
       "<div>\n",
       "<style scoped>\n",
       "    .dataframe tbody tr th:only-of-type {\n",
       "        vertical-align: middle;\n",
       "    }\n",
       "\n",
       "    .dataframe tbody tr th {\n",
       "        vertical-align: top;\n",
       "    }\n",
       "\n",
       "    .dataframe thead th {\n",
       "        text-align: right;\n",
       "    }\n",
       "</style>\n",
       "<table border=\"1\" class=\"dataframe\">\n",
       "  <thead>\n",
       "    <tr style=\"text-align: right;\">\n",
       "      <th></th>\n",
       "      <th>price</th>\n",
       "      <th>n_rooms</th>\n",
       "      <th>n_bath</th>\n",
       "      <th>surface</th>\n",
       "      <th>details</th>\n",
       "      <th>url</th>\n",
       "      <th>metro_cuadrado</th>\n",
       "      <th>_merge</th>\n",
       "      <th>location</th>\n",
       "      <th>property_type</th>\n",
       "      <th>rent_type</th>\n",
       "      <th>precio_m2</th>\n",
       "      <th>n_garajes</th>\n",
       "      <th>tipo</th>\n",
       "      <th>upz</th>\n",
       "      <th>UPlArea</th>\n",
       "    </tr>\n",
       "  </thead>\n",
       "  <tbody>\n",
       "    <tr>\n",
       "      <th>0</th>\n",
       "      <td>1050000.0</td>\n",
       "      <td>3.0</td>\n",
       "      <td>2.0</td>\n",
       "      <td>63.0</td>\n",
       "      <td>Excelente casa cerca de la calle 80 y Avenida ...</td>\n",
       "      <td>https://www.metrocuadrado.com/inmueble/arriend...</td>\n",
       "      <td>25.6</td>\n",
       "      <td>left_only</td>\n",
       "      <td>LA SOLEDAD NORTE Bogotá D.C..</td>\n",
       "      <td>Casa</td>\n",
       "      <td>Arriendo</td>\n",
       "      <td>16666.666667</td>\n",
       "      <td>1</td>\n",
       "      <td>NaN</td>\n",
       "      <td>UPZ101</td>\n",
       "      <td>2.357008e+06</td>\n",
       "    </tr>\n",
       "    <tr>\n",
       "      <th>1</th>\n",
       "      <td>3930000.0</td>\n",
       "      <td>3.0</td>\n",
       "      <td>2.0</td>\n",
       "      <td>100.0</td>\n",
       "      <td>Se arrienda casa bonita totalmente amoblada co...</td>\n",
       "      <td>https://www.metrocuadrado.com/inmueble/arriend...</td>\n",
       "      <td>57.3</td>\n",
       "      <td>both</td>\n",
       "      <td>CIUDAD SALITRE SUR-ORIENTAL Bogotá D.C..</td>\n",
       "      <td>Casa</td>\n",
       "      <td>Arriendo</td>\n",
       "      <td>39300.000000</td>\n",
       "      <td>1</td>\n",
       "      <td>1</td>\n",
       "      <td>NaN</td>\n",
       "      <td>NaN</td>\n",
       "    </tr>\n",
       "    <tr>\n",
       "      <th>2</th>\n",
       "      <td>750000.0</td>\n",
       "      <td>3.0</td>\n",
       "      <td>1.0</td>\n",
       "      <td>90.0</td>\n",
       "      <td>CASA DE TRES NIVELES TRES ALCOBAS SALA COMEDOR...</td>\n",
       "      <td>https://www.metrocuadrado.com/inmueble/arriend...</td>\n",
       "      <td>12.2</td>\n",
       "      <td>left_only</td>\n",
       "      <td>VILLA DE LOS ALPES II SECTOR Bogotá D.C..</td>\n",
       "      <td>Casa</td>\n",
       "      <td>Arriendo</td>\n",
       "      <td>8333.333333</td>\n",
       "      <td>0</td>\n",
       "      <td>1</td>\n",
       "      <td>UPZ75</td>\n",
       "      <td>4.964574e+06</td>\n",
       "    </tr>\n",
       "  </tbody>\n",
       "</table>\n",
       "</div>"
      ],
      "text/plain": [
       "       price n_rooms n_bath  surface  \\\n",
       "0  1050000.0     3.0    2.0     63.0   \n",
       "1  3930000.0     3.0    2.0    100.0   \n",
       "2   750000.0     3.0    1.0     90.0   \n",
       "\n",
       "                                             details  \\\n",
       "0  Excelente casa cerca de la calle 80 y Avenida ...   \n",
       "1  Se arrienda casa bonita totalmente amoblada co...   \n",
       "2  CASA DE TRES NIVELES TRES ALCOBAS SALA COMEDOR...   \n",
       "\n",
       "                                                 url  metro_cuadrado  \\\n",
       "0  https://www.metrocuadrado.com/inmueble/arriend...            25.6   \n",
       "1  https://www.metrocuadrado.com/inmueble/arriend...            57.3   \n",
       "2  https://www.metrocuadrado.com/inmueble/arriend...            12.2   \n",
       "\n",
       "      _merge                                    location property_type  \\\n",
       "0  left_only               LA SOLEDAD NORTE Bogotá D.C..          Casa   \n",
       "1       both    CIUDAD SALITRE SUR-ORIENTAL Bogotá D.C..          Casa   \n",
       "2  left_only   VILLA DE LOS ALPES II SECTOR Bogotá D.C..          Casa   \n",
       "\n",
       "  rent_type     precio_m2 n_garajes tipo     upz       UPlArea  \n",
       "0  Arriendo  16666.666667         1  NaN  UPZ101  2.357008e+06  \n",
       "1  Arriendo  39300.000000         1    1     NaN           NaN  \n",
       "2  Arriendo   8333.333333         0    1   UPZ75  4.964574e+06  "
      ]
     },
     "execution_count": 478,
     "metadata": {},
     "output_type": "execute_result"
    }
   ],
   "source": [
    "df.head(3)"
   ]
  },
  {
   "cell_type": "code",
   "execution_count": 479,
   "metadata": {
    "ExecuteTime": {
     "end_time": "2020-05-20T09:33:16.990371Z",
     "start_time": "2020-05-20T09:33:16.885652Z"
    }
   },
   "outputs": [
    {
     "name": "stdout",
     "output_type": "stream",
     "text": [
      "Porcentaje de objetos con código UPZ\n"
     ]
    },
    {
     "data": {
      "text/plain": [
       "91.88595152329202"
      ]
     },
     "execution_count": 479,
     "metadata": {},
     "output_type": "execute_result"
    }
   ],
   "source": [
    "print('Porcentaje de objetos con código UPZ')\n",
    "len(df[df['upz'].notna()])/len(df) * 100"
   ]
  },
  {
   "cell_type": "markdown",
   "metadata": {},
   "source": [
    "### 6- ."
   ]
  },
  {
   "cell_type": "code",
   "execution_count": 480,
   "metadata": {
    "ExecuteTime": {
     "end_time": "2020-05-20T09:33:17.112046Z",
     "start_time": "2020-05-20T09:33:16.993364Z"
    }
   },
   "outputs": [
    {
     "data": {
      "text/html": [
       "<div>\n",
       "<style scoped>\n",
       "    .dataframe tbody tr th:only-of-type {\n",
       "        vertical-align: middle;\n",
       "    }\n",
       "\n",
       "    .dataframe tbody tr th {\n",
       "        vertical-align: top;\n",
       "    }\n",
       "\n",
       "    .dataframe thead th {\n",
       "        text-align: right;\n",
       "    }\n",
       "</style>\n",
       "<table border=\"1\" class=\"dataframe\">\n",
       "  <thead>\n",
       "    <tr style=\"text-align: right;\">\n",
       "      <th></th>\n",
       "      <th>upz</th>\n",
       "      <th>personas</th>\n",
       "      <th>trabajoinf_ninos_5_17_anos_perc</th>\n",
       "      <th>trabajoinfampliado_ninos_5_17_anos_perc</th>\n",
       "      <th>jovenes_14_24_anos_nini_perc</th>\n",
       "      <th>indice_envegecimiento</th>\n",
       "      <th>jefe_mujer_perc</th>\n",
       "      <th>adultos_mayores_pobres_perc</th>\n",
       "    </tr>\n",
       "  </thead>\n",
       "  <tbody>\n",
       "    <tr>\n",
       "      <th>0</th>\n",
       "      <td>UPZ11</td>\n",
       "      <td>68430</td>\n",
       "      <td>0.6</td>\n",
       "      <td>3.9</td>\n",
       "      <td>20.7</td>\n",
       "      <td>35.2</td>\n",
       "      <td>44.579934</td>\n",
       "      <td>17.931973</td>\n",
       "    </tr>\n",
       "    <tr>\n",
       "      <th>1</th>\n",
       "      <td>UPZ12</td>\n",
       "      <td>50037</td>\n",
       "      <td>1.8</td>\n",
       "      <td>16.7</td>\n",
       "      <td>9.1</td>\n",
       "      <td>54.7</td>\n",
       "      <td>36.279630</td>\n",
       "      <td>5.420442</td>\n",
       "    </tr>\n",
       "    <tr>\n",
       "      <th>2</th>\n",
       "      <td>UPZ13</td>\n",
       "      <td>102981</td>\n",
       "      <td>0.0</td>\n",
       "      <td>3.5</td>\n",
       "      <td>5.5</td>\n",
       "      <td>118.4</td>\n",
       "      <td>33.286852</td>\n",
       "      <td>3.250000</td>\n",
       "    </tr>\n",
       "    <tr>\n",
       "      <th>3</th>\n",
       "      <td>UPZ18</td>\n",
       "      <td>69961</td>\n",
       "      <td>0.4</td>\n",
       "      <td>7.2</td>\n",
       "      <td>9.4</td>\n",
       "      <td>42.7</td>\n",
       "      <td>36.465059</td>\n",
       "      <td>9.439051</td>\n",
       "    </tr>\n",
       "    <tr>\n",
       "      <th>4</th>\n",
       "      <td>UPZ19</td>\n",
       "      <td>121158</td>\n",
       "      <td>0.3</td>\n",
       "      <td>8.0</td>\n",
       "      <td>8.2</td>\n",
       "      <td>59.1</td>\n",
       "      <td>32.887202</td>\n",
       "      <td>5.406574</td>\n",
       "    </tr>\n",
       "  </tbody>\n",
       "</table>\n",
       "</div>"
      ],
      "text/plain": [
       "     upz  personas  trabajoinf_ninos_5_17_anos_perc  \\\n",
       "0  UPZ11     68430                              0.6   \n",
       "1  UPZ12     50037                              1.8   \n",
       "2  UPZ13    102981                              0.0   \n",
       "3  UPZ18     69961                              0.4   \n",
       "4  UPZ19    121158                              0.3   \n",
       "\n",
       "   trabajoinfampliado_ninos_5_17_anos_perc  jovenes_14_24_anos_nini_perc  \\\n",
       "0                                      3.9                          20.7   \n",
       "1                                     16.7                           9.1   \n",
       "2                                      3.5                           5.5   \n",
       "3                                      7.2                           9.4   \n",
       "4                                      8.0                           8.2   \n",
       "\n",
       "   indice_envegecimiento  jefe_mujer_perc  adultos_mayores_pobres_perc  \n",
       "0                   35.2        44.579934                    17.931973  \n",
       "1                   54.7        36.279630                     5.420442  \n",
       "2                  118.4        33.286852                     3.250000  \n",
       "3                   42.7        36.465059                     9.439051  \n",
       "4                   59.1        32.887202                     5.406574  "
      ]
     },
     "execution_count": 480,
     "metadata": {},
     "output_type": "execute_result"
    }
   ],
   "source": [
    "est_poblacion = pd.read_csv(\n",
    "    './data/estadisticas_upz/estadisticas_poblacion.csv')\n",
    "est_poblacion.drop(columns=['Unnamed: 0', 'nomupz'], inplace=True)\n",
    "est_poblacion.head()"
   ]
  },
  {
   "cell_type": "code",
   "execution_count": 481,
   "metadata": {
    "ExecuteTime": {
     "end_time": "2020-05-20T09:33:17.257658Z",
     "start_time": "2020-05-20T09:33:17.115040Z"
    }
   },
   "outputs": [],
   "source": [
    "# Enriquecemos df con los datos de est_poblacion\n",
    "df = df.merge(est_poblacion, on='upz', how='left')"
   ]
  },
  {
   "cell_type": "code",
   "execution_count": 482,
   "metadata": {
    "ExecuteTime": {
     "end_time": "2020-05-20T09:33:17.326984Z",
     "start_time": "2020-05-20T09:33:17.259652Z"
    }
   },
   "outputs": [
    {
     "data": {
      "text/html": [
       "<div>\n",
       "<style scoped>\n",
       "    .dataframe tbody tr th:only-of-type {\n",
       "        vertical-align: middle;\n",
       "    }\n",
       "\n",
       "    .dataframe tbody tr th {\n",
       "        vertical-align: top;\n",
       "    }\n",
       "\n",
       "    .dataframe thead th {\n",
       "        text-align: right;\n",
       "    }\n",
       "</style>\n",
       "<table border=\"1\" class=\"dataframe\">\n",
       "  <thead>\n",
       "    <tr style=\"text-align: right;\">\n",
       "      <th></th>\n",
       "      <th>upz</th>\n",
       "      <th>indice_inseguridad</th>\n",
       "    </tr>\n",
       "  </thead>\n",
       "  <tbody>\n",
       "    <tr>\n",
       "      <th>0</th>\n",
       "      <td>UPZ100</td>\n",
       "      <td>0.671141</td>\n",
       "    </tr>\n",
       "    <tr>\n",
       "      <th>1</th>\n",
       "      <td>UPZ83</td>\n",
       "      <td>0.000000</td>\n",
       "    </tr>\n",
       "    <tr>\n",
       "      <th>2</th>\n",
       "      <td>UPZ107</td>\n",
       "      <td>2.318841</td>\n",
       "    </tr>\n",
       "    <tr>\n",
       "      <th>3</th>\n",
       "      <td>UPZ101</td>\n",
       "      <td>3.629032</td>\n",
       "    </tr>\n",
       "    <tr>\n",
       "      <th>4</th>\n",
       "      <td>UPZ91</td>\n",
       "      <td>13.537118</td>\n",
       "    </tr>\n",
       "  </tbody>\n",
       "</table>\n",
       "</div>"
      ],
      "text/plain": [
       "      upz  indice_inseguridad\n",
       "0  UPZ100            0.671141\n",
       "1   UPZ83            0.000000\n",
       "2  UPZ107            2.318841\n",
       "3  UPZ101            3.629032\n",
       "4   UPZ91           13.537118"
      ]
     },
     "execution_count": 482,
     "metadata": {},
     "output_type": "execute_result"
    }
   ],
   "source": [
    "ind_inseg = pd.read_csv('./data/estadisticas_upz/indice_inseguridad.csv')\n",
    "ind_inseg = ind_inseg.rename(columns={'UPlCodigo': 'upz'})\n",
    "ind_inseg.drop(columns=['UPlNombre2', 'Unnamed: 0'], inplace=True)\n",
    "ind_inseg.head()"
   ]
  },
  {
   "cell_type": "code",
   "execution_count": 483,
   "metadata": {
    "ExecuteTime": {
     "end_time": "2020-05-20T09:33:17.445300Z",
     "start_time": "2020-05-20T09:33:17.329976Z"
    },
    "scrolled": true
   },
   "outputs": [],
   "source": [
    "# Enriquecemos df con el indice de inseguridad\n",
    "df = df.merge(ind_inseg, on='upz', how='left')"
   ]
  },
  {
   "cell_type": "code",
   "execution_count": 484,
   "metadata": {
    "ExecuteTime": {
     "end_time": "2020-05-20T09:33:17.521097Z",
     "start_time": "2020-05-20T09:33:17.448290Z"
    }
   },
   "outputs": [
    {
     "data": {
      "text/html": [
       "<div>\n",
       "<style scoped>\n",
       "    .dataframe tbody tr th:only-of-type {\n",
       "        vertical-align: middle;\n",
       "    }\n",
       "\n",
       "    .dataframe tbody tr th {\n",
       "        vertical-align: top;\n",
       "    }\n",
       "\n",
       "    .dataframe thead th {\n",
       "        text-align: right;\n",
       "    }\n",
       "</style>\n",
       "<table border=\"1\" class=\"dataframe\">\n",
       "  <thead>\n",
       "    <tr style=\"text-align: right;\">\n",
       "      <th></th>\n",
       "      <th>Unnamed: 0</th>\n",
       "      <th>cod_upz</th>\n",
       "      <th>upz</th>\n",
       "      <th>areas_verdes_perc</th>\n",
       "    </tr>\n",
       "  </thead>\n",
       "  <tbody>\n",
       "    <tr>\n",
       "      <th>0</th>\n",
       "      <td>0</td>\n",
       "      <td>51.0</td>\n",
       "      <td>Los Libertadores</td>\n",
       "      <td>58.196667</td>\n",
       "    </tr>\n",
       "    <tr>\n",
       "      <th>1</th>\n",
       "      <td>1</td>\n",
       "      <td>87.0</td>\n",
       "      <td>Tintal Sur</td>\n",
       "      <td>85.924848</td>\n",
       "    </tr>\n",
       "    <tr>\n",
       "      <th>2</th>\n",
       "      <td>2</td>\n",
       "      <td>1.0</td>\n",
       "      <td>Paseo de los Libertadores</td>\n",
       "      <td>83.966495</td>\n",
       "    </tr>\n",
       "    <tr>\n",
       "      <th>3</th>\n",
       "      <td>3</td>\n",
       "      <td>64.0</td>\n",
       "      <td>Monte Blanco</td>\n",
       "      <td>85.778144</td>\n",
       "    </tr>\n",
       "    <tr>\n",
       "      <th>4</th>\n",
       "      <td>4</td>\n",
       "      <td>29.0</td>\n",
       "      <td>Minuto de Dios</td>\n",
       "      <td>37.852289</td>\n",
       "    </tr>\n",
       "  </tbody>\n",
       "</table>\n",
       "</div>"
      ],
      "text/plain": [
       "   Unnamed: 0  cod_upz                        upz  areas_verdes_perc\n",
       "0           0     51.0           Los Libertadores          58.196667\n",
       "1           1     87.0                 Tintal Sur          85.924848\n",
       "2           2      1.0  Paseo de los Libertadores          83.966495\n",
       "3           3     64.0               Monte Blanco          85.778144\n",
       "4           4     29.0             Minuto de Dios          37.852289"
      ]
     },
     "execution_count": 484,
     "metadata": {},
     "output_type": "execute_result"
    }
   ],
   "source": [
    "per_areas_verdes = pd.read_csv(\n",
    "    './data/estadisticas_upz/porcentaje_areas_verdes.csv')\n",
    "per_areas_verdes.head()"
   ]
  },
  {
   "cell_type": "code",
   "execution_count": 485,
   "metadata": {
    "ExecuteTime": {
     "end_time": "2020-05-20T09:33:17.643806Z",
     "start_time": "2020-05-20T09:33:17.526084Z"
    }
   },
   "outputs": [
    {
     "data": {
      "text/html": [
       "<div>\n",
       "<style scoped>\n",
       "    .dataframe tbody tr th:only-of-type {\n",
       "        vertical-align: middle;\n",
       "    }\n",
       "\n",
       "    .dataframe tbody tr th {\n",
       "        vertical-align: top;\n",
       "    }\n",
       "\n",
       "    .dataframe thead th {\n",
       "        text-align: right;\n",
       "    }\n",
       "</style>\n",
       "<table border=\"1\" class=\"dataframe\">\n",
       "  <thead>\n",
       "    <tr style=\"text-align: right;\">\n",
       "      <th></th>\n",
       "      <th>upz</th>\n",
       "      <th>zona</th>\n",
       "      <th>areas_verdes_perc</th>\n",
       "    </tr>\n",
       "  </thead>\n",
       "  <tbody>\n",
       "    <tr>\n",
       "      <th>0</th>\n",
       "      <td>UPZ51</td>\n",
       "      <td>Los Libertadores</td>\n",
       "      <td>58.196667</td>\n",
       "    </tr>\n",
       "    <tr>\n",
       "      <th>1</th>\n",
       "      <td>UPZ87</td>\n",
       "      <td>Tintal Sur</td>\n",
       "      <td>85.924848</td>\n",
       "    </tr>\n",
       "    <tr>\n",
       "      <th>2</th>\n",
       "      <td>UPZ1</td>\n",
       "      <td>Paseo de los Libertadores</td>\n",
       "      <td>83.966495</td>\n",
       "    </tr>\n",
       "    <tr>\n",
       "      <th>3</th>\n",
       "      <td>UPZ64</td>\n",
       "      <td>Monte Blanco</td>\n",
       "      <td>85.778144</td>\n",
       "    </tr>\n",
       "    <tr>\n",
       "      <th>4</th>\n",
       "      <td>UPZ29</td>\n",
       "      <td>Minuto de Dios</td>\n",
       "      <td>37.852289</td>\n",
       "    </tr>\n",
       "  </tbody>\n",
       "</table>\n",
       "</div>"
      ],
      "text/plain": [
       "     upz                       zona  areas_verdes_perc\n",
       "0  UPZ51           Los Libertadores          58.196667\n",
       "1  UPZ87                 Tintal Sur          85.924848\n",
       "2   UPZ1  Paseo de los Libertadores          83.966495\n",
       "3  UPZ64               Monte Blanco          85.778144\n",
       "4  UPZ29             Minuto de Dios          37.852289"
      ]
     },
     "execution_count": 485,
     "metadata": {},
     "output_type": "execute_result"
    }
   ],
   "source": [
    "per_areas_verdes.rename(\n",
    "    columns={'upz': 'zona', 'cod_upz': 'upz'}, inplace=True)\n",
    "per_areas_verdes['upz'] = per_areas_verdes['upz'].astype(int)\n",
    "per_areas_verdes['upz'] = per_areas_verdes['upz'].astype(str)\n",
    "per_areas_verdes['upz'] = per_areas_verdes['upz'].apply(lambda num: 'UPZ'+num)\n",
    "per_areas_verdes['upz'] = per_areas_verdes['upz'].apply(str.upper)\n",
    "per_areas_verdes.drop(columns=['Unnamed: 0'], inplace=True)\n",
    "per_areas_verdes.head()"
   ]
  },
  {
   "cell_type": "code",
   "execution_count": 486,
   "metadata": {
    "ExecuteTime": {
     "end_time": "2020-05-20T09:33:17.816515Z",
     "start_time": "2020-05-20T09:33:17.646760Z"
    },
    "scrolled": true
   },
   "outputs": [
    {
     "data": {
      "text/html": [
       "<div>\n",
       "<style scoped>\n",
       "    .dataframe tbody tr th:only-of-type {\n",
       "        vertical-align: middle;\n",
       "    }\n",
       "\n",
       "    .dataframe tbody tr th {\n",
       "        vertical-align: top;\n",
       "    }\n",
       "\n",
       "    .dataframe thead th {\n",
       "        text-align: right;\n",
       "    }\n",
       "</style>\n",
       "<table border=\"1\" class=\"dataframe\">\n",
       "  <thead>\n",
       "    <tr style=\"text-align: right;\">\n",
       "      <th></th>\n",
       "      <th>price</th>\n",
       "      <th>n_rooms</th>\n",
       "      <th>n_bath</th>\n",
       "      <th>surface</th>\n",
       "      <th>details</th>\n",
       "      <th>url</th>\n",
       "      <th>metro_cuadrado</th>\n",
       "      <th>_merge</th>\n",
       "      <th>location</th>\n",
       "      <th>property_type</th>\n",
       "      <th>...</th>\n",
       "      <th>personas</th>\n",
       "      <th>trabajoinf_ninos_5_17_anos_perc</th>\n",
       "      <th>trabajoinfampliado_ninos_5_17_anos_perc</th>\n",
       "      <th>jovenes_14_24_anos_nini_perc</th>\n",
       "      <th>indice_envegecimiento</th>\n",
       "      <th>jefe_mujer_perc</th>\n",
       "      <th>adultos_mayores_pobres_perc</th>\n",
       "      <th>indice_inseguridad</th>\n",
       "      <th>zona</th>\n",
       "      <th>areas_verdes_perc</th>\n",
       "    </tr>\n",
       "  </thead>\n",
       "  <tbody>\n",
       "    <tr>\n",
       "      <th>0</th>\n",
       "      <td>1050000.0</td>\n",
       "      <td>3.0</td>\n",
       "      <td>2.0</td>\n",
       "      <td>63.0</td>\n",
       "      <td>Excelente casa cerca de la calle 80 y Avenida ...</td>\n",
       "      <td>https://www.metrocuadrado.com/inmueble/arriend...</td>\n",
       "      <td>25.6</td>\n",
       "      <td>left_only</td>\n",
       "      <td>LA SOLEDAD NORTE Bogotá D.C..</td>\n",
       "      <td>Casa</td>\n",
       "      <td>...</td>\n",
       "      <td>19451.0</td>\n",
       "      <td>0.6</td>\n",
       "      <td>18.4</td>\n",
       "      <td>7.2</td>\n",
       "      <td>145.7</td>\n",
       "      <td>44.896230</td>\n",
       "      <td>5.281135</td>\n",
       "      <td>3.629032</td>\n",
       "      <td>Teusaquillo</td>\n",
       "      <td>6.563105</td>\n",
       "    </tr>\n",
       "    <tr>\n",
       "      <th>1</th>\n",
       "      <td>3930000.0</td>\n",
       "      <td>3.0</td>\n",
       "      <td>2.0</td>\n",
       "      <td>100.0</td>\n",
       "      <td>Se arrienda casa bonita totalmente amoblada co...</td>\n",
       "      <td>https://www.metrocuadrado.com/inmueble/arriend...</td>\n",
       "      <td>57.3</td>\n",
       "      <td>both</td>\n",
       "      <td>CIUDAD SALITRE SUR-ORIENTAL Bogotá D.C..</td>\n",
       "      <td>Casa</td>\n",
       "      <td>...</td>\n",
       "      <td>NaN</td>\n",
       "      <td>NaN</td>\n",
       "      <td>NaN</td>\n",
       "      <td>NaN</td>\n",
       "      <td>NaN</td>\n",
       "      <td>NaN</td>\n",
       "      <td>NaN</td>\n",
       "      <td>NaN</td>\n",
       "      <td>NaN</td>\n",
       "      <td>NaN</td>\n",
       "    </tr>\n",
       "    <tr>\n",
       "      <th>2</th>\n",
       "      <td>750000.0</td>\n",
       "      <td>3.0</td>\n",
       "      <td>1.0</td>\n",
       "      <td>90.0</td>\n",
       "      <td>CASA DE TRES NIVELES TRES ALCOBAS SALA COMEDOR...</td>\n",
       "      <td>https://www.metrocuadrado.com/inmueble/arriend...</td>\n",
       "      <td>12.2</td>\n",
       "      <td>left_only</td>\n",
       "      <td>VILLA DE LOS ALPES II SECTOR Bogotá D.C..</td>\n",
       "      <td>Casa</td>\n",
       "      <td>...</td>\n",
       "      <td>179732.0</td>\n",
       "      <td>0.4</td>\n",
       "      <td>1.2</td>\n",
       "      <td>14.5</td>\n",
       "      <td>45.4</td>\n",
       "      <td>31.113458</td>\n",
       "      <td>14.928786</td>\n",
       "      <td>0.310559</td>\n",
       "      <td>Fontibón</td>\n",
       "      <td>21.756250</td>\n",
       "    </tr>\n",
       "  </tbody>\n",
       "</table>\n",
       "<p>3 rows × 26 columns</p>\n",
       "</div>"
      ],
      "text/plain": [
       "       price n_rooms n_bath  surface  \\\n",
       "0  1050000.0     3.0    2.0     63.0   \n",
       "1  3930000.0     3.0    2.0    100.0   \n",
       "2   750000.0     3.0    1.0     90.0   \n",
       "\n",
       "                                             details  \\\n",
       "0  Excelente casa cerca de la calle 80 y Avenida ...   \n",
       "1  Se arrienda casa bonita totalmente amoblada co...   \n",
       "2  CASA DE TRES NIVELES TRES ALCOBAS SALA COMEDOR...   \n",
       "\n",
       "                                                 url  metro_cuadrado  \\\n",
       "0  https://www.metrocuadrado.com/inmueble/arriend...            25.6   \n",
       "1  https://www.metrocuadrado.com/inmueble/arriend...            57.3   \n",
       "2  https://www.metrocuadrado.com/inmueble/arriend...            12.2   \n",
       "\n",
       "      _merge                                    location property_type  ...  \\\n",
       "0  left_only               LA SOLEDAD NORTE Bogotá D.C..          Casa  ...   \n",
       "1       both    CIUDAD SALITRE SUR-ORIENTAL Bogotá D.C..          Casa  ...   \n",
       "2  left_only   VILLA DE LOS ALPES II SECTOR Bogotá D.C..          Casa  ...   \n",
       "\n",
       "   personas  trabajoinf_ninos_5_17_anos_perc  \\\n",
       "0   19451.0                              0.6   \n",
       "1       NaN                              NaN   \n",
       "2  179732.0                              0.4   \n",
       "\n",
       "  trabajoinfampliado_ninos_5_17_anos_perc jovenes_14_24_anos_nini_perc  \\\n",
       "0                                    18.4                          7.2   \n",
       "1                                     NaN                          NaN   \n",
       "2                                     1.2                         14.5   \n",
       "\n",
       "  indice_envegecimiento  jefe_mujer_perc  adultos_mayores_pobres_perc  \\\n",
       "0                 145.7        44.896230                     5.281135   \n",
       "1                   NaN              NaN                          NaN   \n",
       "2                  45.4        31.113458                    14.928786   \n",
       "\n",
       "   indice_inseguridad         zona  areas_verdes_perc  \n",
       "0            3.629032  Teusaquillo           6.563105  \n",
       "1                 NaN          NaN                NaN  \n",
       "2            0.310559     Fontibón          21.756250  \n",
       "\n",
       "[3 rows x 26 columns]"
      ]
     },
     "execution_count": 486,
     "metadata": {},
     "output_type": "execute_result"
    }
   ],
   "source": [
    "# Enriquecemos df con el porcentaje de areas verdes\n",
    "df = df.merge(per_areas_verdes, on='upz', how='left')\n",
    "df.head(3)"
   ]
  },
  {
   "cell_type": "code",
   "execution_count": 487,
   "metadata": {
    "ExecuteTime": {
     "end_time": "2020-05-20T09:33:17.860397Z",
     "start_time": "2020-05-20T09:33:17.821503Z"
    },
    "scrolled": true
   },
   "outputs": [],
   "source": [
    "# Enriquecemos df con la densidad de población por UPZ\n",
    "df['dens_upz'] = df['personas']/df['UPlArea']"
   ]
  },
  {
   "cell_type": "code",
   "execution_count": 488,
   "metadata": {
    "ExecuteTime": {
     "end_time": "2020-05-20T09:33:18.031548Z",
     "start_time": "2020-05-20T09:33:17.863391Z"
    },
    "scrolled": true
   },
   "outputs": [
    {
     "name": "stdout",
     "output_type": "stream",
     "text": [
      "<class 'pandas.core.frame.DataFrame'>\n",
      "Int64Index: 16381 entries, 0 to 16380\n",
      "Data columns (total 27 columns):\n",
      " #   Column                                   Non-Null Count  Dtype  \n",
      "---  ------                                   --------------  -----  \n",
      " 0   price                                    16381 non-null  float64\n",
      " 1   n_rooms                                  16381 non-null  object \n",
      " 2   n_bath                                   16381 non-null  object \n",
      " 3   surface                                  16381 non-null  float64\n",
      " 4   details                                  16271 non-null  object \n",
      " 5   url                                      16381 non-null  object \n",
      " 6   metro_cuadrado                           16381 non-null  float64\n",
      " 7   _merge                                   16381 non-null  object \n",
      " 8   location                                 16381 non-null  object \n",
      " 9   property_type                            16381 non-null  object \n",
      " 10  rent_type                                16381 non-null  object \n",
      " 11  precio_m2                                16365 non-null  float64\n",
      " 12  n_garajes                                16381 non-null  object \n",
      " 13  tipo                                     12286 non-null  object \n",
      " 14  upz                                      15052 non-null  object \n",
      " 15  UPlArea                                  15052 non-null  float64\n",
      " 16  personas                                 15052 non-null  float64\n",
      " 17  trabajoinf_ninos_5_17_anos_perc          15052 non-null  float64\n",
      " 18  trabajoinfampliado_ninos_5_17_anos_perc  15052 non-null  float64\n",
      " 19  jovenes_14_24_anos_nini_perc             15052 non-null  float64\n",
      " 20  indice_envegecimiento                    15052 non-null  float64\n",
      " 21  jefe_mujer_perc                          15052 non-null  float64\n",
      " 22  adultos_mayores_pobres_perc              15052 non-null  float64\n",
      " 23  indice_inseguridad                       15052 non-null  float64\n",
      " 24  zona                                     15052 non-null  object \n",
      " 25  areas_verdes_perc                        15052 non-null  float64\n",
      " 26  dens_upz                                 15052 non-null  float64\n",
      "dtypes: float64(15), object(12)\n",
      "memory usage: 3.5+ MB\n"
     ]
    }
   ],
   "source": [
    "df.replace(np.inf, np.nan, inplace=True)\n",
    "df.replace(-np.inf, np.nan, inplace=True)\n",
    "df['_merge'] = df['_merge'].astype(str)\n",
    "# df.dropna(inplace=True)\n",
    "df.info()"
   ]
  },
  {
   "cell_type": "code",
   "execution_count": null,
   "metadata": {},
   "outputs": [],
   "source": [
    "# Copia para correr P2\n",
    "copia = df"
   ]
  },
  {
   "cell_type": "markdown",
   "metadata": {},
   "source": [
    "# P2"
   ]
  },
  {
   "cell_type": "code",
   "execution_count": 518,
   "metadata": {
    "ExecuteTime": {
     "end_time": "2020-05-20T09:50:20.813883Z",
     "start_time": "2020-05-20T09:50:20.808899Z"
    }
   },
   "outputs": [],
   "source": [
    "#df = copia"
   ]
  },
  {
   "cell_type": "code",
   "execution_count": 519,
   "metadata": {
    "ExecuteTime": {
     "end_time": "2020-05-20T09:50:20.921110Z",
     "start_time": "2020-05-20T09:50:20.820865Z"
    },
    "scrolled": true
   },
   "outputs": [],
   "source": [
    "import seaborn as sns\n",
    "import matplotlib.pyplot as plt\n",
    "import seaborn as sns\n",
    "import numpy as np\n",
    "from scipy.stats import norm\n",
    "from scipy import stats\n",
    "\n",
    "\n",
    "def estilo():\n",
    "    sns.set_style('dark')\n",
    "    sns.despine()"
   ]
  },
  {
   "cell_type": "code",
   "execution_count": 520,
   "metadata": {
    "ExecuteTime": {
     "end_time": "2020-05-20T09:50:21.048484Z",
     "start_time": "2020-05-20T09:50:20.924103Z"
    }
   },
   "outputs": [
    {
     "ename": "TypeError",
     "evalue": "Expected tuple, got str",
     "output_type": "error",
     "traceback": [
      "\u001b[1;31m---------------------------------------------------------------------------\u001b[0m",
      "\u001b[1;31mTypeError\u001b[0m                                 Traceback (most recent call last)",
      "\u001b[1;32m<ipython-input-520-c3e750bff9cb>\u001b[0m in \u001b[0;36m<module>\u001b[1;34m\u001b[0m\n\u001b[0;32m     23\u001b[0m '''\n\u001b[0;32m     24\u001b[0m \u001b[1;33m\u001b[0m\u001b[0m\n\u001b[1;32m---> 25\u001b[1;33m \u001b[0mdf\u001b[0m \u001b[1;33m=\u001b[0m \u001b[0mdf\u001b[0m\u001b[1;33m.\u001b[0m\u001b[0mreindex\u001b[0m\u001b[1;33m(\u001b[0m\u001b[0mcolumns\u001b[0m\u001b[1;33m=\u001b[0m\u001b[0mnumeric\u001b[0m \u001b[1;33m+\u001b[0m \u001b[0mcategorical\u001b[0m\u001b[1;33m)\u001b[0m\u001b[1;33m\u001b[0m\u001b[1;33m\u001b[0m\u001b[0m\n\u001b[0m",
      "\u001b[1;32m~\\anaconda3\\lib\\site-packages\\pandas\\util\\_decorators.py\u001b[0m in \u001b[0;36mwrapper\u001b[1;34m(*args, **kwargs)\u001b[0m\n\u001b[0;32m    225\u001b[0m         \u001b[1;33m@\u001b[0m\u001b[0mwraps\u001b[0m\u001b[1;33m(\u001b[0m\u001b[0mfunc\u001b[0m\u001b[1;33m)\u001b[0m\u001b[1;33m\u001b[0m\u001b[1;33m\u001b[0m\u001b[0m\n\u001b[0;32m    226\u001b[0m         \u001b[1;32mdef\u001b[0m \u001b[0mwrapper\u001b[0m\u001b[1;33m(\u001b[0m\u001b[1;33m*\u001b[0m\u001b[0margs\u001b[0m\u001b[1;33m,\u001b[0m \u001b[1;33m**\u001b[0m\u001b[0mkwargs\u001b[0m\u001b[1;33m)\u001b[0m \u001b[1;33m->\u001b[0m \u001b[0mCallable\u001b[0m\u001b[1;33m[\u001b[0m\u001b[1;33m...\u001b[0m\u001b[1;33m,\u001b[0m \u001b[0mAny\u001b[0m\u001b[1;33m]\u001b[0m\u001b[1;33m:\u001b[0m\u001b[1;33m\u001b[0m\u001b[1;33m\u001b[0m\u001b[0m\n\u001b[1;32m--> 227\u001b[1;33m             \u001b[1;32mreturn\u001b[0m \u001b[0mfunc\u001b[0m\u001b[1;33m(\u001b[0m\u001b[1;33m*\u001b[0m\u001b[0margs\u001b[0m\u001b[1;33m,\u001b[0m \u001b[1;33m**\u001b[0m\u001b[0mkwargs\u001b[0m\u001b[1;33m)\u001b[0m\u001b[1;33m\u001b[0m\u001b[1;33m\u001b[0m\u001b[0m\n\u001b[0m\u001b[0;32m    228\u001b[0m \u001b[1;33m\u001b[0m\u001b[0m\n\u001b[0;32m    229\u001b[0m         \u001b[0mkind\u001b[0m \u001b[1;33m=\u001b[0m \u001b[0minspect\u001b[0m\u001b[1;33m.\u001b[0m\u001b[0mParameter\u001b[0m\u001b[1;33m.\u001b[0m\u001b[0mPOSITIONAL_OR_KEYWORD\u001b[0m\u001b[1;33m\u001b[0m\u001b[1;33m\u001b[0m\u001b[0m\n",
      "\u001b[1;32m~\\anaconda3\\lib\\site-packages\\pandas\\core\\frame.py\u001b[0m in \u001b[0;36mreindex\u001b[1;34m(self, *args, **kwargs)\u001b[0m\n\u001b[0;32m   3854\u001b[0m         \u001b[0mkwargs\u001b[0m\u001b[1;33m.\u001b[0m\u001b[0mpop\u001b[0m\u001b[1;33m(\u001b[0m\u001b[1;34m\"axis\"\u001b[0m\u001b[1;33m,\u001b[0m \u001b[1;32mNone\u001b[0m\u001b[1;33m)\u001b[0m\u001b[1;33m\u001b[0m\u001b[1;33m\u001b[0m\u001b[0m\n\u001b[0;32m   3855\u001b[0m         \u001b[0mkwargs\u001b[0m\u001b[1;33m.\u001b[0m\u001b[0mpop\u001b[0m\u001b[1;33m(\u001b[0m\u001b[1;34m\"labels\"\u001b[0m\u001b[1;33m,\u001b[0m \u001b[1;32mNone\u001b[0m\u001b[1;33m)\u001b[0m\u001b[1;33m\u001b[0m\u001b[1;33m\u001b[0m\u001b[0m\n\u001b[1;32m-> 3856\u001b[1;33m         \u001b[1;32mreturn\u001b[0m \u001b[0mself\u001b[0m\u001b[1;33m.\u001b[0m\u001b[0m_ensure_type\u001b[0m\u001b[1;33m(\u001b[0m\u001b[0msuper\u001b[0m\u001b[1;33m(\u001b[0m\u001b[1;33m)\u001b[0m\u001b[1;33m.\u001b[0m\u001b[0mreindex\u001b[0m\u001b[1;33m(\u001b[0m\u001b[1;33m**\u001b[0m\u001b[0mkwargs\u001b[0m\u001b[1;33m)\u001b[0m\u001b[1;33m)\u001b[0m\u001b[1;33m\u001b[0m\u001b[1;33m\u001b[0m\u001b[0m\n\u001b[0m\u001b[0;32m   3857\u001b[0m \u001b[1;33m\u001b[0m\u001b[0m\n\u001b[0;32m   3858\u001b[0m     def drop(\n",
      "\u001b[1;32m~\\anaconda3\\lib\\site-packages\\pandas\\core\\generic.py\u001b[0m in \u001b[0;36mreindex\u001b[1;34m(self, *args, **kwargs)\u001b[0m\n\u001b[0;32m   4542\u001b[0m         \u001b[1;31m# perform the reindex on the axes\u001b[0m\u001b[1;33m\u001b[0m\u001b[1;33m\u001b[0m\u001b[1;33m\u001b[0m\u001b[0m\n\u001b[0;32m   4543\u001b[0m         return self._reindex_axes(\n\u001b[1;32m-> 4544\u001b[1;33m             \u001b[0maxes\u001b[0m\u001b[1;33m,\u001b[0m \u001b[0mlevel\u001b[0m\u001b[1;33m,\u001b[0m \u001b[0mlimit\u001b[0m\u001b[1;33m,\u001b[0m \u001b[0mtolerance\u001b[0m\u001b[1;33m,\u001b[0m \u001b[0mmethod\u001b[0m\u001b[1;33m,\u001b[0m \u001b[0mfill_value\u001b[0m\u001b[1;33m,\u001b[0m \u001b[0mcopy\u001b[0m\u001b[1;33m\u001b[0m\u001b[1;33m\u001b[0m\u001b[0m\n\u001b[0m\u001b[0;32m   4545\u001b[0m         ).__finalize__(self)\n\u001b[0;32m   4546\u001b[0m \u001b[1;33m\u001b[0m\u001b[0m\n",
      "\u001b[1;32m~\\anaconda3\\lib\\site-packages\\pandas\\core\\frame.py\u001b[0m in \u001b[0;36m_reindex_axes\u001b[1;34m(self, axes, level, limit, tolerance, method, fill_value, copy)\u001b[0m\n\u001b[0;32m   3736\u001b[0m         \u001b[1;32mif\u001b[0m \u001b[0mcolumns\u001b[0m \u001b[1;32mis\u001b[0m \u001b[1;32mnot\u001b[0m \u001b[1;32mNone\u001b[0m\u001b[1;33m:\u001b[0m\u001b[1;33m\u001b[0m\u001b[1;33m\u001b[0m\u001b[0m\n\u001b[0;32m   3737\u001b[0m             frame = frame._reindex_columns(\n\u001b[1;32m-> 3738\u001b[1;33m                 \u001b[0mcolumns\u001b[0m\u001b[1;33m,\u001b[0m \u001b[0mmethod\u001b[0m\u001b[1;33m,\u001b[0m \u001b[0mcopy\u001b[0m\u001b[1;33m,\u001b[0m \u001b[0mlevel\u001b[0m\u001b[1;33m,\u001b[0m \u001b[0mfill_value\u001b[0m\u001b[1;33m,\u001b[0m \u001b[0mlimit\u001b[0m\u001b[1;33m,\u001b[0m \u001b[0mtolerance\u001b[0m\u001b[1;33m\u001b[0m\u001b[1;33m\u001b[0m\u001b[0m\n\u001b[0m\u001b[0;32m   3739\u001b[0m             )\n\u001b[0;32m   3740\u001b[0m \u001b[1;33m\u001b[0m\u001b[0m\n",
      "\u001b[1;32m~\\anaconda3\\lib\\site-packages\\pandas\\core\\frame.py\u001b[0m in \u001b[0;36m_reindex_columns\u001b[1;34m(self, new_columns, method, copy, level, fill_value, limit, tolerance)\u001b[0m\n\u001b[0;32m   3778\u001b[0m     ):\n\u001b[0;32m   3779\u001b[0m         new_columns, indexer = self.columns.reindex(\n\u001b[1;32m-> 3780\u001b[1;33m             \u001b[0mnew_columns\u001b[0m\u001b[1;33m,\u001b[0m \u001b[0mmethod\u001b[0m\u001b[1;33m=\u001b[0m\u001b[0mmethod\u001b[0m\u001b[1;33m,\u001b[0m \u001b[0mlevel\u001b[0m\u001b[1;33m=\u001b[0m\u001b[0mlevel\u001b[0m\u001b[1;33m,\u001b[0m \u001b[0mlimit\u001b[0m\u001b[1;33m=\u001b[0m\u001b[0mlimit\u001b[0m\u001b[1;33m,\u001b[0m \u001b[0mtolerance\u001b[0m\u001b[1;33m=\u001b[0m\u001b[0mtolerance\u001b[0m\u001b[1;33m\u001b[0m\u001b[1;33m\u001b[0m\u001b[0m\n\u001b[0m\u001b[0;32m   3781\u001b[0m         )\n\u001b[0;32m   3782\u001b[0m         return self._reindex_with_indexers(\n",
      "\u001b[1;32m~\\anaconda3\\lib\\site-packages\\pandas\\core\\indexes\\multi.py\u001b[0m in \u001b[0;36mreindex\u001b[1;34m(self, target, method, level, limit, tolerance)\u001b[0m\n\u001b[0;32m   2423\u001b[0m             \u001b[1;32melse\u001b[0m\u001b[1;33m:\u001b[0m\u001b[1;33m\u001b[0m\u001b[1;33m\u001b[0m\u001b[0m\n\u001b[0;32m   2424\u001b[0m                 \u001b[1;31m# hopefully?\u001b[0m\u001b[1;33m\u001b[0m\u001b[1;33m\u001b[0m\u001b[1;33m\u001b[0m\u001b[0m\n\u001b[1;32m-> 2425\u001b[1;33m                 \u001b[0mtarget\u001b[0m \u001b[1;33m=\u001b[0m \u001b[0mMultiIndex\u001b[0m\u001b[1;33m.\u001b[0m\u001b[0mfrom_tuples\u001b[0m\u001b[1;33m(\u001b[0m\u001b[0mtarget\u001b[0m\u001b[1;33m)\u001b[0m\u001b[1;33m\u001b[0m\u001b[1;33m\u001b[0m\u001b[0m\n\u001b[0m\u001b[0;32m   2426\u001b[0m \u001b[1;33m\u001b[0m\u001b[0m\n\u001b[0;32m   2427\u001b[0m         if (\n",
      "\u001b[1;32m~\\anaconda3\\lib\\site-packages\\pandas\\core\\indexes\\multi.py\u001b[0m in \u001b[0;36mfrom_tuples\u001b[1;34m(cls, tuples, sortorder, names)\u001b[0m\n\u001b[0;32m    487\u001b[0m                 \u001b[0mtuples\u001b[0m \u001b[1;33m=\u001b[0m \u001b[0mtuples\u001b[0m\u001b[1;33m.\u001b[0m\u001b[0m_values\u001b[0m\u001b[1;33m\u001b[0m\u001b[1;33m\u001b[0m\u001b[0m\n\u001b[0;32m    488\u001b[0m \u001b[1;33m\u001b[0m\u001b[0m\n\u001b[1;32m--> 489\u001b[1;33m             \u001b[0marrays\u001b[0m \u001b[1;33m=\u001b[0m \u001b[0mlist\u001b[0m\u001b[1;33m(\u001b[0m\u001b[0mlib\u001b[0m\u001b[1;33m.\u001b[0m\u001b[0mtuples_to_object_array\u001b[0m\u001b[1;33m(\u001b[0m\u001b[0mtuples\u001b[0m\u001b[1;33m)\u001b[0m\u001b[1;33m.\u001b[0m\u001b[0mT\u001b[0m\u001b[1;33m)\u001b[0m\u001b[1;33m\u001b[0m\u001b[1;33m\u001b[0m\u001b[0m\n\u001b[0m\u001b[0;32m    490\u001b[0m         \u001b[1;32melif\u001b[0m \u001b[0misinstance\u001b[0m\u001b[1;33m(\u001b[0m\u001b[0mtuples\u001b[0m\u001b[1;33m,\u001b[0m \u001b[0mlist\u001b[0m\u001b[1;33m)\u001b[0m\u001b[1;33m:\u001b[0m\u001b[1;33m\u001b[0m\u001b[1;33m\u001b[0m\u001b[0m\n\u001b[0;32m    491\u001b[0m             \u001b[0marrays\u001b[0m \u001b[1;33m=\u001b[0m \u001b[0mlist\u001b[0m\u001b[1;33m(\u001b[0m\u001b[0mlib\u001b[0m\u001b[1;33m.\u001b[0m\u001b[0mto_object_array_tuples\u001b[0m\u001b[1;33m(\u001b[0m\u001b[0mtuples\u001b[0m\u001b[1;33m)\u001b[0m\u001b[1;33m.\u001b[0m\u001b[0mT\u001b[0m\u001b[1;33m)\u001b[0m\u001b[1;33m\u001b[0m\u001b[1;33m\u001b[0m\u001b[0m\n",
      "\u001b[1;32mpandas\\_libs\\lib.pyx\u001b[0m in \u001b[0;36mpandas._libs.lib.tuples_to_object_array\u001b[1;34m()\u001b[0m\n",
      "\u001b[1;31mTypeError\u001b[0m: Expected tuple, got str"
     ]
    }
   ],
   "source": [
    "names = ['numeric', 'categorical', 'resto']\n",
    "# Se crea una lista con las columnas numericas\n",
    "numeric = ['price', 'surface', 'metro_cuadrado', 'precio_m2',\n",
    "           'UPlArea', 'personas', 'trabajoinf_ninos_5_17_anos_perc',\n",
    "           'trabajoinfampliado_ninos_5_17_anos_perc',\n",
    "           'jovenes_14_24_anos_nini_perc', 'indice_envegecimiento',\n",
    "           'jefe_mujer_perc', 'adultos_mayores_pobres_perc', 'indice_inseguridad',\n",
    "           'areas_verdes_perc', 'dens_upz'\n",
    "           ]\n",
    "\n",
    "# datos no categoricos ni numerico\n",
    "resto = ['details','zona', 'location','url']\n",
    "\n",
    "# Se crea una lista con las columnas categoricas\n",
    "categorical = list(set(df.columns) - set(numeric) - set(resto))\n",
    "\n",
    "\n",
    "mapping = [('numeric', col) for col in numeric]\n",
    "mapping.extend([('categorical', col) for col in categorical])\n",
    "'''\n",
    "Se reordenan las columnas del dataframe para que coincidan con el esquema \n",
    "del multi indice\n",
    "'''\n",
    "\n",
    "df = df.reindex(columns=numeric + categorical)"
   ]
  },
  {
   "cell_type": "code",
   "execution_count": null,
   "metadata": {
    "ExecuteTime": {
     "end_time": "2020-05-20T09:50:21.053471Z",
     "start_time": "2020-05-20T09:50:20.831Z"
    }
   },
   "outputs": [],
   "source": [
    "# Se reasignan las columnas\n",
    "df.columns = pd.MultiIndex.from_tuples(mapping)"
   ]
  },
  {
   "cell_type": "code",
   "execution_count": null,
   "metadata": {
    "ExecuteTime": {
     "end_time": "2020-05-20T09:50:21.056463Z",
     "start_time": "2020-05-20T09:50:20.841Z"
    }
   },
   "outputs": [],
   "source": [
    "df = df[df[('numeric','precio_m2')] <= 10**5]\n",
    "df"
   ]
  },
  {
   "cell_type": "code",
   "execution_count": null,
   "metadata": {
    "ExecuteTime": {
     "end_time": "2020-05-20T09:50:21.058458Z",
     "start_time": "2020-05-20T09:50:20.846Z"
    }
   },
   "outputs": [],
   "source": [
    "# Grilla de subplots\n",
    "fig, ax = plt.subplots(nrows=4, ncols=4, figsize=[17, 17])\n",
    "estilo()\n",
    "\n",
    "# Se remueven el ultimo plot\n",
    "list(map(lambda a: a.remove(), ax[-1, -1:]))\n",
    "\n",
    "# Se ajusta el espaciado exterior de la figura\n",
    "fig.tight_layout()\n",
    "\n",
    "# Se define un titulo y su ubicacion\n",
    "fig.suptitle('Distribuciones Univariadas Numéricas',\n",
    "             fontsize=20,\n",
    "             x=0.5,\n",
    "             y=1.05)\n",
    "'''\n",
    "Se recorre cada axis, para cada columna del dataframe, se genera un grafico \n",
    "distinto en funcion del tipo de dato.\n",
    "\n",
    "'''\n",
    "for axis, col in zip(ax.flatten(), numeric):\n",
    "    # print(col)\n",
    "    try:\n",
    "        # Graficos para datos numericos\n",
    "        sns.distplot(df[('numeric', col)].dropna(), ax=axis, rug=True)\n",
    "\n",
    "    except RuntimeError:\n",
    "        sns.distplot(df[('numeric', col)].dropna(),\n",
    "                     ax=axis, rug=True, kde=False)\n",
    "\n",
    "    axis.set_xlabel(col, fontsize=15)\n",
    "\n",
    "# Se ajusta el espaciado interno entre subplots\n",
    "w, h = (.5, 0.5)\n",
    "plt.subplots_adjust(wspace=w, hspace=h)\n",
    "plt.show()"
   ]
  },
  {
   "cell_type": "code",
   "execution_count": null,
   "metadata": {
    "ExecuteTime": {
     "end_time": "2020-05-20T09:50:21.060452Z",
     "start_time": "2020-05-20T09:50:20.852Z"
    }
   },
   "outputs": [],
   "source": [
    "# Datos faltantes\n",
    "import missingno as msno\n",
    "df.replace('nan', np.nan, inplace=True)\n",
    "print('Valores nan')\n",
    "print(df.isnull().sum())\n",
    "print('Mayor info perdida')\n",
    "print(df.isnull().sum().nlargest(10))"
   ]
  },
  {
   "cell_type": "code",
   "execution_count": null,
   "metadata": {
    "ExecuteTime": {
     "end_time": "2020-05-20T09:50:21.063444Z",
     "start_time": "2020-05-20T09:50:20.856Z"
    }
   },
   "outputs": [],
   "source": [
    "fig, ax = plt.subplots(figsize=[15, 10])\n",
    "msno.matrix(df, ax=ax, sparkline=False)"
   ]
  },
  {
   "cell_type": "code",
   "execution_count": null,
   "metadata": {
    "ExecuteTime": {
     "end_time": "2020-05-20T09:50:21.065439Z",
     "start_time": "2020-05-20T09:50:20.861Z"
    }
   },
   "outputs": [],
   "source": [
    "# Correlaciones de nulidad entre pares de variables\n",
    "fig, ax = plt.subplots(figsize=[15, 10])\n",
    "msno.heatmap(df, ax=ax)"
   ]
  },
  {
   "cell_type": "code",
   "execution_count": null,
   "metadata": {
    "ExecuteTime": {
     "end_time": "2020-05-20T09:50:21.067434Z",
     "start_time": "2020-05-20T09:50:20.865Z"
    }
   },
   "outputs": [],
   "source": [
    "largest_nulls = df.isnull().sum().nlargest(20)"
   ]
  },
  {
   "cell_type": "code",
   "execution_count": null,
   "metadata": {
    "ExecuteTime": {
     "end_time": "2020-05-20T09:50:21.069429Z",
     "start_time": "2020-05-20T09:50:20.869Z"
    }
   },
   "outputs": [],
   "source": [
    "nulls = df[largest_nulls.index]"
   ]
  },
  {
   "cell_type": "code",
   "execution_count": null,
   "metadata": {
    "ExecuteTime": {
     "end_time": "2020-05-20T09:50:21.071424Z",
     "start_time": "2020-05-20T09:50:20.877Z"
    }
   },
   "outputs": [],
   "source": [
    "nulls"
   ]
  },
  {
   "cell_type": "code",
   "execution_count": null,
   "metadata": {
    "ExecuteTime": {
     "end_time": "2020-05-20T09:50:21.074414Z",
     "start_time": "2020-05-20T09:50:20.883Z"
    }
   },
   "outputs": [],
   "source": [
    "msno.dendrogram(nulls)"
   ]
  },
  {
   "cell_type": "code",
   "execution_count": null,
   "metadata": {
    "ExecuteTime": {
     "end_time": "2020-05-20T09:50:21.076409Z",
     "start_time": "2020-05-20T09:50:20.887Z"
    },
    "scrolled": true
   },
   "outputs": [],
   "source": [
    "# dropear no mas\n",
    "df1 = df.copy()\n",
    "df1.dropna(inplace=True)"
   ]
  },
  {
   "cell_type": "code",
   "execution_count": null,
   "metadata": {
    "ExecuteTime": {
     "end_time": "2020-05-20T09:50:21.080399Z",
     "start_time": "2020-05-20T09:50:20.895Z"
    },
    "scrolled": true
   },
   "outputs": [],
   "source": [
    "# dropear precio cero\n",
    "# df1.drop(df1.loc[df1.numeric.precio_m2==0].index)"
   ]
  },
  {
   "cell_type": "code",
   "execution_count": null,
   "metadata": {
    "ExecuteTime": {
     "end_time": "2020-05-20T09:50:21.082393Z",
     "start_time": "2020-05-20T09:50:20.903Z"
    },
    "scrolled": true
   },
   "outputs": [],
   "source": [
    "# Eliminar filas con datos faltantes\n",
    "df1 = df.copy()\n",
    "#df1.dropna(inplace=True)\n",
    "df1"
   ]
  },
  {
   "cell_type": "code",
   "execution_count": null,
   "metadata": {
    "ExecuteTime": {
     "end_time": "2020-05-20T09:50:21.085386Z",
     "start_time": "2020-05-20T09:50:20.910Z"
    },
    "scrolled": false
   },
   "outputs": [],
   "source": [
    "from sklearn.decomposition import PCA\n",
    "from sklearn.cluster import KMeans\n",
    "from sklearn.preprocessing import StandardScaler\n",
    "\n",
    "scaler = StandardScaler()\n",
    "df_1 = scaler.fit_transform(\n",
    "    df1['numeric'].drop(columns=['price', 'precio_m2']))\n",
    "\n",
    "\n",
    "n_com = 7\n",
    "pca = PCA(n_components=n_com)\n",
    "pecea = pca.fit_transform(df_1)\n",
    "per_var = np.round(pca.explained_variance_ratio_ * 100, decimals=1)\n",
    "labels = ['PC' + str(x) for x in range(1, len(per_var)+1)]\n",
    "cum_var_exp = np.cumsum(per_var)\n",
    "plt.rcParams[\"figure.figsize\"] = [8.0, 6.0]\n",
    "# the following code makes a fancy looking plot using PC1 and PC2\n",
    "plt.bar(x=range(1, len(per_var)+1), height=per_var,\n",
    "        label='Varianza explicada por componente')\n",
    "plt.step(np.arange(n_com)+1, cum_var_exp, where='mid',\n",
    "         linestyle='--', label='Varianza explicada acumulada')\n",
    "plt.ylabel('Porcentaje de varianza explicada', fontsize=14)\n",
    "plt.xlabel('Componentes principales', fontsize=15)\n",
    "plt.legend(loc='best')\n",
    "plt.show()\n",
    "\n",
    "\n",
    "n_clu = 3\n",
    "kmeans = KMeans(n_clusters=n_clu).fit_predict(pecea)\n",
    "\n",
    "\n",
    "fig, axes = plt.subplots(n_com, n_com, figsize=(15, 15))\n",
    "fig.suptitle('')\n",
    "\n",
    "for i in range(n_com):\n",
    "    for j in range(n_com):\n",
    "        axes[i, j].scatter(pecea[:, i], pecea[:, j], c=kmeans)\n",
    "        axes[i, j].set_xticks([])\n",
    "        axes[i, j].set_yticks([])\n",
    "        estilo()\n",
    "        if i == 0:\n",
    "            axes[i, j].set_title('Componente '+str(j+1))\n",
    "        if j == 0:\n",
    "            axes[i, j].set(ylabel='Componente '+str(i+1))\n",
    "\n",
    "plt.show()"
   ]
  },
  {
   "cell_type": "code",
   "execution_count": null,
   "metadata": {
    "ExecuteTime": {
     "end_time": "2020-05-20T09:50:21.087380Z",
     "start_time": "2020-05-20T09:50:20.915Z"
    }
   },
   "outputs": [],
   "source": [
    "# Evaluar como se distribuyen los upz's en esos clusters\n",
    "# cuantos hay\n",
    "print('hay ', len(df1.categorical.upz.unique()), ' diferentes upz')\n",
    "# agregar cluster\n",
    "# df1.loc['categorical','upz_cluster']=kmeans\n",
    "print(df1.shape)\n",
    "print(kmeans.shape)\n",
    "\n",
    "df1[('categorical', 'upz_cluster')] = kmeans"
   ]
  },
  {
   "cell_type": "code",
   "execution_count": null,
   "metadata": {
    "ExecuteTime": {
     "end_time": "2020-05-20T09:50:21.088377Z",
     "start_time": "2020-05-20T09:50:20.922Z"
    }
   },
   "outputs": [],
   "source": [
    "upz_assignment = {upz: 0 for upz in df1.categorical.upz.unique()}\n",
    "for upz in df1.categorical.upz.unique():\n",
    "    cluster_aparition = []\n",
    "    for k in np.arange(n_clu):\n",
    "        s = sum((df1.categorical.upz == upz) & (\n",
    "            df1.categorical.upz_cluster == k))\n",
    "        cluster_aparition.append(s)\n",
    "    upz_assignment[upz] = cluster_aparition.index(max(cluster_aparition))\n",
    "\n",
    "column = []\n",
    "for upz in df1.categorical.upz:\n",
    "    column.append(upz_assignment[upz])\n",
    "df1[('categorical', 'upz_group')] = column"
   ]
  },
  {
   "cell_type": "code",
   "execution_count": null,
   "metadata": {
    "ExecuteTime": {
     "end_time": "2020-05-20T09:50:21.091370Z",
     "start_time": "2020-05-20T09:50:20.930Z"
    },
    "scrolled": true
   },
   "outputs": [],
   "source": [
    "def violin_and_frec_plot(categorical_variable, title1, title2):\n",
    "    fontdict = {'fontsize': 20}\n",
    "    fig, ax = plt.subplots(2, 1, figsize=[12, 13])\n",
    "    sns.violinplot(('categorical', categorical_variable),\n",
    "                   y=('numeric', 'precio_m2'),\n",
    "                   data=df1,\n",
    "                   kind='violin',\n",
    "                   ax=ax[0])\n",
    "    sns.countplot(df1[('categorical', categorical_variable)], ax=ax[1])\n",
    "    ax[0].set_xlabel('Cluster upz', fontdict)\n",
    "    ax[1].set_xlabel('Cluster upz', fontdict)\n",
    "    # ax[0].set_ylim(0,1000000)\n",
    "    ax[0].set_ylabel(r'Precio x $m^2$', fontdict)\n",
    "    ax[0].set_title(title1, fontdict)\n",
    "    ax[1].set_title(title2, fontdict)\n",
    "    h, w = (.3, .1)\n",
    "    plt.subplots_adjust(wspace=w, hspace=h)\n",
    "\n",
    "\n",
    "violin_and_frec_plot(\n",
    "    'upz_group', 'Violin plot upz en cluster vs Precio x $m^2$', 'Frecuencias cluster upz')"
   ]
  },
  {
   "cell_type": "code",
   "execution_count": null,
   "metadata": {
    "ExecuteTime": {
     "end_time": "2020-05-20T09:50:21.092367Z",
     "start_time": "2020-05-20T09:50:20.936Z"
    }
   },
   "outputs": [],
   "source": [
    "violin_and_frec_plot('n_bath', 'n_bath', 'n_bath')\n",
    "violin_and_frec_plot('n_rooms', 'n_rooms', 'n_rooms')\n",
    "violin_and_frec_plot('n_garajes', 'n_garajes', 'n_garajes')"
   ]
  },
  {
   "cell_type": "code",
   "execution_count": null,
   "metadata": {
    "ExecuteTime": {
     "end_time": "2020-05-20T09:50:21.094361Z",
     "start_time": "2020-05-20T09:50:20.941Z"
    },
    "scrolled": true
   },
   "outputs": [],
   "source": [
    "violin_and_frec_plot('tipo', 'tipo', 'tipo')\n",
    "violin_and_frec_plot('_merge', 'merge', 'merge')\n",
    "violin_and_frec_plot('property_type', 'inmueble', 'inmueble')\n",
    "violin_and_frec_plot('zona', 'zona', 'zona')"
   ]
  },
  {
   "cell_type": "code",
   "execution_count": null,
   "metadata": {
    "ExecuteTime": {
     "end_time": "2020-05-20T09:50:21.100345Z",
     "start_time": "2020-05-20T09:50:20.954Z"
    }
   },
   "outputs": [],
   "source": [
    "def scatter_dists(col, df=df1, h=.3, w=.1, fontdict={'fontsize': 20}, reg=True):\n",
    "    ''' Recibe una columna numerica y genera una visualizacion comparativa.\n",
    "\n",
    "    Genera una figura por sobre el dataframe HousePricing (por defecto), recibe \n",
    "    parametros extra como el espaciado entre subfigura.\n",
    "\n",
    "    Args:\n",
    "    ----------\n",
    "\n",
    "    col: String\n",
    "         El nombre de la columna numerica a visualizar\n",
    "\n",
    "    h,w: float\n",
    "        Espaciado entre subplot h -> vertical, w -> horizontal\n",
    "\n",
    "    fontdict: dict\n",
    "             Permite configurar las fuentes de los subplots\n",
    "    reg: bool\n",
    "         Permite graficar una regresion lineal sobre los datos (if True)\n",
    "\n",
    "    Returns: None\n",
    "        Se muestra una figura en pantalla    \n",
    "\n",
    "    '''\n",
    "    fig, ax = plt.subplots(2, 1, figsize=[12, 13])\n",
    "    if reg:\n",
    "        sns.regplot(x=df[('numeric', col)],\n",
    "                    y=df[('numeric', 'precio_m2')],\n",
    "                    ax=ax[0])\n",
    "        ax[0].set_title(\n",
    "            r'Regplot plot {} vs Precio por m^2'.format(col), fontdict)\n",
    "    else:\n",
    "        sns.scatterplot(('numeric', col),\n",
    "                        y=('numeric', 'precio_m2'),\n",
    "                        data=df,\n",
    "                        ax=ax[0])\n",
    "        ax[0].set_title(\n",
    "            r'Scatter plot {} vs Precio por m^2'.format(col), fontdict)\n",
    "\n",
    "    # Distribucion univariada\n",
    "    sns.distplot(df[('numeric', col)], ax=ax[1])\n",
    "    ax[0].set_ylim(0, 100000)\n",
    "    ax[0].set_xlabel(col, fontdict)\n",
    "    ax[1].set_xlabel(col, fontdict)\n",
    "\n",
    "    ax[0].set_ylabel('Precio por m^2', fontdict)\n",
    "    ax[1].set_title('Frecuencias {}'.format(col), fontdict)\n",
    "\n",
    "    plt.subplots_adjust(wspace=w, hspace=h)"
   ]
  },
  {
   "cell_type": "code",
   "execution_count": null,
   "metadata": {
    "ExecuteTime": {
     "end_time": "2020-05-20T09:50:21.102340Z",
     "start_time": "2020-05-20T09:50:20.958Z"
    }
   },
   "outputs": [],
   "source": [
    "# scatter_dists('n_rooms')\n",
    "# scatter_dists('n_bath')\n",
    "scatter_dists('surface')\n",
    "scatter_dists('metro_cuadrado')\n",
    "# scatter_dists('n_garajes')\n",
    "scatter_dists('personas')\n",
    "scatter_dists('trabajoinf_ninos_5_17_anos_perc')\n",
    "scatter_dists('trabajoinfampliado_ninos_5_17_anos_perc')"
   ]
  },
  {
   "cell_type": "code",
   "execution_count": null,
   "metadata": {
    "ExecuteTime": {
     "end_time": "2020-05-20T09:50:21.104335Z",
     "start_time": "2020-05-20T09:50:20.964Z"
    },
    "scrolled": false
   },
   "outputs": [],
   "source": [
    "df1"
   ]
  },
  {
   "cell_type": "code",
   "execution_count": null,
   "metadata": {
    "ExecuteTime": {
     "end_time": "2020-05-20T09:50:21.106330Z",
     "start_time": "2020-05-20T09:50:20.969Z"
    }
   },
   "outputs": [],
   "source": [
    "df1[('categorical', 'upz_group')].unique()"
   ]
  },
  {
   "cell_type": "code",
   "execution_count": null,
   "metadata": {
    "ExecuteTime": {
     "end_time": "2020-05-20T09:50:21.108324Z",
     "start_time": "2020-05-20T09:50:20.974Z"
    },
    "scrolled": true
   },
   "outputs": [],
   "source": [
    "# Perfilamiento Bivariado\n",
    "# Se genera una función auxiliar\n",
    "\n",
    "\n",
    "def indexer(cols, t_c=df1.columns):\n",
    "    '''Genera columnas multinivel a partir de nombres de columna planos.'''\n",
    "\n",
    "    set_to_tuple = set(*[cols])\n",
    "\n",
    "    tuples = [\n",
    "        i for i in t_c if set_to_tuple.intersection(set(i))\n",
    "    ]\n",
    "    return tuples\n",
    "\n",
    "\n",
    "def perfil_bivariado(interest):\n",
    "    # Variables a examinar\n",
    "    idxs = indexer(interest)\n",
    "    df1[idxs].head()\n",
    "    # Pone precio_m2 al final de la lista\n",
    "    idxs.sort()\n",
    "    idxs.remove(('numeric', 'precio_m2'))\n",
    "    idxs.append(('numeric', 'precio_m2'))\n",
    "    # para que Seaborn entienda\n",
    "    data = df1.reindex(idxs, axis=1).droplevel(0, axis=1)\n",
    "    # quitar 100 datos con precio mas grande para poder visualizar mejor\n",
    "    data.drop(data.precio_m2.nlargest(100).index)\n",
    "\n",
    "    sns.pairplot(data=data, diag_kind='kde')"
   ]
  },
  {
   "cell_type": "code",
   "execution_count": null,
   "metadata": {
    "ExecuteTime": {
     "end_time": "2020-05-20T09:50:21.110319Z",
     "start_time": "2020-05-20T09:50:20.978Z"
    }
   },
   "outputs": [],
   "source": [
    "#interest1=['precio_m2', 'n_rooms', 'n_bath', 'surface', 'n_garajes','property_type', 'upz_group','tipo','metro_cuadrado']\n",
    "interest1 = ['precio_m2', 'n_rooms', 'n_bath', 'surface',\n",
    "             'n_garajes', 'property_type', 'tipo', 'metro_cuadrado']\n",
    "perfil_bivariado(interest1)"
   ]
  },
  {
   "cell_type": "code",
   "execution_count": null,
   "metadata": {
    "ExecuteTime": {
     "end_time": "2020-05-20T09:50:21.112315Z",
     "start_time": "2020-05-20T09:50:20.984Z"
    },
    "scrolled": true
   },
   "outputs": [],
   "source": [
    "interest2 = ['precio_m2', 'jefe_mujer_perc',\n",
    "             'indice_envegecimiento', 'adultos_mayores_pobres_perc', 'tipo']\n",
    "perfil_bivariado(interest2)"
   ]
  },
  {
   "cell_type": "code",
   "execution_count": null,
   "metadata": {
    "ExecuteTime": {
     "end_time": "2020-05-20T09:50:21.114309Z",
     "start_time": "2020-05-20T09:50:20.991Z"
    }
   },
   "outputs": [],
   "source": [
    "# matriz de correlaciones\n",
    "corr_matrix = df1.corr()\n",
    "col = indexer(['precio_m2'])\n",
    "print('10 variables más correlacionadas')\n",
    "print(corr_matrix[col].nlargest(10, col))\n",
    "print('3 variables menos correlacionadas')\n",
    "print(corr_matrix[col].nsmallest(3, col))\n",
    "\n",
    "\n",
    "# Visualizar\n",
    "\n",
    "'''\n",
    "Se inserta 'precio_m2' como primera fila x columna de la matriz de correlacion\n",
    "'''\n",
    "\n",
    "unsorted = list(corr_matrix.columns)\n",
    "unsorted.remove(*col)\n",
    "unsorted.insert(0, *col)\n",
    "\n",
    "sortd = pd.MultiIndex.from_tuples(unsorted)\n",
    "corrmat = corr_matrix.reindex(index=sortd, columns=sortd)\n",
    "'''\n",
    "Dado lo anterior, se ajusta el anchor de colores con maximo en .9\n",
    "y -0.5, para tener una perspectiva entorno a los valores maximos \n",
    "de correlacion (negativa y positiva)\n",
    "'''\n",
    "\n",
    "fig, ax = plt.subplots(figsize=[16, 14])\n",
    "\n",
    "sns.heatmap(corrmat, vmin=-.5, vmax=.9, linewidths=.01)"
   ]
  },
  {
   "cell_type": "code",
   "execution_count": null,
   "metadata": {
    "ExecuteTime": {
     "end_time": "2020-05-20T09:50:21.116303Z",
     "start_time": "2020-05-20T09:50:20.994Z"
    }
   },
   "outputs": [],
   "source": [
    "# analisis categórico versus categóricos\n",
    "\n",
    "data_cat = df1['categorical']\n",
    "\n",
    "\n",
    "def categorical_compa(cat1, cat2):\n",
    "    to_compare = [cat1, cat2]\n",
    "    kwargs = {'index': data_cat[to_compare[0]],\n",
    "              'columns': data_cat[to_compare[1]]}\n",
    "    tabla = pd.crosstab(**kwargs, margins=True, margins_name='Total')\n",
    "    return tabla"
   ]
  },
  {
   "cell_type": "code",
   "execution_count": null,
   "metadata": {
    "ExecuteTime": {
     "end_time": "2020-05-20T09:50:21.119295Z",
     "start_time": "2020-05-20T09:50:20.999Z"
    }
   },
   "outputs": [],
   "source": [
    "categorical_compa('rent_type', 'property_type')"
   ]
  },
  {
   "cell_type": "code",
   "execution_count": null,
   "metadata": {
    "ExecuteTime": {
     "end_time": "2020-05-20T09:50:21.120292Z",
     "start_time": "2020-05-20T09:50:21.008Z"
    }
   },
   "outputs": [],
   "source": [
    "categorical_compa('rent_type', 'tipo')"
   ]
  },
  {
   "cell_type": "code",
   "execution_count": null,
   "metadata": {
    "ExecuteTime": {
     "end_time": "2020-05-20T09:50:21.122287Z",
     "start_time": "2020-05-20T09:50:21.019Z"
    }
   },
   "outputs": [],
   "source": [
    "categorical_compa('tipo', 'zona')"
   ]
  },
  {
   "cell_type": "code",
   "execution_count": null,
   "metadata": {
    "ExecuteTime": {
     "end_time": "2020-05-20T09:50:21.124281Z",
     "start_time": "2020-05-20T09:50:21.024Z"
    }
   },
   "outputs": [],
   "source": [
    "categorical_compa('upz_group', 'tipo')"
   ]
  },
  {
   "cell_type": "code",
   "execution_count": null,
   "metadata": {
    "ExecuteTime": {
     "end_time": "2020-05-20T09:50:21.126276Z",
     "start_time": "2020-05-20T09:50:21.029Z"
    }
   },
   "outputs": [],
   "source": [
    "# comparar con test xi^2\n",
    "from scipy.stats import chi2_contingency\n",
    "\n",
    "\n",
    "def test_xi(cat1, cat2):\n",
    "    to_compare = [cat1, cat2]\n",
    "    kwargs = {'index': data_cat[to_compare[0]],\n",
    "              'columns': data_cat[to_compare[1]]}\n",
    "    tabla = pd.crosstab(**kwargs, margins=False)\n",
    "    chi2, p, dof, ex = chi2_contingency(tabla)\n",
    "    expected_freq = pd.DataFrame(ex, index=df1.categorical[cat1].unique())\n",
    "    expected_freq.index.name = cat1\n",
    "    expected_freq.columns.name = cat2\n",
    "    return p, expected_freq\n",
    "\n",
    "\n",
    "p, table = test_xi('upz_group', 'tipo')\n",
    "print(p)\n",
    "table"
   ]
  },
  {
   "cell_type": "code",
   "execution_count": null,
   "metadata": {
    "ExecuteTime": {
     "end_time": "2020-05-20T09:50:21.128271Z",
     "start_time": "2020-05-20T09:50:21.035Z"
    }
   },
   "outputs": [],
   "source": [
    "p, table = test_xi('rent_type', 'tipo')\n",
    "print(p)\n",
    "table"
   ]
  },
  {
   "cell_type": "markdown",
   "metadata": {},
   "source": [
    "# P3"
   ]
  },
  {
   "cell_type": "markdown",
   "metadata": {},
   "source": [
    "### Implementación. 1"
   ]
  },
  {
   "cell_type": "code",
   "execution_count": 521,
   "metadata": {
    "ExecuteTime": {
     "end_time": "2020-05-20T09:50:21.853333Z",
     "start_time": "2020-05-20T09:50:21.816433Z"
    }
   },
   "outputs": [],
   "source": [
    "from sklearn.base import BaseEstimator, RegressorMixin\n",
    "from numpy import matmul\n",
    "from numpy.linalg import pinv, eig\n",
    "import sys\n",
    "import time\n",
    "import numpy as np\n",
    "\n",
    "\n",
    "class RegresionBayesianaEmpirica(BaseEstimator, RegressorMixin):\n",
    "    def __init__(self, alpha_0, beta_0, tol=1e-5, maxiter=200):\n",
    "        self.maxiter = maxiter\n",
    "        self.tol = tol\n",
    "        self.alpha_0 = alpha_0\n",
    "        self.beta_0 = beta_0\n",
    "        self.alpha = alpha_0\n",
    "        self.beta = beta_0\n",
    "        self.M_n = None\n",
    "        self.S_n = None\n",
    "\n",
    "    def get_posteriori(self, X, y, alpha, beta):\n",
    "\n",
    "        S_n = alpha + beta*matmul(X.T, X)\n",
    "        M_n = beta * matmul(matmul(pinv(S_n), X.T), y)\n",
    "        return M_n, S_n\n",
    "\n",
    "    def fit(self, X, y):\n",
    "        X = np.hstack((np.ones((1, X.shape[0])).T, X))\n",
    "        N = len(y)\n",
    "        for i in range(self.maxiter):\n",
    "            t0 = time.time()\n",
    "            eigen_values, _ = eig(self.beta * matmul(X.T, X))\n",
    "            eigen_values = np.real_if_close(eigen_values)\n",
    "            gamma = (eigen_values/(self.alpha + eigen_values)).sum()\n",
    "            M_n, S_n = self.get_posteriori(X, y, self.alpha, self.beta)\n",
    "            new_alpha = gamma/(matmul(M_n.T, M_n))\n",
    "            new_beta = (N-gamma)/((y - matmul(M_n.T, X.T))\n",
    "                                  ** 2).sum()  # Revisar X.T\n",
    "\n",
    "            alpha_delta = np.abs(self.alpha - new_alpha)\n",
    "            beta_delta = np.abs(self.beta - new_beta)\n",
    "\n",
    "            sys.stdout.write(\n",
    "                '\\rIter:{0:03d}'.format(\n",
    "                    i+1) + ' Alpha :{0:.5f}'.format(new_alpha)\n",
    "                + ' Beta :{0:.5f}'.format(new_beta)\n",
    "                + ' Tiempo/iter:{0:.5f}s'.format(time.time() - t0))\n",
    "\n",
    "            if (alpha_delta > self.tol or beta_delta > self.tol):\n",
    "                self.alpha = new_alpha\n",
    "                self.beta = new_beta\n",
    "            else:\n",
    "                self.M_n = M_n\n",
    "                self.S_n = S_n\n",
    "                break\n",
    "        self.M_n = M_n\n",
    "        self.S_n = S_n\n",
    "\n",
    "    # Predicción utilizando la media posterior predictiva\n",
    "    def predict(self, X_, return_std=False):\n",
    "        X_ = np.hstack((np.ones((1, X_.shape[0])).T, X_))\n",
    "        mu = matmul(self.M_n.T, X_.T)\n",
    "        if return_std:\n",
    "            std = np.sqrt(self.beta**-1 + matmul(matmul(X_.T, self.S_n), X_))\n",
    "            return mu, std\n",
    "        else:\n",
    "            return mu"
   ]
  },
  {
   "cell_type": "code",
   "execution_count": 522,
   "metadata": {
    "ExecuteTime": {
     "end_time": "2020-05-20T09:50:21.985980Z",
     "start_time": "2020-05-20T09:50:21.856325Z"
    }
   },
   "outputs": [],
   "source": [
    "numeric = [tupla[1] for tupla in df1.columns\n",
    "           if tupla[0] == 'numeric' and\n",
    "           tupla[1] != 'precio_m2']  # and\n",
    "# tupla[1]!= 'price' ]\n",
    "categorical = [tupla[1] for tupla in df1.columns\n",
    "               if tupla[0] == 'categorical'\n",
    "               and tupla[1] != '_merge'\n",
    "               and tupla[1] != 'url'\n",
    "               and tupla[1] != 'location'\n",
    "               and tupla[1] != 'details'\n",
    "               and tupla[1] != 'upz_cluster']"
   ]
  },
  {
   "cell_type": "code",
   "execution_count": 523,
   "metadata": {
    "ExecuteTime": {
     "end_time": "2020-05-20T09:50:22.103260Z",
     "start_time": "2020-05-20T09:50:21.989968Z"
    }
   },
   "outputs": [
    {
     "data": {
      "text/plain": [
       "['price',\n",
       " 'surface',\n",
       " 'metro_cuadrado',\n",
       " 'UPlArea',\n",
       " 'personas',\n",
       " 'trabajoinf_ninos_5_17_anos_perc',\n",
       " 'trabajoinfampliado_ninos_5_17_anos_perc',\n",
       " 'jovenes_14_24_anos_nini_perc',\n",
       " 'indice_envegecimiento',\n",
       " 'jefe_mujer_perc',\n",
       " 'adultos_mayores_pobres_perc',\n",
       " 'indice_inseguridad',\n",
       " 'areas_verdes_perc',\n",
       " 'dens_upz']"
      ]
     },
     "execution_count": 523,
     "metadata": {},
     "output_type": "execute_result"
    }
   ],
   "source": [
    "numeric"
   ]
  },
  {
   "cell_type": "code",
   "execution_count": 524,
   "metadata": {
    "ExecuteTime": {
     "end_time": "2020-05-20T09:50:22.202994Z",
     "start_time": "2020-05-20T09:50:22.105256Z"
    }
   },
   "outputs": [
    {
     "data": {
      "text/plain": [
       "['n_bath', 'upz', 'n_rooms', 'tipo', 'rent_type', 'n_garajes', 'property_type']"
      ]
     },
     "execution_count": 524,
     "metadata": {},
     "output_type": "execute_result"
    }
   ],
   "source": [
    "categorical"
   ]
  },
  {
   "cell_type": "code",
   "execution_count": 525,
   "metadata": {
    "ExecuteTime": {
     "end_time": "2020-05-20T09:50:22.295747Z",
     "start_time": "2020-05-20T09:50:22.205986Z"
    }
   },
   "outputs": [],
   "source": [
    "X = df1.reindex(df1.columns, axis=1).droplevel(0, axis=1)\n",
    "y = df1['numeric']['precio_m2']"
   ]
  },
  {
   "cell_type": "code",
   "execution_count": 526,
   "metadata": {
    "ExecuteTime": {
     "end_time": "2020-05-20T09:50:22.389496Z",
     "start_time": "2020-05-20T09:50:22.297741Z"
    }
   },
   "outputs": [],
   "source": [
    "from sklearn.model_selection import train_test_split\n",
    "seed = 3891624866\n",
    "seed = 0\n",
    "\n",
    "np.random.seed(seed)\n",
    "X_train, X_test, y_train, y_test = train_test_split(\n",
    "    X, np.array(y), test_size=0.2)"
   ]
  },
  {
   "cell_type": "code",
   "execution_count": 527,
   "metadata": {
    "ExecuteTime": {
     "end_time": "2020-05-20T09:50:27.330372Z",
     "start_time": "2020-05-20T09:50:22.391491Z"
    }
   },
   "outputs": [
    {
     "name": "stdout",
     "output_type": "stream",
     "text": [
      "Iter:002 Alpha :0.00000 Beta :0.00000 Tiempo/iter:1.86114s"
     ]
    },
    {
     "ename": "KeyboardInterrupt",
     "evalue": "",
     "output_type": "error",
     "traceback": [
      "\u001b[1;31m---------------------------------------------------------------------------\u001b[0m",
      "\u001b[1;31mKeyboardInterrupt\u001b[0m                         Traceback (most recent call last)",
      "\u001b[1;32m<ipython-input-527-51922d58a2d3>\u001b[0m in \u001b[0;36m<module>\u001b[1;34m\u001b[0m\n\u001b[0;32m     23\u001b[0m \u001b[1;33m\u001b[0m\u001b[0m\n\u001b[0;32m     24\u001b[0m \u001b[1;33m\u001b[0m\u001b[0m\n\u001b[1;32m---> 25\u001b[1;33m \u001b[0mregressor\u001b[0m\u001b[1;33m.\u001b[0m\u001b[0mfit\u001b[0m\u001b[1;33m(\u001b[0m\u001b[0mX_train\u001b[0m\u001b[1;33m,\u001b[0m \u001b[0my_train\u001b[0m\u001b[1;33m)\u001b[0m\u001b[1;33m\u001b[0m\u001b[1;33m\u001b[0m\u001b[0m\n\u001b[0m",
      "\u001b[1;32m~\\anaconda3\\lib\\site-packages\\sklearn\\pipeline.py\u001b[0m in \u001b[0;36mfit\u001b[1;34m(self, X, y, **fit_params)\u001b[0m\n\u001b[0;32m    352\u001b[0m                                  self._log_message(len(self.steps) - 1)):\n\u001b[0;32m    353\u001b[0m             \u001b[1;32mif\u001b[0m \u001b[0mself\u001b[0m\u001b[1;33m.\u001b[0m\u001b[0m_final_estimator\u001b[0m \u001b[1;33m!=\u001b[0m \u001b[1;34m'passthrough'\u001b[0m\u001b[1;33m:\u001b[0m\u001b[1;33m\u001b[0m\u001b[1;33m\u001b[0m\u001b[0m\n\u001b[1;32m--> 354\u001b[1;33m                 \u001b[0mself\u001b[0m\u001b[1;33m.\u001b[0m\u001b[0m_final_estimator\u001b[0m\u001b[1;33m.\u001b[0m\u001b[0mfit\u001b[0m\u001b[1;33m(\u001b[0m\u001b[0mXt\u001b[0m\u001b[1;33m,\u001b[0m \u001b[0my\u001b[0m\u001b[1;33m,\u001b[0m \u001b[1;33m**\u001b[0m\u001b[0mfit_params\u001b[0m\u001b[1;33m)\u001b[0m\u001b[1;33m\u001b[0m\u001b[1;33m\u001b[0m\u001b[0m\n\u001b[0m\u001b[0;32m    355\u001b[0m         \u001b[1;32mreturn\u001b[0m \u001b[0mself\u001b[0m\u001b[1;33m\u001b[0m\u001b[1;33m\u001b[0m\u001b[0m\n\u001b[0;32m    356\u001b[0m \u001b[1;33m\u001b[0m\u001b[0m\n",
      "\u001b[1;32m<ipython-input-521-cd3300a36ef7>\u001b[0m in \u001b[0;36mfit\u001b[1;34m(self, X, y)\u001b[0m\n\u001b[0;32m     29\u001b[0m         \u001b[1;32mfor\u001b[0m \u001b[0mi\u001b[0m \u001b[1;32min\u001b[0m \u001b[0mrange\u001b[0m\u001b[1;33m(\u001b[0m\u001b[0mself\u001b[0m\u001b[1;33m.\u001b[0m\u001b[0mmaxiter\u001b[0m\u001b[1;33m)\u001b[0m\u001b[1;33m:\u001b[0m\u001b[1;33m\u001b[0m\u001b[1;33m\u001b[0m\u001b[0m\n\u001b[0;32m     30\u001b[0m             \u001b[0mt0\u001b[0m \u001b[1;33m=\u001b[0m \u001b[0mtime\u001b[0m\u001b[1;33m.\u001b[0m\u001b[0mtime\u001b[0m\u001b[1;33m(\u001b[0m\u001b[1;33m)\u001b[0m\u001b[1;33m\u001b[0m\u001b[1;33m\u001b[0m\u001b[0m\n\u001b[1;32m---> 31\u001b[1;33m             \u001b[0meigen_values\u001b[0m\u001b[1;33m,\u001b[0m \u001b[0m_\u001b[0m \u001b[1;33m=\u001b[0m \u001b[0meig\u001b[0m\u001b[1;33m(\u001b[0m\u001b[0mself\u001b[0m\u001b[1;33m.\u001b[0m\u001b[0mbeta\u001b[0m \u001b[1;33m*\u001b[0m \u001b[0mmatmul\u001b[0m\u001b[1;33m(\u001b[0m\u001b[0mX\u001b[0m\u001b[1;33m.\u001b[0m\u001b[0mT\u001b[0m\u001b[1;33m,\u001b[0m \u001b[0mX\u001b[0m\u001b[1;33m)\u001b[0m\u001b[1;33m)\u001b[0m\u001b[1;33m\u001b[0m\u001b[1;33m\u001b[0m\u001b[0m\n\u001b[0m\u001b[0;32m     32\u001b[0m             \u001b[0meigen_values\u001b[0m \u001b[1;33m=\u001b[0m \u001b[0mnp\u001b[0m\u001b[1;33m.\u001b[0m\u001b[0mreal_if_close\u001b[0m\u001b[1;33m(\u001b[0m\u001b[0meigen_values\u001b[0m\u001b[1;33m)\u001b[0m\u001b[1;33m\u001b[0m\u001b[1;33m\u001b[0m\u001b[0m\n\u001b[0;32m     33\u001b[0m             \u001b[0mgamma\u001b[0m \u001b[1;33m=\u001b[0m \u001b[1;33m(\u001b[0m\u001b[0meigen_values\u001b[0m\u001b[1;33m/\u001b[0m\u001b[1;33m(\u001b[0m\u001b[0mself\u001b[0m\u001b[1;33m.\u001b[0m\u001b[0malpha\u001b[0m \u001b[1;33m+\u001b[0m \u001b[0meigen_values\u001b[0m\u001b[1;33m)\u001b[0m\u001b[1;33m)\u001b[0m\u001b[1;33m.\u001b[0m\u001b[0msum\u001b[0m\u001b[1;33m(\u001b[0m\u001b[1;33m)\u001b[0m\u001b[1;33m\u001b[0m\u001b[1;33m\u001b[0m\u001b[0m\n",
      "\u001b[1;31mKeyboardInterrupt\u001b[0m: "
     ]
    }
   ],
   "source": [
    "from sklearn.pipeline import Pipeline\n",
    "from sklearn.preprocessing import StandardScaler, MinMaxScaler, OneHotEncoder, PolynomialFeatures\n",
    "from sklearn.compose import ColumnTransformer\n",
    "from sklearn.impute import SimpleImputer\n",
    "\n",
    "\n",
    "numeric_transformer = Pipeline(steps=[('imputer', SimpleImputer()),\n",
    "                                      #('StandarScaler', StandardScaler()),\n",
    "                                      ('MinMaxScaler', MinMaxScaler()),\n",
    "                                      ('PolynomialFeatures', PolynomialFeatures(degree=3))])\n",
    "\n",
    "\n",
    "categorical_transformer = Pipeline(steps=[('imputer', SimpleImputer(strategy='constant', fill_value='Nan')),\n",
    "                                          ('onehot', OneHotEncoder(handle_unknown='ignore', sparse=False))])\n",
    "\n",
    "preprocessor = ColumnTransformer(transformers=[('num', numeric_transformer, numeric),\n",
    "                                               ('cat', categorical_transformer, categorical)])\n",
    "\n",
    "\n",
    "regressor = Pipeline(steps=[('preprocessor', preprocessor),\n",
    "                            ('classifier', RegresionBayesianaEmpirica(\n",
    "                                alpha_0=1e-8, beta_0=1e-8, tol=1e-14, maxiter=300))])\n",
    "\n",
    "\n",
    "regressor.fit(X_train, y_train)"
   ]
  },
  {
   "cell_type": "code",
   "execution_count": null,
   "metadata": {
    "ExecuteTime": {
     "end_time": "2020-05-20T09:50:27.334361Z",
     "start_time": "2020-05-20T09:50:21.866Z"
    }
   },
   "outputs": [],
   "source": [
    "from sklearn.metrics import r2_score, mean_squared_error\n",
    "\n",
    "Y_pred = regressor.predict(X_test)\n",
    "r2 = r2_score(y_test, Y_pred)\n",
    "rmse = mean_squared_error(y_test, Y_pred, squared=False)\n",
    "print('   RMSE: {0:.3f}'.format(rmse))\n",
    "print('R2Score: {0:.3f}'.format(r2))"
   ]
  },
  {
   "cell_type": "markdown",
   "metadata": {},
   "source": [
    "Guardamos el modelo"
   ]
  },
  {
   "cell_type": "code",
   "execution_count": null,
   "metadata": {
    "ExecuteTime": {
     "end_time": "2020-05-20T09:50:27.343337Z",
     "start_time": "2020-05-20T09:50:22.159Z"
    }
   },
   "outputs": [],
   "source": [
    "import pickle\n",
    "filename = '0445.sav'\n",
    "#pickle.dump(regressor, open(filename, 'wb'))"
   ]
  },
  {
   "cell_type": "code",
   "execution_count": null,
   "metadata": {
    "ExecuteTime": {
     "end_time": "2020-05-20T09:50:27.346330Z",
     "start_time": "2020-05-20T09:50:22.165Z"
    }
   },
   "outputs": [],
   "source": [
    "loaded_model = pickle.load(open(filename, 'rb'))\n",
    "result = loaded_model.score(X_train, y_train)\n",
    "print(result)"
   ]
  },
  {
   "cell_type": "markdown",
   "metadata": {},
   "source": [
    "Bayesian Ridge regression"
   ]
  },
  {
   "cell_type": "code",
   "execution_count": null,
   "metadata": {
    "ExecuteTime": {
     "end_time": "2020-05-20T09:50:27.349321Z",
     "start_time": "2020-05-20T09:50:22.483Z"
    }
   },
   "outputs": [],
   "source": [
    "from sklearn.linear_model import BayesianRidge\n",
    "c = 1e-08\n",
    "\n",
    "bayesian_ridge_regressor = Pipeline(steps=[('preprocessor', preprocessor),\n",
    "                                           ('classifier', BayesianRidge(alpha_1=c,\n",
    "                                                                        alpha_2=c,\n",
    "                                                                        lambda_1=c,\n",
    "                                                                        lambda_2=c))])\n",
    "bayesian_ridge_regressor.fit(X_train, y_train)"
   ]
  },
  {
   "cell_type": "code",
   "execution_count": null,
   "metadata": {
    "ExecuteTime": {
     "end_time": "2020-05-20T09:50:27.351317Z",
     "start_time": "2020-05-20T09:50:22.487Z"
    }
   },
   "outputs": [],
   "source": [
    "Y_pred = bayesian_ridge_regressor.predict(X_test)\n",
    "r2 = r2_score(y_test, Y_pred)\n",
    "rmse = mean_squared_error(y_test, Y_pred, squared=True)\n",
    "print('   RMSE: {0:.3f}'.format(rmse))\n",
    "print('R2Score: {0:.3f}'.format(r2))"
   ]
  },
  {
   "cell_type": "code",
   "execution_count": null,
   "metadata": {},
   "outputs": [],
   "source": []
  }
 ],
 "metadata": {
  "kernelspec": {
   "display_name": "Python 3",
   "language": "python",
   "name": "python3"
  },
  "language_info": {
   "codemirror_mode": {
    "name": "ipython",
    "version": 3
   },
   "file_extension": ".py",
   "mimetype": "text/x-python",
   "name": "python",
   "nbconvert_exporter": "python",
   "pygments_lexer": "ipython3",
   "version": "3.7.6"
  },
  "latex_envs": {
   "LaTeX_envs_menu_present": true,
   "autoclose": false,
   "autocomplete": true,
   "bibliofile": "biblio.bib",
   "cite_by": "apalike",
   "current_citInitial": 1,
   "eqLabelWithNumbers": true,
   "eqNumInitial": 1,
   "hotkeys": {
    "equation": "Ctrl-E",
    "itemize": "Ctrl-I"
   },
   "labels_anchors": false,
   "latex_user_defs": false,
   "report_style_numbering": false,
   "user_envs_cfg": false
  },
  "notify_time": "30",
  "toc": {
   "base_numbering": 1,
   "nav_menu": {},
   "number_sections": true,
   "sideBar": true,
   "skip_h1_title": false,
   "title_cell": "Table of Contents",
   "title_sidebar": "Contents",
   "toc_cell": false,
   "toc_position": {},
   "toc_section_display": true,
   "toc_window_display": false
  }
 },
 "nbformat": 4,
 "nbformat_minor": 4
}
